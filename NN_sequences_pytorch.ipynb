{
 "cells": [
  {
   "cell_type": "code",
   "execution_count": 1,
   "metadata": {},
   "outputs": [
    {
     "name": "stdout",
     "output_type": "stream",
     "text": [
      "Using device: cuda\n"
     ]
    }
   ],
   "source": [
    "import os\n",
    "import torch\n",
    "from torch.utils.data import Dataset, DataLoader\n",
    "import numpy as np\n",
    "import pandas as pd\n",
    "from sklearn.model_selection import train_test_split\n",
    "from tqdm import tqdm\n",
    "import matplotlib.pyplot as plt\n",
    "\n",
    "device = torch.device('cuda' if torch.cuda.is_available() else 'cpu')\n",
    "print(f\"Using device: {device}\")"
   ]
  },
  {
   "cell_type": "markdown",
   "metadata": {},
   "source": [
    "# Data Preprocessing"
   ]
  },
  {
   "cell_type": "code",
   "execution_count": 2,
   "metadata": {},
   "outputs": [],
   "source": [
    "# Load interaction data\n",
    "interaction_pairs = []\n",
    "with open('interactions_data.txt', 'r') as file:\n",
    "    for line in file:\n",
    "        pdb_id1, pdb_id2, interaction = line.strip().split()\n",
    "        interaction_pairs.append((pdb_id1.upper(), pdb_id2.upper(), int(interaction)))"
   ]
  },
  {
   "cell_type": "code",
   "execution_count": 3,
   "metadata": {},
   "outputs": [],
   "source": [
    "# Load protein sequences\n",
    "sequences_df = pd.read_csv('pdb_sequences_success.csv')\n",
    "\n",
    "# Create a dictionary mapping from (pdb_id, chain_id) to sequence\n",
    "sequence_dict = {}\n",
    "for index, row in sequences_df.iterrows():\n",
    "    key = (row['pdb_id'], row['chain_id'])\n",
    "    sequence = row['sequence']\n",
    "    sequence_dict[key] = sequence\n",
    "\n",
    "# Update filtered_sequence_dict to map pdb_id to the smallest sequence\n",
    "sequence_dict_pdb_only = {}\n",
    "\n",
    "for key, sequence in sequence_dict.items():\n",
    "    pdb_id, chain_id = key\n",
    "    if pdb_id not in sequence_dict_pdb_only:\n",
    "        sequence_dict_pdb_only[pdb_id] = sequence\n",
    "    else:\n",
    "        if len(sequence) < len(sequence_dict_pdb_only[pdb_id]):\n",
    "            sequence_dict_pdb_only[pdb_id] = sequence\n",
    "\n",
    "# Filter pairs where both sequences are available and valid\n",
    "filtered_pairs = []\n",
    "missing_or_invalid_sequences = []\n",
    "\n",
    "for pdb_id1, pdb_id2, interaction in interaction_pairs:\n",
    "    if pdb_id1 in sequence_dict_pdb_only and pdb_id2 in sequence_dict_pdb_only:\n",
    "        filtered_pairs.append((pdb_id1, pdb_id2, interaction))\n",
    "    else:\n",
    "        missing_or_invalid_sequences.append((pdb_id1, pdb_id2))"
   ]
  },
  {
   "cell_type": "code",
   "execution_count": 4,
   "metadata": {},
   "outputs": [
    {
     "name": "stdout",
     "output_type": "stream",
     "text": [
      "Maximum sequence length: 4646\n"
     ]
    }
   ],
   "source": [
    "# Standard amino acids, including 'X' for unknowns\n",
    "amino_acids = 'ACDEFGHIKLMNPQRSTVWYX'\n",
    "\n",
    "# Create amino acid to integer mapping, starting from 1 to reserve 0 for padding\n",
    "aa_to_int = {aa: idx + 1 for idx, aa in enumerate(amino_acids)}\n",
    "aa_to_int['<PAD>'] = 0  # Add a padding token mapped to 0\n",
    "\n",
    "def integer_encode_sequence(sequence, max_length):\n",
    "    # Map amino acids to integers\n",
    "    int_sequence = [aa_to_int.get(aa, aa_to_int['X']) for aa in sequence[:max_length]]\n",
    "    # Pad with zeros if sequence is shorter than max_length\n",
    "    padding_length = max_length - len(int_sequence)\n",
    "    if padding_length > 0:\n",
    "        int_sequence += [aa_to_int['<PAD>']] * padding_length  # 0 is the padding index\n",
    "    return int_sequence\n",
    "\n",
    "sequence_lengths = [len(seq) for seq in sequence_dict_pdb_only.values()]\n",
    "max_sequence_length = max(sequence_lengths)\n",
    "print(f\"Maximum sequence length: {max_sequence_length}\")"
   ]
  },
  {
   "cell_type": "code",
   "execution_count": 5,
   "metadata": {},
   "outputs": [
    {
     "name": "stderr",
     "output_type": "stream",
     "text": [
      "Processing pairs: 100%|██████████| 9806/9806 [00:01<00:00, 6073.16it/s]\n"
     ]
    },
    {
     "name": "stdout",
     "output_type": "stream",
     "text": [
      "Input data shape: (9806, 9292)\n",
      "Labels shape: (9806,)\n",
      "Total pairs processed: 9806\n"
     ]
    }
   ],
   "source": [
    "X = []\n",
    "y = []\n",
    "\n",
    "for pdb_id1, pdb_id2, interaction in tqdm(filtered_pairs, desc=\"Processing pairs\"):\n",
    "    seq1 = sequence_dict_pdb_only[pdb_id1]\n",
    "    seq2 = sequence_dict_pdb_only[pdb_id2]\n",
    "    \n",
    "    # Integer encode sequences\n",
    "    int_seq1 = integer_encode_sequence(seq1, max_sequence_length)\n",
    "    int_seq2 = integer_encode_sequence(seq2, max_sequence_length)\n",
    "    \n",
    "    # Combine the two sequences\n",
    "    combined_sequence = int_seq1 + int_seq2  # Concatenate the integer sequences\n",
    "    \n",
    "    X.append(combined_sequence)\n",
    "    y.append(interaction)\n",
    "\n",
    "X = np.array(X)\n",
    "y = np.array(y)\n",
    "\n",
    "print(f\"Input data shape: {X.shape}\")\n",
    "print(f\"Labels shape: {y.shape}\")\n",
    "print(f\"Total pairs processed: {len(X)}\")\n"
   ]
  },
  {
   "cell_type": "markdown",
   "metadata": {},
   "source": [
    "# Dataset and DataLoader\n"
   ]
  },
  {
   "cell_type": "code",
   "execution_count": 6,
   "metadata": {},
   "outputs": [],
   "source": [
    "class ProteinInteractionDataset(Dataset):\n",
    "    def __init__(self, X, y):\n",
    "        self.X = torch.tensor(X, dtype=torch.float32)\n",
    "        self.y = torch.tensor(y, dtype=torch.float32)\n",
    "    \n",
    "    def __len__(self):\n",
    "        return len(self.X)\n",
    "    \n",
    "    def __getitem__(self, idx):\n",
    "        x = self.X[idx]\n",
    "        y = self.y[idx]\n",
    "        return x, y"
   ]
  },
  {
   "cell_type": "code",
   "execution_count": 7,
   "metadata": {},
   "outputs": [
    {
     "name": "stdout",
     "output_type": "stream",
     "text": [
      "Training examples: 7844\n",
      "Validation examples: 981\n",
      "Test examples: 981\n",
      "Train Set - Positive Examples: 3913, Negative Examples: 3931\n",
      "Validation Set - Positive Examples: 486, Negative Examples: 495\n",
      "Test Set - Positive Examples: 519, Negative Examples: 462\n"
     ]
    }
   ],
   "source": [
    "# Split the data into train, dev, and test sets\n",
    "X_train, X_temp, y_train, y_temp = train_test_split(X, y, test_size=0.2, random_state=42)  # 80% train\n",
    "X_val, X_test, y_val, y_test = train_test_split(X_temp, y_temp, test_size=0.5, random_state=42)  # 10% val, 10% test\n",
    "\n",
    "print(f\"Training examples: {len(X_train)}\")\n",
    "print(f\"Validation examples: {len(X_val)}\")\n",
    "print(f\"Test examples: {len(X_test)}\")\n",
    "\n",
    "batch_size = 32\n",
    "\n",
    "# Create datasets\n",
    "train_dataset = ProteinInteractionDataset(X_train, y_train)\n",
    "val_dataset = ProteinInteractionDataset(X_val, y_val)\n",
    "test_dataset = ProteinInteractionDataset(X_test, y_test)\n",
    "\n",
    "def log_positive_negative_counts(y_set, set_name):\n",
    "    pos_count = np.sum(y_set)\n",
    "    neg_count = len(y_set) - pos_count\n",
    "    print(f\"{set_name} Set - Positive Examples: {int(pos_count)}, Negative Examples: {int(neg_count)}\")\n",
    "\n",
    "# Log counts\n",
    "log_positive_negative_counts(y_train, \"Train\")\n",
    "log_positive_negative_counts(y_val, \"Validation\")\n",
    "log_positive_negative_counts(y_test, \"Test\")\n",
    "\n",
    "\n",
    "# Create DataLoaders\n",
    "train_loader = DataLoader(train_dataset, batch_size=batch_size, shuffle=True)\n",
    "val_loader = DataLoader(val_dataset, batch_size=batch_size)\n",
    "test_loader = DataLoader(test_dataset, batch_size=batch_size)\n"
   ]
  },
  {
   "cell_type": "markdown",
   "metadata": {},
   "source": [
    "# Model Definition"
   ]
  },
  {
   "cell_type": "code",
   "execution_count": 8,
   "metadata": {},
   "outputs": [
    {
     "name": "stdout",
     "output_type": "stream",
     "text": [
      "Input dimension: 9292\n"
     ]
    }
   ],
   "source": [
    "input_dim = X_train.shape[1]\n",
    "print(f\"Input dimension: {input_dim}\")"
   ]
  },
  {
   "cell_type": "code",
   "execution_count": 9,
   "metadata": {},
   "outputs": [],
   "source": [
    "# import torch.nn as nn\n",
    "\n",
    "# class PPIClassifier(nn.Module):\n",
    "#     def __init__(self, input_dim):\n",
    "#         super(PPIClassifier, self).__init__()\n",
    "#         self.fc1 = nn.Linear(input_dim, 512)\n",
    "#         self.relu1 = nn.ReLU()\n",
    "#         self.dropout1 = nn.Dropout(0.5)\n",
    "#         self.fc2 = nn.Linear(512, 256)\n",
    "#         self.relu2 = nn.ReLU()\n",
    "#         self.dropout2 = nn.Dropout(0.5)\n",
    "#         self.fc3 = nn.Linear(256, 1)\n",
    "#         self.sigmoid = nn.Sigmoid()  # For binary classification\n",
    "    \n",
    "#     def forward(self, x):\n",
    "#         x = self.fc1(x)\n",
    "#         x = self.relu1(x)\n",
    "#         x = self.dropout1(x)\n",
    "#         x = self.fc2(x)\n",
    "#         x = self.relu2(x)\n",
    "#         x = self.dropout2(x)\n",
    "#         x = self.fc3(x)\n",
    "#         x = self.sigmoid(x)\n",
    "#         return x\n",
    "\n",
    "import torch\n",
    "import torch.nn as nn\n",
    "\n",
    "class PPIClassifier(nn.Module):\n",
    "    def __init__(self, input_dim):\n",
    "        super(PPIClassifier, self).__init__()\n",
    "        \n",
    "        self.layer1 = nn.Sequential(\n",
    "            nn.Linear(input_dim, 1024),\n",
    "            nn.BatchNorm1d(1024),\n",
    "            nn.LeakyReLU(0.1),\n",
    "            nn.Dropout(0.5)\n",
    "        )\n",
    "        \n",
    "        self.layer2 = nn.Sequential(\n",
    "            nn.Linear(1024, 512),\n",
    "            nn.BatchNorm1d(512),\n",
    "            nn.LeakyReLU(0.1),\n",
    "            nn.Dropout(0.5)\n",
    "        )\n",
    "        \n",
    "        self.layer3 = nn.Sequential(\n",
    "            nn.Linear(512, 256),\n",
    "            nn.BatchNorm1d(256),\n",
    "            nn.LeakyReLU(0.1),\n",
    "            nn.Dropout(0.5)\n",
    "        )\n",
    "        \n",
    "        self.layer4 = nn.Sequential(\n",
    "            nn.Linear(256, 128),\n",
    "            nn.BatchNorm1d(128),\n",
    "            nn.LeakyReLU(0.1),\n",
    "            nn.Dropout(0.5)\n",
    "        )\n",
    "        \n",
    "        self.layer5 = nn.Sequential(\n",
    "            nn.Linear(128, 64),\n",
    "            nn.BatchNorm1d(64),\n",
    "            nn.LeakyReLU(0.1),\n",
    "            nn.Dropout(0.5)\n",
    "        )\n",
    "        \n",
    "        self.output_layer = nn.Sequential(\n",
    "            nn.Linear(64, 1),\n",
    "            nn.Sigmoid()  # For binary classification\n",
    "        )\n",
    "    \n",
    "    def forward(self, x):\n",
    "        x = self.layer1(x)\n",
    "        x = self.layer2(x)\n",
    "        x = self.layer3(x)\n",
    "        x = self.layer4(x)\n",
    "        x = self.layer5(x)\n",
    "        x = self.output_layer(x)\n",
    "        return x\n"
   ]
  },
  {
   "cell_type": "code",
   "execution_count": 10,
   "metadata": {},
   "outputs": [
    {
     "name": "stdout",
     "output_type": "stream",
     "text": [
      "PPIClassifier(\n",
      "  (layer1): Sequential(\n",
      "    (0): Linear(in_features=9292, out_features=1024, bias=True)\n",
      "    (1): BatchNorm1d(1024, eps=1e-05, momentum=0.1, affine=True, track_running_stats=True)\n",
      "    (2): LeakyReLU(negative_slope=0.1)\n",
      "    (3): Dropout(p=0.5, inplace=False)\n",
      "  )\n",
      "  (layer2): Sequential(\n",
      "    (0): Linear(in_features=1024, out_features=512, bias=True)\n",
      "    (1): BatchNorm1d(512, eps=1e-05, momentum=0.1, affine=True, track_running_stats=True)\n",
      "    (2): LeakyReLU(negative_slope=0.1)\n",
      "    (3): Dropout(p=0.5, inplace=False)\n",
      "  )\n",
      "  (layer3): Sequential(\n",
      "    (0): Linear(in_features=512, out_features=256, bias=True)\n",
      "    (1): BatchNorm1d(256, eps=1e-05, momentum=0.1, affine=True, track_running_stats=True)\n",
      "    (2): LeakyReLU(negative_slope=0.1)\n",
      "    (3): Dropout(p=0.5, inplace=False)\n",
      "  )\n",
      "  (layer4): Sequential(\n",
      "    (0): Linear(in_features=256, out_features=128, bias=True)\n",
      "    (1): BatchNorm1d(128, eps=1e-05, momentum=0.1, affine=True, track_running_stats=True)\n",
      "    (2): LeakyReLU(negative_slope=0.1)\n",
      "    (3): Dropout(p=0.5, inplace=False)\n",
      "  )\n",
      "  (layer5): Sequential(\n",
      "    (0): Linear(in_features=128, out_features=64, bias=True)\n",
      "    (1): BatchNorm1d(64, eps=1e-05, momentum=0.1, affine=True, track_running_stats=True)\n",
      "    (2): LeakyReLU(negative_slope=0.1)\n",
      "    (3): Dropout(p=0.5, inplace=False)\n",
      "  )\n",
      "  (output_layer): Sequential(\n",
      "    (0): Linear(in_features=64, out_features=1, bias=True)\n",
      "    (1): Sigmoid()\n",
      "  )\n",
      ")\n"
     ]
    }
   ],
   "source": [
    "model = PPIClassifier(input_dim).to(device)\n",
    "print(model)"
   ]
  },
  {
   "cell_type": "code",
   "execution_count": 11,
   "metadata": {},
   "outputs": [],
   "source": [
    "model = PPIClassifier(input_dim).to(device)\n",
    "criterion = nn.BCELoss()  # Binary Cross Entropy Loss\n",
    "optimizer = torch.optim.Adam(model.parameters(), lr=0.001)\n"
   ]
  },
  {
   "cell_type": "code",
   "execution_count": 12,
   "metadata": {},
   "outputs": [
    {
     "name": "stdout",
     "output_type": "stream",
     "text": [
      "Epoch 1/20 - Train Loss: 0.6945, Train Acc: 0.5352, Val Loss: 0.6279, Val Acc: 0.6330\n",
      "Epoch 2/20 - Train Loss: 0.4417, Train Acc: 0.7940, Val Loss: 0.3092, Val Acc: 0.8705\n",
      "Epoch 3/20 - Train Loss: 0.3030, Train Acc: 0.8757, Val Loss: 0.3437, Val Acc: 0.8563\n",
      "Epoch 4/20 - Train Loss: 0.2518, Train Acc: 0.9035, Val Loss: 0.2418, Val Acc: 0.9174\n",
      "Epoch 5/20 - Train Loss: 0.2294, Train Acc: 0.9082, Val Loss: 0.1735, Val Acc: 0.9480\n",
      "Epoch 6/20 - Train Loss: 0.2179, Train Acc: 0.9157, Val Loss: 0.1814, Val Acc: 0.9358\n",
      "Epoch 7/20 - Train Loss: 0.1923, Train Acc: 0.9292, Val Loss: 0.3133, Val Acc: 0.8461\n",
      "Epoch 8/20 - Train Loss: 0.1896, Train Acc: 0.9282, Val Loss: 0.4578, Val Acc: 0.7839\n",
      "Epoch 9/20 - Train Loss: 0.1792, Train Acc: 0.9338, Val Loss: 0.3646, Val Acc: 0.8287\n",
      "Epoch 10/20 - Train Loss: 0.1691, Train Acc: 0.9360, Val Loss: 0.1776, Val Acc: 0.9551\n",
      "Epoch 11/20 - Train Loss: 0.1658, Train Acc: 0.9380, Val Loss: 0.1624, Val Acc: 0.9490\n",
      "Epoch 12/20 - Train Loss: 0.1670, Train Acc: 0.9384, Val Loss: 0.2018, Val Acc: 0.9388\n",
      "Epoch 13/20 - Train Loss: 0.1665, Train Acc: 0.9373, Val Loss: 0.1696, Val Acc: 0.9511\n",
      "Epoch 14/20 - Train Loss: 0.1419, Train Acc: 0.9454, Val Loss: 0.2781, Val Acc: 0.8624\n",
      "Epoch 15/20 - Train Loss: 0.1511, Train Acc: 0.9433, Val Loss: 0.3036, Val Acc: 0.8573\n",
      "Epoch 16/20 - Train Loss: 0.1299, Train Acc: 0.9527, Val Loss: 0.1228, Val Acc: 0.9613\n",
      "Epoch 17/20 - Train Loss: 0.1425, Train Acc: 0.9473, Val Loss: 0.1651, Val Acc: 0.9541\n",
      "Epoch 18/20 - Train Loss: 0.1213, Train Acc: 0.9564, Val Loss: 0.1319, Val Acc: 0.9664\n",
      "Epoch 19/20 - Train Loss: 0.1264, Train Acc: 0.9524, Val Loss: 0.1445, Val Acc: 0.9664\n",
      "Epoch 20/20 - Train Loss: 0.1242, Train Acc: 0.9539, Val Loss: 0.2700, Val Acc: 0.8573\n"
     ]
    }
   ],
   "source": [
    "# num_epochs = 20\n",
    "\n",
    "# for epoch in range(num_epochs):\n",
    "#     # Training Phase\n",
    "#     model.train()\n",
    "#     train_loss = 0.0\n",
    "#     correct = 0\n",
    "#     total = 0\n",
    "    \n",
    "#     for inputs, labels in train_loader:\n",
    "#         inputs = inputs.to(device)\n",
    "#         labels = labels.to(device).unsqueeze(1)  # Reshape labels to (batch_size, 1)\n",
    "        \n",
    "#         # Zero the parameter gradients\n",
    "#         optimizer.zero_grad()\n",
    "        \n",
    "#         # Forward pass\n",
    "#         outputs = model(inputs)\n",
    "#         loss = criterion(outputs, labels)\n",
    "        \n",
    "#         # Backward pass and optimization\n",
    "#         loss.backward()\n",
    "#         optimizer.step()\n",
    "        \n",
    "#         # Statistics\n",
    "#         train_loss += loss.item() * inputs.size(0)\n",
    "#         predicted = (outputs >= 0.5).float()\n",
    "#         correct += (predicted == labels).sum().item()\n",
    "#         total += labels.size(0)\n",
    "    \n",
    "#     # Calculate average loss and accuracy\n",
    "#     train_loss /= len(train_dataset)\n",
    "#     train_acc = correct / total\n",
    "    \n",
    "#     # Validation Phase\n",
    "#     model.eval()\n",
    "#     val_loss = 0.0\n",
    "#     correct = 0\n",
    "#     total = 0\n",
    "    \n",
    "#     with torch.no_grad():\n",
    "#         for inputs, labels in val_loader:\n",
    "#             inputs = inputs.to(device)\n",
    "#             labels = labels.to(device).unsqueeze(1)\n",
    "            \n",
    "#             outputs = model(inputs)\n",
    "#             loss = criterion(outputs, labels)\n",
    "            \n",
    "#             val_loss += loss.item() * inputs.size(0)\n",
    "#             predicted = (outputs >= 0.5).float()\n",
    "#             correct += (predicted == labels).sum().item()\n",
    "#             total += labels.size(0)\n",
    "    \n",
    "#     val_loss /= len(val_dataset)\n",
    "#     val_acc = correct / total\n",
    "    \n",
    "#     print(f\"Epoch {epoch+1}/{num_epochs} - \"\n",
    "#           f\"Train Loss: {train_loss:.4f}, Train Acc: {train_acc:.4f}, \"\n",
    "#           f\"Val Loss: {val_loss:.4f}, Val Acc: {val_acc:.4f}\")\n",
    "\n",
    "\n",
    "import matplotlib.pyplot as plt\n",
    "\n",
    "def plot_training_history(train_losses, val_losses, train_accuracies, val_accuracies):\n",
    "    epochs = range(1, len(train_losses) + 1)\n",
    "\n",
    "    # Plot Loss\n",
    "    plt.figure(figsize=(12, 6))\n",
    "    plt.subplot(1, 2, 1)\n",
    "    plt.plot(epochs, train_losses, label='Train Loss', color='blue')\n",
    "    plt.plot(epochs, val_losses, label='Validation Loss', color='red')\n",
    "    plt.xlabel('Epochs')\n",
    "    plt.ylabel('Loss')\n",
    "    plt.title('Training and Validation Loss')\n",
    "    plt.legend()\n",
    "\n",
    "    # Plot Accuracy\n",
    "    plt.subplot(1, 2, 2)\n",
    "    plt.plot(epochs, train_accuracies, label='Train Accuracy', color='blue')\n",
    "    plt.plot(epochs, val_accuracies, label='Validation Accuracy', color='red')\n",
    "    plt.xlabel('Epochs')\n",
    "    plt.ylabel('Accuracy')\n",
    "    plt.title('Training and Validation Accuracy')\n",
    "    plt.legend()\n",
    "\n",
    "    plt.tight_layout()\n",
    "    plt.show()\n",
    "\n",
    "# Example of how to use this function during your training loop:\n",
    "train_losses = []\n",
    "val_losses = []\n",
    "train_accuracies = []\n",
    "val_accuracies = []\n",
    "\n",
    "\n",
    "num_epochs = 20\n",
    "\n",
    "# Inside the training loop\n",
    "for epoch in range(num_epochs):\n",
    "    # Training Phase\n",
    "    model.train()\n",
    "    train_loss = 0.0\n",
    "    correct = 0\n",
    "    total = 0\n",
    "    \n",
    "    for inputs, labels in train_loader:\n",
    "        inputs = inputs.to(device)\n",
    "        labels = labels.to(device).unsqueeze(1)  # Reshape labels to (batch_size, 1)\n",
    "        \n",
    "        # Zero the parameter gradients\n",
    "        optimizer.zero_grad()\n",
    "        \n",
    "        # Forward pass\n",
    "        outputs = model(inputs)\n",
    "        loss = criterion(outputs, labels)\n",
    "        \n",
    "        # Backward pass and optimization\n",
    "        loss.backward()\n",
    "        optimizer.step()\n",
    "        \n",
    "        # Statistics\n",
    "        train_loss += loss.item() * inputs.size(0)\n",
    "        predicted = (outputs >= 0.5).float()\n",
    "        correct += (predicted == labels).sum().item()\n",
    "        total += labels.size(0)\n",
    "    \n",
    "    # Calculate average loss and accuracy\n",
    "    train_loss /= len(train_dataset)\n",
    "    train_acc = correct / total\n",
    "    train_losses.append(train_loss)\n",
    "    train_accuracies.append(train_acc)\n",
    "    \n",
    "    # Validation Phase\n",
    "    model.eval()\n",
    "    val_loss = 0.0\n",
    "    correct = 0\n",
    "    total = 0\n",
    "    \n",
    "    with torch.no_grad():\n",
    "        for inputs, labels in val_loader:\n",
    "            inputs = inputs.to(device)\n",
    "            labels = labels.to(device).unsqueeze(1)\n",
    "            \n",
    "            outputs = model(inputs)\n",
    "            loss = criterion(outputs, labels)\n",
    "            \n",
    "            val_loss += loss.item() * inputs.size(0)\n",
    "            predicted = (outputs >= 0.5).float()\n",
    "            correct += (predicted == labels).sum().item()\n",
    "            total += labels.size(0)\n",
    "    \n",
    "    val_loss /= len(val_dataset)\n",
    "    val_acc = correct / total\n",
    "    val_losses.append(val_loss)\n",
    "    val_accuracies.append(val_acc)\n",
    "    \n",
    "    print(f\"Epoch {epoch+1}/{num_epochs} - \"\n",
    "          f\"Train Loss: {train_loss:.4f}, Train Acc: {train_acc:.4f}, \"\n",
    "          f\"Val Loss: {val_loss:.4f}, Val Acc: {val_acc:.4f}\")\n"
   ]
  },
  {
   "cell_type": "code",
   "execution_count": 13,
   "metadata": {},
   "outputs": [
    {
     "name": "stdout",
     "output_type": "stream",
     "text": [
      "Test Loss: 0.2415\n",
      "Test Accuracy: 0.8838\n"
     ]
    }
   ],
   "source": [
    "model.eval()\n",
    "test_loss = 0.0\n",
    "correct = 0\n",
    "total = 0\n",
    "\n",
    "with torch.no_grad():\n",
    "    for inputs, labels in test_loader:\n",
    "        inputs = inputs.to(device)\n",
    "        labels = labels.to(device).unsqueeze(1)\n",
    "        \n",
    "        outputs = model(inputs)\n",
    "        loss = criterion(outputs, labels)\n",
    "        \n",
    "        test_loss += loss.item() * inputs.size(0)\n",
    "        predicted = (outputs >= 0.5).float()\n",
    "        correct += (predicted == labels).sum().item()\n",
    "        total += labels.size(0)\n",
    "\n",
    "test_loss /= len(test_dataset)\n",
    "test_acc = correct / total\n",
    "\n",
    "print(f\"Test Loss: {test_loss:.4f}\")\n",
    "print(f\"Test Accuracy: {test_acc:.4f}\")"
   ]
  },
  {
   "cell_type": "code",
   "execution_count": 14,
   "metadata": {},
   "outputs": [
    {
     "name": "stdout",
     "output_type": "stream",
     "text": [
      "              precision    recall  f1-score   support\n",
      "\n",
      "         0.0     0.9860    0.7641    0.8610       462\n",
      "         1.0     0.8250    0.9904    0.9002       519\n",
      "\n",
      "    accuracy                         0.8838       981\n",
      "   macro avg     0.9055    0.8772    0.8806       981\n",
      "weighted avg     0.9009    0.8838    0.8817       981\n",
      "\n",
      "Confusion Matrix:\n",
      "[[353 109]\n",
      " [  5 514]]\n"
     ]
    }
   ],
   "source": [
    "from sklearn.metrics import classification_report, confusion_matrix\n",
    "\n",
    "# Collect all predictions and labels\n",
    "all_preds = []\n",
    "all_labels = []\n",
    "\n",
    "with torch.no_grad():\n",
    "    for inputs, labels in test_loader:\n",
    "        inputs = inputs.to(device)\n",
    "        labels = labels.to(device).unsqueeze(1)\n",
    "        \n",
    "        outputs = model(inputs)\n",
    "        predicted = (outputs >= 0.5).float()\n",
    "        \n",
    "        all_preds.extend(predicted.cpu().numpy())\n",
    "        all_labels.extend(labels.cpu().numpy())\n",
    "\n",
    "# Classification report\n",
    "print(classification_report(all_labels, all_preds, digits=4))\n",
    "\n",
    "# Confusion matrix\n",
    "cm = confusion_matrix(all_labels, all_preds)\n",
    "print(\"Confusion Matrix:\")\n",
    "print(cm)\n"
   ]
  },
  {
   "cell_type": "code",
   "execution_count": 15,
   "metadata": {},
   "outputs": [
    {
     "data": {
      "image/png": "[encoded data removed]",
      "text/plain": [
       "<Figure size 1200x600 with 2 Axes>"
      ]
     },
     "metadata": {},
     "output_type": "display_data"
    }
   ],
   "source": [
    "plot_training_history(train_losses, val_losses, train_accuracies, val_accuracies)"
   ]
  },
  {
   "cell_type": "code",
   "execution_count": null,
   "metadata": {},
   "outputs": [],
   "source": []
  }
 ],
 "metadata": {
  "kernelspec": {
   "display_name": "esm",
   "language": "python",
   "name": "python3"
  },
  "language_info": {
   "codemirror_mode": {
    "name": "ipython",
    "version": 3
   },
   "file_extension": ".py",
   "mimetype": "text/x-python",
   "name": "python",
   "nbconvert_exporter": "python",
   "pygments_lexer": "ipython3",
   "version": "3.10.15"
  }
 },
 "nbformat": 4,
 "nbformat_minor": 2
}
