{
 "cells": [
  {
   "cell_type": "markdown",
   "metadata": {},
   "source": []
  },
  {
   "cell_type": "markdown",
   "metadata": {},
   "source": [
    "# Data Preprocessing"
   ]
  },
  {
   "cell_type": "code",
   "execution_count": 1,
   "metadata": {},
   "outputs": [
    {
     "name": "stdout",
     "output_type": "stream",
     "text": [
      "Using device: cuda\n"
     ]
    }
   ],
   "source": [
    "import os\n",
    "import torch\n",
    "from torch.utils.data import Dataset, DataLoader\n",
    "import torch.nn as nn\n",
    "import torch.optim as optim\n",
    "import numpy as np\n",
    "from sklearn.metrics import accuracy_score, precision_score, recall_score, f1_score\n",
    "from sklearn.model_selection import train_test_split\n",
    "from tqdm import tqdm\n",
    "import matplotlib.pyplot as plt\n",
    "from Bio import SeqIO\n",
    "from copy import deepcopy\n",
    "\n",
    "# Set device\n",
    "if torch.cuda.is_available():\n",
    "    device = \"cuda\"\n",
    "elif torch.backends.mps.is_available():\n",
    "    device = \"mps\"\n",
    "else:\n",
    "    device = \"cpu\"\n",
    "\n",
    "print(f\"Using device: {device}\")"
   ]
  },
  {
   "cell_type": "markdown",
   "metadata": {},
   "source": [
    "### Load tensors from precomputed ESM embeddings folders"
   ]
  },
  {
   "cell_type": "code",
   "execution_count": 2,
   "metadata": {},
   "outputs": [
    {
     "name": "stderr",
     "output_type": "stream",
     "text": [
      "Loading positive_protein_embeddings: 100%|██████████| 6947/6947 [01:07<00:00, 102.57it/s]\n",
      "Loading negative_protein_embeddings: 100%|██████████| 6677/6677 [00:13<00:00, 488.15it/s]\n"
     ]
    }
   ],
   "source": [
    "def load_tensors_from_directory(directory):\n",
    "    tensors = []\n",
    "    try:\n",
    "        for filename in tqdm(os.listdir(directory), desc=f\"Loading {directory}\"):\n",
    "            file_path = os.path.join(directory, filename)\n",
    "            if os.path.isfile(file_path):\n",
    "                tensor = torch.load(file_path, weights_only=True)\n",
    "                tensors.append(tensor)\n",
    "        return torch.stack(tensors)\n",
    "    except Exception as e:\n",
    "        print(f\"Error reading directory {directory}: {e}\")\n",
    "        return None\n",
    "\n",
    "# Stack into tensors\n",
    "positive_embeddings = load_tensors_from_directory('positive_protein_embeddings')\n",
    "negative_embeddings = load_tensors_from_directory('negative_protein_embeddings')\n"
   ]
  },
  {
   "cell_type": "markdown",
   "metadata": {},
   "source": [
    "### Create Labeled Dataset"
   ]
  },
  {
   "cell_type": "code",
   "execution_count": 3,
   "metadata": {},
   "outputs": [
    {
     "name": "stdout",
     "output_type": "stream",
     "text": [
      "\n",
      "Combined embeddings shape: torch.Size([13624, 3072])\n",
      "Combined labels shape: torch.Size([13624])\n"
     ]
    }
   ],
   "source": [
    "# Create labels\n",
    "positive_labels = torch.ones(len(positive_embeddings))\n",
    "negative_labels = torch.zeros(len(negative_embeddings))\n",
    "\n",
    "# Combine embeddings with labels\n",
    "all_embeddings = torch.cat([positive_embeddings, negative_embeddings], dim=0)\n",
    "all_labels = torch.cat([positive_labels, negative_labels], dim=0)\n",
    "\n",
    "print(f\"\\nCombined embeddings shape: {all_embeddings.shape}\")\n",
    "print(f\"Combined labels shape: {all_labels.shape}\")"
   ]
  },
  {
   "cell_type": "markdown",
   "metadata": {},
   "source": [
    "### Create a 70/15/15 Train/Dev/Test split"
   ]
  },
  {
   "cell_type": "code",
   "execution_count": 4,
   "metadata": {},
   "outputs": [
    {
     "name": "stdout",
     "output_type": "stream",
     "text": [
      "\n",
      "Data split summary:\n",
      "Training set: 9536 samples\n",
      "  Positive: 4862 (51.0%)\n",
      "  Negative: 4674 (49.0%)\n",
      "\n",
      "Validation set: 2044 samples\n",
      "  Positive: 1043 (51.0%)\n",
      "  Negative: 1001 (49.0%)\n",
      "\n",
      "Test set: 2044 samples\n",
      "  Positive: 1042 (51.0%)\n",
      "  Negative: 1002 (49.0%)\n"
     ]
    }
   ],
   "source": [
    "# Split into train, validation, and test sets\n",
    "X_train, X_temp, y_train, y_temp = train_test_split(\n",
    "    all_embeddings,\n",
    "    all_labels,\n",
    "    test_size=0.3,\n",
    "    random_state=42,\n",
    "    stratify=all_labels\n",
    ")\n",
    "\n",
    "X_val, X_test, y_val, y_test = train_test_split(\n",
    "    X_temp,\n",
    "    y_temp,\n",
    "    test_size=0.5,\n",
    "    random_state=42,\n",
    "    stratify=y_temp\n",
    ")\n",
    "\n",
    "# Move to device and ensure correct dtype\n",
    "X_train = X_train.float().to(device)\n",
    "X_val = X_val.float().to(device)\n",
    "X_test = X_test.float().to(device)\n",
    "y_train = y_train.long().to(device)\n",
    "y_val = y_val.long().to(device)\n",
    "y_test = y_test.long().to(device)\n",
    "\n",
    "# Print shapes and class distributions\n",
    "print(\"\\nData split summary:\")\n",
    "print(f\"Training set: {X_train.shape[0]} samples\")\n",
    "print(f\"  Positive: {torch.sum(y_train == 1)} ({torch.sum(y_train == 1)/len(y_train)*100:.1f}%)\")\n",
    "print(f\"  Negative: {torch.sum(y_train == 0)} ({torch.sum(y_train == 0)/len(y_train)*100:.1f}%)\")\n",
    "\n",
    "print(f\"\\nValidation set: {X_val.shape[0]} samples\")\n",
    "print(f\"  Positive: {torch.sum(y_val == 1)} ({torch.sum(y_val == 1)/len(y_val)*100:.1f}%)\")\n",
    "print(f\"  Negative: {torch.sum(y_val == 0)} ({torch.sum(y_val == 0)/len(y_val)*100:.1f}%)\")\n",
    "\n",
    "print(f\"\\nTest set: {X_test.shape[0]} samples\")\n",
    "print(f\"  Positive: {torch.sum(y_test == 1)} ({torch.sum(y_test == 1)/len(y_test)*100:.1f}%)\")\n",
    "print(f\"  Negative: {torch.sum(y_test == 0)} ({torch.sum(y_test == 0)/len(y_test)*100:.1f}%)\")\n",
    "\n",
    "# Create DataLoader with float labels\n",
    "train_dataset = torch.utils.data.TensorDataset(X_train, y_train.float())\n",
    "val_dataset = torch.utils.data.TensorDataset(X_val, y_val.float())\n",
    "test_dataset = torch.utils.data.TensorDataset(X_test, y_test.float())\n",
    "\n",
    "batch_size = 64\n",
    "train_loader = DataLoader(train_dataset, batch_size=batch_size, shuffle=True)\n",
    "val_loader = DataLoader(val_dataset, batch_size=batch_size, shuffle=False)\n",
    "test_loader = DataLoader(test_dataset, batch_size=batch_size, shuffle=False)"
   ]
  },
  {
   "cell_type": "markdown",
   "metadata": {},
   "source": [
    "# Test Simple Neural Network for Binary Classification"
   ]
  },
  {
   "cell_type": "code",
   "execution_count": 5,
   "metadata": {},
   "outputs": [
    {
     "name": "stderr",
     "output_type": "stream",
     "text": [
      "Training: 100%|██████████| 149/149 [00:01<00:00, 145.11it/s]\n"
     ]
    },
    {
     "name": "stdout",
     "output_type": "stream",
     "text": [
      "\n",
      "Epoch 1/30\n",
      "Train Loss: 0.4938\n",
      "Train Metrics: Accuracy=0.7999, F1=0.7991\n",
      "Val Metrics: Accuracy=0.7652, F1=0.7605\n"
     ]
    },
    {
     "name": "stderr",
     "output_type": "stream",
     "text": [
      "Training: 100%|██████████| 149/149 [00:00<00:00, 192.33it/s]\n"
     ]
    },
    {
     "name": "stdout",
     "output_type": "stream",
     "text": [
      "\n",
      "Epoch 2/30\n",
      "Train Loss: 0.4098\n",
      "Train Metrics: Accuracy=0.8498, F1=0.8639\n",
      "Val Metrics: Accuracy=0.8141, F1=0.8326\n"
     ]
    },
    {
     "name": "stderr",
     "output_type": "stream",
     "text": [
      "Training: 100%|██████████| 149/149 [00:00<00:00, 194.73it/s]\n"
     ]
    },
    {
     "name": "stdout",
     "output_type": "stream",
     "text": [
      "\n",
      "Epoch 3/30\n",
      "Train Loss: 0.3641\n",
      "Train Metrics: Accuracy=0.8837, F1=0.8885\n",
      "Val Metrics: Accuracy=0.8141, F1=0.8221\n"
     ]
    },
    {
     "name": "stderr",
     "output_type": "stream",
     "text": [
      "Training: 100%|██████████| 149/149 [00:00<00:00, 195.53it/s]\n"
     ]
    },
    {
     "name": "stdout",
     "output_type": "stream",
     "text": [
      "\n",
      "Epoch 4/30\n",
      "Train Loss: 0.3167\n",
      "Train Metrics: Accuracy=0.9021, F1=0.9067\n",
      "Val Metrics: Accuracy=0.8351, F1=0.8448\n"
     ]
    },
    {
     "name": "stderr",
     "output_type": "stream",
     "text": [
      "Training: 100%|██████████| 149/149 [00:00<00:00, 192.66it/s]\n"
     ]
    },
    {
     "name": "stdout",
     "output_type": "stream",
     "text": [
      "\n",
      "Epoch 5/30\n",
      "Train Loss: 0.2922\n",
      "Train Metrics: Accuracy=0.9165, F1=0.9192\n",
      "Val Metrics: Accuracy=0.8297, F1=0.8358\n"
     ]
    },
    {
     "name": "stderr",
     "output_type": "stream",
     "text": [
      "Training: 100%|██████████| 149/149 [00:00<00:00, 196.68it/s]\n"
     ]
    },
    {
     "name": "stdout",
     "output_type": "stream",
     "text": [
      "\n",
      "Epoch 6/30\n",
      "Train Loss: 0.2493\n",
      "Train Metrics: Accuracy=0.9399, F1=0.9421\n",
      "Val Metrics: Accuracy=0.8415, F1=0.8490\n"
     ]
    },
    {
     "name": "stderr",
     "output_type": "stream",
     "text": [
      "Training: 100%|██████████| 149/149 [00:00<00:00, 196.13it/s]\n"
     ]
    },
    {
     "name": "stdout",
     "output_type": "stream",
     "text": [
      "\n",
      "Epoch 7/30\n",
      "Train Loss: 0.2254\n",
      "Train Metrics: Accuracy=0.9232, F1=0.9260\n",
      "Val Metrics: Accuracy=0.8293, F1=0.8371\n"
     ]
    },
    {
     "name": "stderr",
     "output_type": "stream",
     "text": [
      "Training: 100%|██████████| 149/149 [00:00<00:00, 197.79it/s]\n"
     ]
    },
    {
     "name": "stdout",
     "output_type": "stream",
     "text": [
      "\n",
      "Epoch 8/30\n",
      "Train Loss: 0.2076\n",
      "Train Metrics: Accuracy=0.9583, F1=0.9595\n",
      "Val Metrics: Accuracy=0.8430, F1=0.8481\n"
     ]
    },
    {
     "name": "stderr",
     "output_type": "stream",
     "text": [
      "Training: 100%|██████████| 149/149 [00:00<00:00, 196.62it/s]\n"
     ]
    },
    {
     "name": "stdout",
     "output_type": "stream",
     "text": [
      "\n",
      "Epoch 9/30\n",
      "Train Loss: 0.1759\n",
      "Train Metrics: Accuracy=0.9650, F1=0.9663\n",
      "Val Metrics: Accuracy=0.8562, F1=0.8645\n"
     ]
    },
    {
     "name": "stderr",
     "output_type": "stream",
     "text": [
      "Training: 100%|██████████| 149/149 [00:00<00:00, 194.77it/s]\n"
     ]
    },
    {
     "name": "stdout",
     "output_type": "stream",
     "text": [
      "\n",
      "Epoch 10/30\n",
      "Train Loss: 0.1668\n",
      "Train Metrics: Accuracy=0.9706, F1=0.9710\n",
      "Val Metrics: Accuracy=0.8537, F1=0.8548\n"
     ]
    },
    {
     "name": "stderr",
     "output_type": "stream",
     "text": [
      "Training: 100%|██████████| 149/149 [00:00<00:00, 194.90it/s]\n"
     ]
    },
    {
     "name": "stdout",
     "output_type": "stream",
     "text": [
      "\n",
      "Epoch 11/30\n",
      "Train Loss: 0.1478\n",
      "Train Metrics: Accuracy=0.9742, F1=0.9750\n",
      "Val Metrics: Accuracy=0.8591, F1=0.8674\n"
     ]
    },
    {
     "name": "stderr",
     "output_type": "stream",
     "text": [
      "Training: 100%|██████████| 149/149 [00:00<00:00, 195.03it/s]\n"
     ]
    },
    {
     "name": "stdout",
     "output_type": "stream",
     "text": [
      "\n",
      "Epoch 12/30\n",
      "Train Loss: 0.1314\n",
      "Train Metrics: Accuracy=0.9797, F1=0.9800\n",
      "Val Metrics: Accuracy=0.8586, F1=0.8602\n"
     ]
    },
    {
     "name": "stderr",
     "output_type": "stream",
     "text": [
      "Training: 100%|██████████| 149/149 [00:00<00:00, 195.09it/s]\n"
     ]
    },
    {
     "name": "stdout",
     "output_type": "stream",
     "text": [
      "\n",
      "Epoch 13/30\n",
      "Train Loss: 0.1264\n",
      "Train Metrics: Accuracy=0.9790, F1=0.9794\n",
      "Val Metrics: Accuracy=0.8488, F1=0.8518\n"
     ]
    },
    {
     "name": "stderr",
     "output_type": "stream",
     "text": [
      "Training: 100%|██████████| 149/149 [00:00<00:00, 197.75it/s]\n"
     ]
    },
    {
     "name": "stdout",
     "output_type": "stream",
     "text": [
      "\n",
      "Epoch 14/30\n",
      "Train Loss: 0.1169\n",
      "Train Metrics: Accuracy=0.9773, F1=0.9779\n",
      "Val Metrics: Accuracy=0.8547, F1=0.8601\n"
     ]
    },
    {
     "name": "stderr",
     "output_type": "stream",
     "text": [
      "Training: 100%|██████████| 149/149 [00:00<00:00, 192.24it/s]\n"
     ]
    },
    {
     "name": "stdout",
     "output_type": "stream",
     "text": [
      "\n",
      "Epoch 15/30\n",
      "Train Loss: 0.1061\n",
      "Train Metrics: Accuracy=0.9858, F1=0.9862\n",
      "Val Metrics: Accuracy=0.8586, F1=0.8621\n"
     ]
    },
    {
     "name": "stderr",
     "output_type": "stream",
     "text": [
      "Training: 100%|██████████| 149/149 [00:00<00:00, 196.89it/s]\n"
     ]
    },
    {
     "name": "stdout",
     "output_type": "stream",
     "text": [
      "\n",
      "Epoch 16/30\n",
      "Train Loss: 0.0952\n",
      "Train Metrics: Accuracy=0.9880, F1=0.9883\n",
      "Val Metrics: Accuracy=0.8532, F1=0.8559\n"
     ]
    },
    {
     "name": "stderr",
     "output_type": "stream",
     "text": [
      "Training: 100%|██████████| 149/149 [00:00<00:00, 197.05it/s]\n"
     ]
    },
    {
     "name": "stdout",
     "output_type": "stream",
     "text": [
      "\n",
      "Epoch 17/30\n",
      "Train Loss: 0.0990\n",
      "Train Metrics: Accuracy=0.9875, F1=0.9877\n",
      "Val Metrics: Accuracy=0.8537, F1=0.8542\n"
     ]
    },
    {
     "name": "stderr",
     "output_type": "stream",
     "text": [
      "Training: 100%|██████████| 149/149 [00:00<00:00, 214.99it/s]\n"
     ]
    },
    {
     "name": "stdout",
     "output_type": "stream",
     "text": [
      "\n",
      "Epoch 18/30\n",
      "Train Loss: 0.0864\n",
      "Train Metrics: Accuracy=0.9863, F1=0.9864\n",
      "Val Metrics: Accuracy=0.8513, F1=0.8516\n"
     ]
    },
    {
     "name": "stderr",
     "output_type": "stream",
     "text": [
      "Training: 100%|██████████| 149/149 [00:00<00:00, 210.17it/s]\n"
     ]
    },
    {
     "name": "stdout",
     "output_type": "stream",
     "text": [
      "\n",
      "Epoch 19/30\n",
      "Train Loss: 0.0845\n",
      "Train Metrics: Accuracy=0.9842, F1=0.9845\n",
      "Val Metrics: Accuracy=0.8542, F1=0.8574\n"
     ]
    },
    {
     "name": "stderr",
     "output_type": "stream",
     "text": [
      "Training: 100%|██████████| 149/149 [00:00<00:00, 215.25it/s]\n"
     ]
    },
    {
     "name": "stdout",
     "output_type": "stream",
     "text": [
      "\n",
      "Epoch 20/30\n",
      "Train Loss: 0.0798\n",
      "Train Metrics: Accuracy=0.9868, F1=0.9870\n",
      "Val Metrics: Accuracy=0.8537, F1=0.8552\n"
     ]
    },
    {
     "name": "stderr",
     "output_type": "stream",
     "text": [
      "Training: 100%|██████████| 149/149 [00:00<00:00, 214.37it/s]\n"
     ]
    },
    {
     "name": "stdout",
     "output_type": "stream",
     "text": [
      "\n",
      "Epoch 21/30\n",
      "Train Loss: 0.0776\n",
      "Train Metrics: Accuracy=0.9939, F1=0.9940\n",
      "Val Metrics: Accuracy=0.8601, F1=0.8621\n"
     ]
    },
    {
     "name": "stderr",
     "output_type": "stream",
     "text": [
      "Training: 100%|██████████| 149/149 [00:00<00:00, 216.65it/s]\n"
     ]
    },
    {
     "name": "stdout",
     "output_type": "stream",
     "text": [
      "\n",
      "Epoch 22/30\n",
      "Train Loss: 0.0707\n",
      "Train Metrics: Accuracy=0.9926, F1=0.9927\n",
      "Val Metrics: Accuracy=0.8552, F1=0.8608\n"
     ]
    },
    {
     "name": "stderr",
     "output_type": "stream",
     "text": [
      "Training: 100%|██████████| 149/149 [00:00<00:00, 212.43it/s]\n"
     ]
    },
    {
     "name": "stdout",
     "output_type": "stream",
     "text": [
      "\n",
      "Epoch 23/30\n",
      "Train Loss: 0.0660\n",
      "Train Metrics: Accuracy=0.9934, F1=0.9935\n",
      "Val Metrics: Accuracy=0.8650, F1=0.8709\n"
     ]
    },
    {
     "name": "stderr",
     "output_type": "stream",
     "text": [
      "Training: 100%|██████████| 149/149 [00:00<00:00, 211.58it/s]\n"
     ]
    },
    {
     "name": "stdout",
     "output_type": "stream",
     "text": [
      "\n",
      "Epoch 24/30\n",
      "Train Loss: 0.0656\n",
      "Train Metrics: Accuracy=0.9933, F1=0.9934\n",
      "Val Metrics: Accuracy=0.8630, F1=0.8639\n"
     ]
    },
    {
     "name": "stderr",
     "output_type": "stream",
     "text": [
      "Training: 100%|██████████| 149/149 [00:00<00:00, 212.04it/s]\n"
     ]
    },
    {
     "name": "stdout",
     "output_type": "stream",
     "text": [
      "\n",
      "Epoch 25/30\n",
      "Train Loss: 0.0667\n",
      "Train Metrics: Accuracy=0.9941, F1=0.9942\n",
      "Val Metrics: Accuracy=0.8581, F1=0.8610\n"
     ]
    },
    {
     "name": "stderr",
     "output_type": "stream",
     "text": [
      "Training: 100%|██████████| 149/149 [00:00<00:00, 211.75it/s]\n"
     ]
    },
    {
     "name": "stdout",
     "output_type": "stream",
     "text": [
      "\n",
      "Epoch 26/30\n",
      "Train Loss: 0.0610\n",
      "Train Metrics: Accuracy=0.9950, F1=0.9951\n",
      "Val Metrics: Accuracy=0.8679, F1=0.8723\n"
     ]
    },
    {
     "name": "stderr",
     "output_type": "stream",
     "text": [
      "Training: 100%|██████████| 149/149 [00:00<00:00, 216.09it/s]\n"
     ]
    },
    {
     "name": "stdout",
     "output_type": "stream",
     "text": [
      "\n",
      "Epoch 27/30\n",
      "Train Loss: 0.0566\n",
      "Train Metrics: Accuracy=0.9939, F1=0.9940\n",
      "Val Metrics: Accuracy=0.8537, F1=0.8529\n"
     ]
    },
    {
     "name": "stderr",
     "output_type": "stream",
     "text": [
      "Training: 100%|██████████| 149/149 [00:00<00:00, 213.45it/s]\n"
     ]
    },
    {
     "name": "stdout",
     "output_type": "stream",
     "text": [
      "\n",
      "Epoch 28/30\n",
      "Train Loss: 0.0601\n",
      "Train Metrics: Accuracy=0.9938, F1=0.9939\n",
      "Val Metrics: Accuracy=0.8615, F1=0.8639\n"
     ]
    },
    {
     "name": "stderr",
     "output_type": "stream",
     "text": [
      "Training: 100%|██████████| 149/149 [00:00<00:00, 214.29it/s]\n"
     ]
    },
    {
     "name": "stdout",
     "output_type": "stream",
     "text": [
      "\n",
      "Epoch 29/30\n",
      "Train Loss: 0.0519\n",
      "Train Metrics: Accuracy=0.9953, F1=0.9954\n",
      "Val Metrics: Accuracy=0.8596, F1=0.8586\n"
     ]
    },
    {
     "name": "stderr",
     "output_type": "stream",
     "text": [
      "Training: 100%|██████████| 149/149 [00:00<00:00, 213.72it/s]\n"
     ]
    },
    {
     "name": "stdout",
     "output_type": "stream",
     "text": [
      "\n",
      "Epoch 30/30\n",
      "Train Loss: 0.0479\n",
      "Train Metrics: Accuracy=0.9960, F1=0.9961\n",
      "Val Metrics: Accuracy=0.8576, F1=0.8562\n",
      "\n",
      "Final Test Set Metrics:\n",
      "Accuracy: 0.8434\n",
      "Precision: 0.8676\n",
      "Recall: 0.8177\n",
      "F1 Score: 0.8419\n"
     ]
    }
   ],
   "source": [
    "class ProteinClassifier(nn.Module):\n",
    "    def __init__(self, input_dim=3072, hidden_dim=1024):\n",
    "        super().__init__()\n",
    "        # Larger network with batch normalization\n",
    "        self.model = nn.Sequential(\n",
    "            nn.Linear(input_dim, hidden_dim),\n",
    "            nn.BatchNorm1d(hidden_dim),\n",
    "            nn.ReLU(),\n",
    "            nn.Dropout(0.2),\n",
    "            \n",
    "            nn.Linear(hidden_dim, hidden_dim // 2),\n",
    "            nn.BatchNorm1d(hidden_dim // 2),\n",
    "            nn.ReLU(),\n",
    "            nn.Dropout(0.2),\n",
    "            \n",
    "            nn.Linear(hidden_dim // 2, hidden_dim // 4),\n",
    "            nn.BatchNorm1d(hidden_dim // 4),\n",
    "            nn.ReLU(),\n",
    "            nn.Dropout(0.1),\n",
    "            \n",
    "            nn.Linear(hidden_dim // 4, 1),\n",
    "            nn.Sigmoid()\n",
    "        )\n",
    "        \n",
    "    def forward(self, x):\n",
    "        return self.model(x).squeeze()\n",
    "\n",
    "# Initialize model, loss function, and optimizer\n",
    "model = ProteinClassifier().to(device)\n",
    "criterion = nn.BCELoss()\n",
    "optimizer = optim.Adam(model.parameters(), lr=0.0003, weight_decay=1e-5)\n",
    "\n",
    "# Training function with gradient clipping to avoid exploding graidents\n",
    "def train_epoch(model, train_loader, criterion, optimizer):\n",
    "    model.train()\n",
    "    total_loss = 0\n",
    "    predictions = []\n",
    "    true_labels = []\n",
    "    \n",
    "    for inputs, labels in tqdm(train_loader, desc=\"Training\"):\n",
    "        inputs, labels = inputs.to(device), labels.to(device)\n",
    "        \n",
    "        # Normalize inputs\n",
    "        inputs = (inputs - inputs.mean(dim=1, keepdim=True)) / (inputs.std(dim=1, keepdim=True) + 1e-8)\n",
    "        \n",
    "        optimizer.zero_grad()\n",
    "        outputs = model(inputs)\n",
    "        loss = criterion(outputs, labels)\n",
    "        loss.backward()\n",
    "        \n",
    "        torch.nn.utils.clip_grad_norm_(model.parameters(), max_norm=1.0)\n",
    "        optimizer.step()\n",
    "        \n",
    "        total_loss += loss.item()\n",
    "        predictions.extend((outputs > 0.5).cpu().numpy())\n",
    "        true_labels.extend(labels.cpu().numpy())\n",
    "    \n",
    "    return total_loss / len(train_loader), predictions, true_labels\n",
    "\n",
    "# Evaluation function\n",
    "def evaluate(model, data_loader):\n",
    "    model.eval()\n",
    "    predictions = []\n",
    "    true_labels = []\n",
    "    \n",
    "    with torch.no_grad():\n",
    "        for inputs, labels in data_loader:\n",
    "            inputs, labels = inputs.to(device), labels.to(device)\n",
    "            # Normalize inputs\n",
    "            inputs = (inputs - inputs.mean(dim=1, keepdim=True)) / (inputs.std(dim=1, keepdim=True) + 1e-8)\n",
    "            outputs = model(inputs)\n",
    "            predictions.extend((outputs > 0.5).cpu().numpy())\n",
    "            true_labels.extend(labels.cpu().numpy())\n",
    "    \n",
    "    return {\n",
    "        'accuracy': accuracy_score(true_labels, predictions),\n",
    "        'precision': precision_score(true_labels, predictions, zero_division=0),\n",
    "        'recall': recall_score(true_labels, predictions, zero_division=0),\n",
    "        'f1': f1_score(true_labels, predictions, zero_division=0)\n",
    "    }\n",
    "\n",
    "# Training loop\n",
    "n_epochs = 30\n",
    "train_losses = []\n",
    "val_metrics = []\n",
    "\n",
    "for epoch in range(n_epochs):\n",
    "    # Train\n",
    "    loss, train_preds, train_labels = train_epoch(model, train_loader, criterion, optimizer)\n",
    "    train_losses.append(loss)\n",
    "    \n",
    "    # Evaluate\n",
    "    train_metrics = evaluate(model, train_loader)\n",
    "    val_metrics_epoch = evaluate(model, val_loader)\n",
    "    val_metrics.append(val_metrics_epoch)\n",
    "    \n",
    "    print(f\"\\nEpoch {epoch+1}/{n_epochs}\")\n",
    "    print(f\"Train Loss: {loss:.4f}\")\n",
    "    print(f\"Train Metrics: Accuracy={train_metrics['accuracy']:.4f}, F1={train_metrics['f1']:.4f}\")\n",
    "    print(f\"Val Metrics: Accuracy={val_metrics_epoch['accuracy']:.4f}, F1={val_metrics_epoch['f1']:.4f}\")\n",
    "\n",
    "# Final evaluation on test set\n",
    "test_metrics = evaluate(model, test_loader)\n",
    "print(\"\\nFinal Test Set Metrics:\")\n",
    "print(f\"Accuracy: {test_metrics['accuracy']:.4f}\")\n",
    "print(f\"Precision: {test_metrics['precision']:.4f}\")\n",
    "print(f\"Recall: {test_metrics['recall']:.4f}\")\n",
    "print(f\"F1 Score: {test_metrics['f1']:.4f}\")"
   ]
  },
  {
   "cell_type": "markdown",
   "metadata": {},
   "source": [
    "### Plot Traning Curves"
   ]
  },
  {
   "cell_type": "code",
   "execution_count": 6,
   "metadata": {},
   "outputs": [
    {
     "data": {
      "image/png": "[encoded data removed]",
      "text/plain": [
       "<Figure size 1000x500 with 2 Axes>"
      ]
     },
     "metadata": {},
     "output_type": "display_data"
    }
   ],
   "source": [
    "plt.figure(figsize=(10, 5))\n",
    "plt.subplot(1, 2, 1)\n",
    "plt.plot(train_losses)\n",
    "plt.title('Training Loss')\n",
    "plt.xlabel('Epoch')\n",
    "plt.ylabel('Loss')\n",
    "\n",
    "plt.subplot(1, 2, 2)\n",
    "plt.plot([m['accuracy'] for m in val_metrics], label='Accuracy')\n",
    "plt.plot([m['f1'] for m in val_metrics], label='F1 Score')\n",
    "plt.title('Validation Metrics')\n",
    "plt.xlabel('Epoch')\n",
    "plt.ylabel('Score')\n",
    "plt.legend()\n",
    "plt.tight_layout()\n",
    "plt.show()"
   ]
  },
  {
   "cell_type": "markdown",
   "metadata": {},
   "source": [
    "# Training Suite to compare Neural Network Models with different parameters"
   ]
  },
  {
   "cell_type": "code",
   "execution_count": 7,
   "metadata": {},
   "outputs": [
    {
     "name": "stdout",
     "output_type": "stream",
     "text": [
      "\n",
      "Training Logistic Regression...\n"
     ]
    },
    {
     "name": "stderr",
     "output_type": "stream",
     "text": [
      "                                                            \r"
     ]
    },
    {
     "name": "stdout",
     "output_type": "stream",
     "text": [
      "\n",
      "Epoch 5/50\n",
      "Train Loss: 0.4874\n",
      "Train Metrics: Accuracy=0.7634, F1=0.7720\n",
      "Val Metrics: Accuracy=0.7559, F1=0.7636\n"
     ]
    },
    {
     "name": "stderr",
     "output_type": "stream",
     "text": [
      "                                                             \r"
     ]
    },
    {
     "name": "stdout",
     "output_type": "stream",
     "text": [
      "\n",
      "Epoch 10/50\n",
      "Train Loss: 0.4618\n",
      "Train Metrics: Accuracy=0.7771, F1=0.7899\n",
      "Val Metrics: Accuracy=0.7735, F1=0.7873\n"
     ]
    },
    {
     "name": "stderr",
     "output_type": "stream",
     "text": [
      "                                                             \r"
     ]
    },
    {
     "name": "stdout",
     "output_type": "stream",
     "text": [
      "\n",
      "Epoch 15/50\n",
      "Train Loss: 0.4466\n",
      "Train Metrics: Accuracy=0.7857, F1=0.7921\n",
      "Val Metrics: Accuracy=0.7794, F1=0.7874\n"
     ]
    },
    {
     "name": "stderr",
     "output_type": "stream",
     "text": [
      "                                                             \r"
     ]
    },
    {
     "name": "stdout",
     "output_type": "stream",
     "text": [
      "\n",
      "Epoch 20/50\n",
      "Train Loss: 0.4386\n",
      "Train Metrics: Accuracy=0.7938, F1=0.8102\n",
      "Val Metrics: Accuracy=0.7798, F1=0.7984\n"
     ]
    },
    {
     "name": "stderr",
     "output_type": "stream",
     "text": [
      "                                                             \r"
     ]
    },
    {
     "name": "stdout",
     "output_type": "stream",
     "text": [
      "\n",
      "Epoch 25/50\n",
      "Train Loss: 0.4294\n",
      "Train Metrics: Accuracy=0.8002, F1=0.8092\n",
      "Val Metrics: Accuracy=0.7877, F1=0.7974\n"
     ]
    },
    {
     "name": "stderr",
     "output_type": "stream",
     "text": [
      "                                                             \r"
     ]
    },
    {
     "name": "stdout",
     "output_type": "stream",
     "text": [
      "\n",
      "Epoch 30/50\n",
      "Train Loss: 0.4275\n",
      "Train Metrics: Accuracy=0.7978, F1=0.7969\n",
      "Val Metrics: Accuracy=0.7891, F1=0.7890\n"
     ]
    },
    {
     "name": "stderr",
     "output_type": "stream",
     "text": [
      "                                                             \r"
     ]
    },
    {
     "name": "stdout",
     "output_type": "stream",
     "text": [
      "\n",
      "Epoch 35/50\n",
      "Train Loss: 0.4169\n",
      "Train Metrics: Accuracy=0.8049, F1=0.8232\n",
      "Val Metrics: Accuracy=0.7891, F1=0.8104\n"
     ]
    },
    {
     "name": "stderr",
     "output_type": "stream",
     "text": [
      "                                                             \r"
     ]
    },
    {
     "name": "stdout",
     "output_type": "stream",
     "text": [
      "\n",
      "Epoch 40/50\n",
      "Train Loss: 0.4079\n",
      "Train Metrics: Accuracy=0.8147, F1=0.8254\n",
      "Val Metrics: Accuracy=0.7955, F1=0.8079\n"
     ]
    },
    {
     "name": "stderr",
     "output_type": "stream",
     "text": [
      "                                                             \r"
     ]
    },
    {
     "name": "stdout",
     "output_type": "stream",
     "text": [
      "\n",
      "Epoch 45/50\n",
      "Train Loss: 0.4056\n",
      "Train Metrics: Accuracy=0.8167, F1=0.8280\n",
      "Val Metrics: Accuracy=0.7975, F1=0.8104\n"
     ]
    },
    {
     "name": "stderr",
     "output_type": "stream",
     "text": [
      "                                                             \r"
     ]
    },
    {
     "name": "stdout",
     "output_type": "stream",
     "text": [
      "\n",
      "Epoch 50/50\n",
      "Train Loss: 0.3996\n",
      "Train Metrics: Accuracy=0.8199, F1=0.8347\n",
      "Val Metrics: Accuracy=0.8014, F1=0.8183\n",
      "\n",
      "Logistic Regression Final Test Metrics:\n",
      "Accuracy: 0.7901\n",
      "Precision: 0.7672\n",
      "Recall: 0.8445\n",
      "F1 Score: 0.8040\n",
      "\n",
      "Training Simple Model...\n"
     ]
    },
    {
     "name": "stderr",
     "output_type": "stream",
     "text": [
      "                                                            \r"
     ]
    },
    {
     "name": "stdout",
     "output_type": "stream",
     "text": [
      "\n",
      "Epoch 5/50\n",
      "Train Loss: 0.3237\n",
      "Train Metrics: Accuracy=0.8691, F1=0.8670\n",
      "Val Metrics: Accuracy=0.8058, F1=0.8038\n"
     ]
    },
    {
     "name": "stderr",
     "output_type": "stream",
     "text": [
      "                                                             \r"
     ]
    },
    {
     "name": "stdout",
     "output_type": "stream",
     "text": [
      "\n",
      "Epoch 10/50\n",
      "Train Loss: 0.2163\n",
      "Train Metrics: Accuracy=0.9389, F1=0.9404\n",
      "Val Metrics: Accuracy=0.8493, F1=0.8542\n"
     ]
    },
    {
     "name": "stderr",
     "output_type": "stream",
     "text": [
      "                                                             \r"
     ]
    },
    {
     "name": "stdout",
     "output_type": "stream",
     "text": [
      "\n",
      "Epoch 15/50\n",
      "Train Loss: 0.1443\n",
      "Train Metrics: Accuracy=0.9632, F1=0.9647\n",
      "Val Metrics: Accuracy=0.8567, F1=0.8645\n"
     ]
    },
    {
     "name": "stderr",
     "output_type": "stream",
     "text": [
      "                                                             \r"
     ]
    },
    {
     "name": "stdout",
     "output_type": "stream",
     "text": [
      "\n",
      "Epoch 20/50\n",
      "Train Loss: 0.0973\n",
      "Train Metrics: Accuracy=0.9865, F1=0.9868\n",
      "Val Metrics: Accuracy=0.8591, F1=0.8640\n"
     ]
    },
    {
     "name": "stderr",
     "output_type": "stream",
     "text": [
      "                                                             \r"
     ]
    },
    {
     "name": "stdout",
     "output_type": "stream",
     "text": [
      "\n",
      "Epoch 25/50\n",
      "Train Loss: 0.0729\n",
      "Train Metrics: Accuracy=0.9921, F1=0.9923\n",
      "Val Metrics: Accuracy=0.8659, F1=0.8695\n"
     ]
    },
    {
     "name": "stderr",
     "output_type": "stream",
     "text": [
      "                                                             \r"
     ]
    },
    {
     "name": "stdout",
     "output_type": "stream",
     "text": [
      "\n",
      "Epoch 30/50\n",
      "Train Loss: 0.0478\n",
      "Train Metrics: Accuracy=0.9980, F1=0.9980\n",
      "Val Metrics: Accuracy=0.8615, F1=0.8634\n"
     ]
    },
    {
     "name": "stderr",
     "output_type": "stream",
     "text": [
      "                                                             \r"
     ]
    },
    {
     "name": "stdout",
     "output_type": "stream",
     "text": [
      "\n",
      "Epoch 35/50\n",
      "Train Loss: 0.0389\n",
      "Train Metrics: Accuracy=0.9954, F1=0.9955\n",
      "Val Metrics: Accuracy=0.8469, F1=0.8412\n"
     ]
    },
    {
     "name": "stderr",
     "output_type": "stream",
     "text": [
      "                                                             \r"
     ]
    },
    {
     "name": "stdout",
     "output_type": "stream",
     "text": [
      "\n",
      "Epoch 40/50\n",
      "Train Loss: 0.0415\n",
      "Train Metrics: Accuracy=0.9851, F1=0.9852\n",
      "Val Metrics: Accuracy=0.8444, F1=0.8415\n"
     ]
    },
    {
     "name": "stderr",
     "output_type": "stream",
     "text": [
      "                                                             \r"
     ]
    },
    {
     "name": "stdout",
     "output_type": "stream",
     "text": [
      "\n",
      "Epoch 45/50\n",
      "Train Loss: 0.0364\n",
      "Train Metrics: Accuracy=0.9975, F1=0.9975\n",
      "Val Metrics: Accuracy=0.8625, F1=0.8647\n"
     ]
    },
    {
     "name": "stderr",
     "output_type": "stream",
     "text": [
      "                                                             \r"
     ]
    },
    {
     "name": "stdout",
     "output_type": "stream",
     "text": [
      "\n",
      "Epoch 50/50\n",
      "Train Loss: 0.0231\n",
      "Train Metrics: Accuracy=0.9991, F1=0.9991\n",
      "Val Metrics: Accuracy=0.8718, F1=0.8744\n",
      "\n",
      "Simple Model Final Test Metrics:\n",
      "Accuracy: 0.8542\n",
      "Precision: 0.8407\n",
      "Recall: 0.8810\n",
      "F1 Score: 0.8604\n",
      "\n",
      "Training Medium Model...\n"
     ]
    },
    {
     "name": "stderr",
     "output_type": "stream",
     "text": [
      "                                                            \r"
     ]
    },
    {
     "name": "stdout",
     "output_type": "stream",
     "text": [
      "\n",
      "Epoch 5/50\n",
      "Train Loss: 0.2832\n",
      "Train Metrics: Accuracy=0.9155, F1=0.9185\n",
      "Val Metrics: Accuracy=0.8322, F1=0.8396\n"
     ]
    },
    {
     "name": "stderr",
     "output_type": "stream",
     "text": [
      "                                                             \r"
     ]
    },
    {
     "name": "stdout",
     "output_type": "stream",
     "text": [
      "\n",
      "Epoch 10/50\n",
      "Train Loss: 0.1733\n",
      "Train Metrics: Accuracy=0.9619, F1=0.9635\n",
      "Val Metrics: Accuracy=0.8439, F1=0.8540\n"
     ]
    },
    {
     "name": "stderr",
     "output_type": "stream",
     "text": [
      "                                                             \r"
     ]
    },
    {
     "name": "stdout",
     "output_type": "stream",
     "text": [
      "\n",
      "Epoch 15/50\n",
      "Train Loss: 0.1164\n",
      "Train Metrics: Accuracy=0.9834, F1=0.9838\n",
      "Val Metrics: Accuracy=0.8503, F1=0.8533\n"
     ]
    },
    {
     "name": "stderr",
     "output_type": "stream",
     "text": [
      "                                                             \r"
     ]
    },
    {
     "name": "stdout",
     "output_type": "stream",
     "text": [
      "\n",
      "Epoch 20/50\n",
      "Train Loss: 0.0896\n",
      "Train Metrics: Accuracy=0.9891, F1=0.9894\n",
      "Val Metrics: Accuracy=0.8537, F1=0.8597\n"
     ]
    },
    {
     "name": "stderr",
     "output_type": "stream",
     "text": [
      "                                                             \r"
     ]
    },
    {
     "name": "stdout",
     "output_type": "stream",
     "text": [
      "\n",
      "Epoch 25/50\n",
      "Train Loss: 0.0580\n",
      "Train Metrics: Accuracy=0.9931, F1=0.9932\n",
      "Val Metrics: Accuracy=0.8640, F1=0.8694\n"
     ]
    },
    {
     "name": "stderr",
     "output_type": "stream",
     "text": [
      "                                                             \r"
     ]
    },
    {
     "name": "stdout",
     "output_type": "stream",
     "text": [
      "\n",
      "Epoch 30/50\n",
      "Train Loss: 0.0576\n",
      "Train Metrics: Accuracy=0.9964, F1=0.9965\n",
      "Val Metrics: Accuracy=0.8542, F1=0.8573\n"
     ]
    },
    {
     "name": "stderr",
     "output_type": "stream",
     "text": [
      "                                                             \r"
     ]
    },
    {
     "name": "stdout",
     "output_type": "stream",
     "text": [
      "\n",
      "Epoch 35/50\n",
      "Train Loss: 0.0459\n",
      "Train Metrics: Accuracy=0.9951, F1=0.9952\n",
      "Val Metrics: Accuracy=0.8601, F1=0.8652\n"
     ]
    },
    {
     "name": "stderr",
     "output_type": "stream",
     "text": [
      "                                                             \r"
     ]
    },
    {
     "name": "stdout",
     "output_type": "stream",
     "text": [
      "\n",
      "Epoch 40/50\n",
      "Train Loss: 0.0431\n",
      "Train Metrics: Accuracy=0.9973, F1=0.9973\n",
      "Val Metrics: Accuracy=0.8581, F1=0.8631\n"
     ]
    },
    {
     "name": "stderr",
     "output_type": "stream",
     "text": [
      "                                                             \r"
     ]
    },
    {
     "name": "stdout",
     "output_type": "stream",
     "text": [
      "\n",
      "Epoch 45/50\n",
      "Train Loss: 0.0380\n",
      "Train Metrics: Accuracy=0.9959, F1=0.9960\n",
      "Val Metrics: Accuracy=0.8552, F1=0.8549\n"
     ]
    },
    {
     "name": "stderr",
     "output_type": "stream",
     "text": [
      "                                                             \r"
     ]
    },
    {
     "name": "stdout",
     "output_type": "stream",
     "text": [
      "\n",
      "Epoch 50/50\n",
      "Train Loss: 0.0314\n",
      "Train Metrics: Accuracy=0.9978, F1=0.9978\n",
      "Val Metrics: Accuracy=0.8674, F1=0.8714\n",
      "\n",
      "Medium Model Final Test Metrics:\n",
      "Accuracy: 0.8606\n",
      "Precision: 0.8419\n",
      "Recall: 0.8944\n",
      "F1 Score: 0.8674\n",
      "\n",
      "Training Large Model...\n"
     ]
    },
    {
     "name": "stderr",
     "output_type": "stream",
     "text": [
      "                                                              \r"
     ]
    },
    {
     "name": "stdout",
     "output_type": "stream",
     "text": [
      "\n",
      "Epoch 5/50\n",
      "Train Loss: 0.3220\n",
      "Train Metrics: Accuracy=0.8992, F1=0.9060\n",
      "Val Metrics: Accuracy=0.8317, F1=0.8446\n"
     ]
    },
    {
     "name": "stderr",
     "output_type": "stream",
     "text": [
      "                                                               \r"
     ]
    },
    {
     "name": "stdout",
     "output_type": "stream",
     "text": [
      "\n",
      "Epoch 10/50\n",
      "Train Loss: 0.2105\n",
      "Train Metrics: Accuracy=0.9481, F1=0.9504\n",
      "Val Metrics: Accuracy=0.8518, F1=0.8603\n"
     ]
    },
    {
     "name": "stderr",
     "output_type": "stream",
     "text": [
      "                                                               \r"
     ]
    },
    {
     "name": "stdout",
     "output_type": "stream",
     "text": [
      "\n",
      "Epoch 15/50\n",
      "Train Loss: 0.1567\n",
      "Train Metrics: Accuracy=0.9738, F1=0.9746\n",
      "Val Metrics: Accuracy=0.8503, F1=0.8578\n"
     ]
    },
    {
     "name": "stderr",
     "output_type": "stream",
     "text": [
      "                                                               \r"
     ]
    },
    {
     "name": "stdout",
     "output_type": "stream",
     "text": [
      "\n",
      "Epoch 20/50\n",
      "Train Loss: 0.1196\n",
      "Train Metrics: Accuracy=0.9857, F1=0.9860\n",
      "Val Metrics: Accuracy=0.8527, F1=0.8554\n"
     ]
    },
    {
     "name": "stderr",
     "output_type": "stream",
     "text": [
      "                                                               \r"
     ]
    },
    {
     "name": "stdout",
     "output_type": "stream",
     "text": [
      "\n",
      "Epoch 25/50\n",
      "Train Loss: 0.1062\n",
      "Train Metrics: Accuracy=0.9907, F1=0.9909\n",
      "Val Metrics: Accuracy=0.8625, F1=0.8695\n"
     ]
    },
    {
     "name": "stderr",
     "output_type": "stream",
     "text": [
      "                                                               \r"
     ]
    },
    {
     "name": "stdout",
     "output_type": "stream",
     "text": [
      "\n",
      "Epoch 30/50\n",
      "Train Loss: 0.0868\n",
      "Train Metrics: Accuracy=0.9873, F1=0.9876\n",
      "Val Metrics: Accuracy=0.8689, F1=0.8742\n"
     ]
    },
    {
     "name": "stderr",
     "output_type": "stream",
     "text": [
      "                                                               \r"
     ]
    },
    {
     "name": "stdout",
     "output_type": "stream",
     "text": [
      "\n",
      "Epoch 35/50\n",
      "Train Loss: 0.0777\n",
      "Train Metrics: Accuracy=0.9936, F1=0.9937\n",
      "Val Metrics: Accuracy=0.8659, F1=0.8715\n"
     ]
    },
    {
     "name": "stderr",
     "output_type": "stream",
     "text": [
      "                                                               \r"
     ]
    },
    {
     "name": "stdout",
     "output_type": "stream",
     "text": [
      "\n",
      "Epoch 40/50\n",
      "Train Loss: 0.0740\n",
      "Train Metrics: Accuracy=0.9956, F1=0.9957\n",
      "Val Metrics: Accuracy=0.8694, F1=0.8738\n"
     ]
    },
    {
     "name": "stderr",
     "output_type": "stream",
     "text": [
      "                                                               \r"
     ]
    },
    {
     "name": "stdout",
     "output_type": "stream",
     "text": [
      "\n",
      "Epoch 45/50\n",
      "Train Loss: 0.0649\n",
      "Train Metrics: Accuracy=0.9963, F1=0.9964\n",
      "Val Metrics: Accuracy=0.8615, F1=0.8607\n"
     ]
    },
    {
     "name": "stderr",
     "output_type": "stream",
     "text": [
      "                                                               \r"
     ]
    },
    {
     "name": "stdout",
     "output_type": "stream",
     "text": [
      "\n",
      "Epoch 50/50\n",
      "Train Loss: 0.0598\n",
      "Train Metrics: Accuracy=0.9934, F1=0.9936\n",
      "Val Metrics: Accuracy=0.8655, F1=0.8733\n",
      "\n",
      "Large Model Final Test Metrics:\n",
      "Accuracy: 0.8562\n",
      "Precision: 0.8369\n",
      "Recall: 0.8916\n",
      "F1 Score: 0.8634\n",
      "\n",
      "Training Deep Model...\n"
     ]
    },
    {
     "name": "stderr",
     "output_type": "stream",
     "text": [
      "                                                             \r"
     ]
    },
    {
     "name": "stdout",
     "output_type": "stream",
     "text": [
      "\n",
      "Epoch 5/50\n",
      "Train Loss: 0.3367\n",
      "Train Metrics: Accuracy=0.8856, F1=0.8947\n",
      "Val Metrics: Accuracy=0.8283, F1=0.8439\n"
     ]
    },
    {
     "name": "stderr",
     "output_type": "stream",
     "text": [
      "                                                              \r"
     ]
    },
    {
     "name": "stdout",
     "output_type": "stream",
     "text": [
      "\n",
      "Epoch 10/50\n",
      "Train Loss: 0.2154\n",
      "Train Metrics: Accuracy=0.9574, F1=0.9583\n",
      "Val Metrics: Accuracy=0.8493, F1=0.8516\n"
     ]
    },
    {
     "name": "stderr",
     "output_type": "stream",
     "text": [
      "                                                              \r"
     ]
    },
    {
     "name": "stdout",
     "output_type": "stream",
     "text": [
      "\n",
      "Epoch 15/50\n",
      "Train Loss: 0.1645\n",
      "Train Metrics: Accuracy=0.9790, F1=0.9793\n",
      "Val Metrics: Accuracy=0.8518, F1=0.8528\n"
     ]
    },
    {
     "name": "stderr",
     "output_type": "stream",
     "text": [
      "                                                              \r"
     ]
    },
    {
     "name": "stdout",
     "output_type": "stream",
     "text": [
      "\n",
      "Epoch 20/50\n",
      "Train Loss: 0.1268\n",
      "Train Metrics: Accuracy=0.9745, F1=0.9746\n",
      "Val Metrics: Accuracy=0.8410, F1=0.8373\n"
     ]
    },
    {
     "name": "stderr",
     "output_type": "stream",
     "text": [
      "                                                              \r"
     ]
    },
    {
     "name": "stdout",
     "output_type": "stream",
     "text": [
      "\n",
      "Epoch 25/50\n",
      "Train Loss: 0.0981\n",
      "Train Metrics: Accuracy=0.9902, F1=0.9905\n",
      "Val Metrics: Accuracy=0.8591, F1=0.8643\n"
     ]
    },
    {
     "name": "stderr",
     "output_type": "stream",
     "text": [
      "                                                              \r"
     ]
    },
    {
     "name": "stdout",
     "output_type": "stream",
     "text": [
      "\n",
      "Epoch 30/50\n",
      "Train Loss: 0.0857\n",
      "Train Metrics: Accuracy=0.9936, F1=0.9937\n",
      "Val Metrics: Accuracy=0.8591, F1=0.8621\n"
     ]
    },
    {
     "name": "stderr",
     "output_type": "stream",
     "text": [
      "                                                              \r"
     ]
    },
    {
     "name": "stdout",
     "output_type": "stream",
     "text": [
      "\n",
      "Epoch 35/50\n",
      "Train Loss: 0.0785\n",
      "Train Metrics: Accuracy=0.9949, F1=0.9950\n",
      "Val Metrics: Accuracy=0.8645, F1=0.8665\n"
     ]
    },
    {
     "name": "stderr",
     "output_type": "stream",
     "text": [
      "                                                              \r"
     ]
    },
    {
     "name": "stdout",
     "output_type": "stream",
     "text": [
      "\n",
      "Epoch 40/50\n",
      "Train Loss: 0.0719\n",
      "Train Metrics: Accuracy=0.9956, F1=0.9957\n",
      "Val Metrics: Accuracy=0.8655, F1=0.8684\n"
     ]
    },
    {
     "name": "stderr",
     "output_type": "stream",
     "text": [
      "                                                              \r"
     ]
    },
    {
     "name": "stdout",
     "output_type": "stream",
     "text": [
      "\n",
      "Epoch 45/50\n",
      "Train Loss: 0.0625\n",
      "Train Metrics: Accuracy=0.9965, F1=0.9966\n",
      "Val Metrics: Accuracy=0.8664, F1=0.8673\n"
     ]
    },
    {
     "name": "stderr",
     "output_type": "stream",
     "text": [
      "                                                              \r"
     ]
    },
    {
     "name": "stdout",
     "output_type": "stream",
     "text": [
      "\n",
      "Epoch 50/50\n",
      "Train Loss: 0.0585\n",
      "Train Metrics: Accuracy=0.9969, F1=0.9969\n",
      "Val Metrics: Accuracy=0.8571, F1=0.8560\n",
      "\n",
      "Deep Model Final Test Metrics:\n",
      "Accuracy: 0.8567\n",
      "Precision: 0.8697\n",
      "Recall: 0.8455\n",
      "F1 Score: 0.8574\n"
     ]
    },
    {
     "data": {
      "image/png": "[encoded data removed]",
      "text/plain": [
       "<Figure size 1500x1000 with 2 Axes>"
      ]
     },
     "metadata": {},
     "output_type": "display_data"
    },
    {
     "name": "stdout",
     "output_type": "stream",
     "text": [
      "\n",
      "Model Comparison:\n",
      "--------------------------------------------------------------------------------\n",
      "Model                Accuracy   Precision  Recall     F1 Score  \n",
      "--------------------------------------------------------------------------------\n",
      "Logistic Regression  0.7901     0.7672     0.8445     0.8040\n",
      "Simple Model         0.8542     0.8407     0.8810     0.8604\n",
      "Medium Model         0.8606     0.8419     0.8944     0.8674\n",
      "Large Model          0.8562     0.8369     0.8916     0.8634\n",
      "Deep Model           0.8567     0.8697     0.8455     0.8574\n"
     ]
    }
   ],
   "source": [
    "# Model configurations with different parameters + hyperparameters (layers, dropout, learning rates, batch sizes, etc)\n",
    "model_configs = [\n",
    "    {\n",
    "        \"name\": \"Logistic Regression\",\n",
    "        \"hidden_dims\": [],\n",
    "        \"dropout_rates\": [],\n",
    "        \"learning_rate\": 0.001,\n",
    "        \"weight_decay\": 0,\n",
    "        \"batch_size\": 256\n",
    "    },\n",
    "    {\n",
    "        \"name\": \"Simple Model\",\n",
    "        \"hidden_dims\": [128],\n",
    "        \"dropout_rates\": [0.1],\n",
    "        \"learning_rate\": 0.001,\n",
    "        \"weight_decay\": 0,\n",
    "        \"batch_size\": 256\n",
    "    },\n",
    "    {\n",
    "        \"name\": \"Medium Model\",\n",
    "        \"hidden_dims\": [512, 256, 128],\n",
    "        \"dropout_rates\": [0.2, 0.2, 0.1],\n",
    "        \"learning_rate\": 0.0003,\n",
    "        \"weight_decay\": 1e-5,\n",
    "        \"batch_size\": 128\n",
    "    },\n",
    "    {\n",
    "        \"name\": \"Large Model\",\n",
    "        \"hidden_dims\": [1024, 512, 256, 128],\n",
    "        \"dropout_rates\": [0.3, 0.3, 0.2, 0.1],\n",
    "        \"learning_rate\": 0.0001,\n",
    "        \"weight_decay\": 1e-5,\n",
    "        \"batch_size\": 64\n",
    "    },\n",
    "    {\n",
    "        \"name\": \"Deep Model\",\n",
    "        \"hidden_dims\": [512, 256, 128, 64, 32],\n",
    "        \"dropout_rates\": [0.2, 0.2, 0.2, 0.1, 0.1],\n",
    "        \"learning_rate\": 0.0002,\n",
    "        \"weight_decay\": 1e-5,\n",
    "        \"batch_size\": 96\n",
    "    }\n",
    "]\n",
    "class ProteinClassifier(nn.Module):\n",
    "    def __init__(self, input_dim=3072, hidden_dims=[1024, 512, 256], dropout_rates=[0.2, 0.2, 0.1]):\n",
    "        super().__init__()\n",
    "        \n",
    "        layers = []\n",
    "        current_dim = input_dim\n",
    "        \n",
    "        for i, hidden_dim in enumerate(hidden_dims):\n",
    "            layers.extend([\n",
    "                nn.Linear(current_dim, hidden_dim),\n",
    "                nn.BatchNorm1d(hidden_dim),\n",
    "                nn.ReLU(),\n",
    "                nn.Dropout(dropout_rates[i])\n",
    "            ])\n",
    "            current_dim = hidden_dim\n",
    "            \n",
    "        # Output layer\n",
    "        layers.extend([\n",
    "            nn.Linear(current_dim, 1),\n",
    "            nn.Sigmoid()\n",
    "        ])\n",
    "        \n",
    "        self.model = nn.Sequential(*layers)\n",
    "        \n",
    "    def forward(self, x):\n",
    "        return self.model(x).squeeze()\n",
    "\n",
    "def train_and_evaluate_model(config, n_epochs=50):\n",
    "    print(f\"\\nTraining {config['name']}...\")\n",
    "    \n",
    "    # Initialize model\n",
    "    model = ProteinClassifier(\n",
    "        hidden_dims=config['hidden_dims'],\n",
    "        dropout_rates=config['dropout_rates']\n",
    "    ).to(device)\n",
    "    \n",
    "    # Set up training\n",
    "    criterion = nn.BCELoss()\n",
    "    optimizer = optim.Adam(\n",
    "        model.parameters(), \n",
    "        lr=config['learning_rate'], \n",
    "        weight_decay=config['weight_decay']\n",
    "    )\n",
    "    \n",
    "    # Create data loaders\n",
    "    train_loader = DataLoader(train_dataset, batch_size=config['batch_size'], shuffle=True)\n",
    "    val_loader = DataLoader(val_dataset, batch_size=config['batch_size'], shuffle=False)\n",
    "    test_loader = DataLoader(test_dataset, batch_size=config['batch_size'], shuffle=False)\n",
    "    \n",
    "    train_losses = []\n",
    "    val_metrics = []\n",
    "    best_val_f1 = 0\n",
    "    best_model = None\n",
    "    \n",
    "    for epoch in range(n_epochs):\n",
    "        # Train\n",
    "        model.train()\n",
    "        total_loss = 0\n",
    "        predictions = []\n",
    "        true_labels = []\n",
    "        \n",
    "        for inputs, labels in tqdm(train_loader, desc=f\"Epoch {epoch+1}/{n_epochs}\", leave=False):\n",
    "            inputs, labels = inputs.to(device), labels.to(device)\n",
    "            \n",
    "            # Normalize inputs\n",
    "            inputs = (inputs - inputs.mean(dim=1, keepdim=True)) / (inputs.std(dim=1, keepdim=True) + 1e-8)\n",
    "            \n",
    "            optimizer.zero_grad()\n",
    "            outputs = model(inputs)\n",
    "            loss = criterion(outputs, labels)\n",
    "            loss.backward()\n",
    "            torch.nn.utils.clip_grad_norm_(model.parameters(), max_norm=1.0)\n",
    "            optimizer.step()\n",
    "            \n",
    "            total_loss += loss.item()\n",
    "            predictions.extend((outputs > 0.5).cpu().numpy())\n",
    "            true_labels.extend(labels.cpu().numpy())\n",
    "        \n",
    "        avg_loss = total_loss / len(train_loader)\n",
    "        train_losses.append(avg_loss)\n",
    "        \n",
    "        # Evaluate\n",
    "        train_metrics = evaluate(model, train_loader)\n",
    "        val_metrics_epoch = evaluate(model, val_loader)\n",
    "        val_metrics.append(val_metrics_epoch)\n",
    "        \n",
    "        # Save best model to evaluate for the test set\n",
    "        if val_metrics_epoch['f1'] > best_val_f1:\n",
    "            best_val_f1 = val_metrics_epoch['f1']\n",
    "            best_model = deepcopy(model.state_dict())\n",
    "        \n",
    "        if (epoch + 1) % 5 == 0:  # Print every 5 epochs\n",
    "            print(f\"\\nEpoch {epoch+1}/{n_epochs}\")\n",
    "            print(f\"Train Loss: {avg_loss:.4f}\")\n",
    "            print(f\"Train Metrics: Accuracy={train_metrics['accuracy']:.4f}, F1={train_metrics['f1']:.4f}\")\n",
    "            print(f\"Val Metrics: Accuracy={val_metrics_epoch['accuracy']:.4f}, F1={val_metrics_epoch['f1']:.4f}\")\n",
    "    \n",
    "    # Load best model and evaluate on test set\n",
    "    model.load_state_dict(best_model)\n",
    "    test_metrics = evaluate(model, test_loader)\n",
    "    \n",
    "    return {\n",
    "        'name': config['name'],\n",
    "        'train_losses': train_losses,\n",
    "        'val_metrics': val_metrics,\n",
    "        'test_metrics': test_metrics,\n",
    "        'model': model\n",
    "    }\n",
    "\n",
    "def evaluate(model, data_loader):\n",
    "    model.eval()\n",
    "    predictions = []\n",
    "    true_labels = []\n",
    "    \n",
    "    with torch.no_grad():\n",
    "        for inputs, labels in data_loader:\n",
    "            inputs, labels = inputs.to(device), labels.to(device)\n",
    "            inputs = (inputs - inputs.mean(dim=1, keepdim=True)) / (inputs.std(dim=1, keepdim=True) + 1e-8)\n",
    "            outputs = model(inputs)\n",
    "            predictions.extend((outputs > 0.5).cpu().numpy())\n",
    "            true_labels.extend(labels.cpu().numpy())\n",
    "    \n",
    "    return {\n",
    "        'accuracy': accuracy_score(true_labels, predictions),\n",
    "        'precision': precision_score(true_labels, predictions, zero_division=0),\n",
    "        'recall': recall_score(true_labels, predictions, zero_division=0),\n",
    "        'f1': f1_score(true_labels, predictions, zero_division=0)\n",
    "    }\n",
    "\n",
    "# Train all models\n",
    "results = []\n",
    "for config in model_configs:\n",
    "    result = train_and_evaluate_model(config)\n",
    "    results.append(result)\n",
    "    \n",
    "    print(f\"\\n{result['name']} Final Test Metrics:\")\n",
    "    print(f\"Accuracy: {result['test_metrics']['accuracy']:.4f}\")\n",
    "    print(f\"Precision: {result['test_metrics']['precision']:.4f}\")\n",
    "    print(f\"Recall: {result['test_metrics']['recall']:.4f}\")\n",
    "    print(f\"F1 Score: {result['test_metrics']['f1']:.4f}\")\n",
    "\n",
    "# Plot results\n",
    "plt.figure(figsize=(15, 10))\n",
    "\n",
    "# Plot training losses\n",
    "plt.subplot(2, 1, 1)\n",
    "for result in results:\n",
    "    plt.plot(result['train_losses'], label=result['name'])\n",
    "plt.title('Training Losses')\n",
    "plt.xlabel('Epoch')\n",
    "plt.ylabel('Loss')\n",
    "plt.legend()\n",
    "\n",
    "# Plot validation F1 scores\n",
    "plt.subplot(2, 1, 2)\n",
    "for result in results:\n",
    "    f1_scores = [m['f1'] for m in result['val_metrics']]\n",
    "    plt.plot(f1_scores, label=result['name'])\n",
    "plt.title('Validation F1 Scores')\n",
    "plt.xlabel('Epoch')\n",
    "plt.ylabel('F1 Score')\n",
    "plt.legend()\n",
    "\n",
    "plt.tight_layout()\n",
    "plt.show()\n",
    "\n",
    "# Print comparison table\n",
    "print(\"\\nModel Comparison:\")\n",
    "print(\"-\" * 80)\n",
    "print(f\"{'Model':20} {'Accuracy':10} {'Precision':10} {'Recall':10} {'F1 Score':10}\")\n",
    "print(\"-\" * 80)\n",
    "for result in results:\n",
    "    metrics = result['test_metrics']\n",
    "    print(f\"{result['name']:20} \"\n",
    "          f\"{metrics['accuracy']:.4f}     \"\n",
    "          f\"{metrics['precision']:.4f}     \"\n",
    "          f\"{metrics['recall']:.4f}     \"\n",
    "          f\"{metrics['f1']:.4f}\")"
   ]
  }
 ],
 "metadata": {
  "kernelspec": {
   "display_name": "esm",
   "language": "python",
   "name": "python3"
  },
  "language_info": {
   "codemirror_mode": {
    "name": "ipython",
    "version": 3
   },
   "file_extension": ".py",
   "mimetype": "text/x-python",
   "name": "python",
   "nbconvert_exporter": "python",
   "pygments_lexer": "ipython3",
   "version": "3.10.15"
  }
 },
 "nbformat": 4,
 "nbformat_minor": 2
}
