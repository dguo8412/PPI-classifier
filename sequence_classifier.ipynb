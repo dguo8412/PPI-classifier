{
 "cells": [
  {
   "cell_type": "markdown",
   "metadata": {},
   "source": [
    "# Data Preprocessing"
   ]
  },
  {
   "cell_type": "code",
   "execution_count": 1,
   "metadata": {},
   "outputs": [
    {
     "name": "stdout",
     "output_type": "stream",
     "text": [
      "Using device: cuda\n"
     ]
    }
   ],
   "source": [
    "import os\n",
    "import torch\n",
    "from torch.utils.data import Dataset, DataLoader\n",
    "import torch.nn as nn\n",
    "import torch.optim as optim\n",
    "import numpy as np\n",
    "from sklearn.metrics import accuracy_score, precision_score, recall_score, f1_score\n",
    "from sklearn.model_selection import train_test_split\n",
    "from tqdm import tqdm\n",
    "import matplotlib.pyplot as plt\n",
    "from Bio import SeqIO\n",
    "from copy import deepcopy\n",
    "\n",
    "# Added this for mac compatibility\n",
    "if torch.cuda.is_available():\n",
    "    device = \"cuda\"\n",
    "elif torch.backends.mps.is_available():\n",
    "    device = \"mps\"\n",
    "else:\n",
    "    device = \"cpu\"\n",
    "\n",
    "print(f\"Using device: {device}\")"
   ]
  },
  {
   "cell_type": "code",
   "execution_count": 2,
   "metadata": {},
   "outputs": [
    {
     "name": "stdout",
     "output_type": "stream",
     "text": [
      "Number of positive sequences: 7000\n",
      "Number of negative sequences: 6679\n"
     ]
    }
   ],
   "source": [
    "# Helper to read FASTA file sequences\n",
    "def read_fasta(file_path):\n",
    "    try:\n",
    "        sequences = []\n",
    "        for record in SeqIO.parse(file_path, \"fasta\"):\n",
    "            sequences.append(str(record.seq))\n",
    "        return sequences\n",
    "    except Exception as e:\n",
    "        print(f\"Error reading {file_path}: {e}\")\n",
    "        return []\n",
    "\n",
    "# Load positive and negative sequences\n",
    "positive_pairs = read_fasta('data/positive_pairs.fasta')\n",
    "negative_pairs = read_fasta('data/negative_pairs.fasta')\n",
    "\n",
    "print(f\"Number of positive sequences: {len(positive_pairs)}\")\n",
    "print(f\"Number of negative sequences: {len(negative_pairs)}\")"
   ]
  },
  {
   "cell_type": "code",
   "execution_count": 3,
   "metadata": {},
   "outputs": [
    {
     "name": "stdout",
     "output_type": "stream",
     "text": [
      "Number of filtered positive sequences: 7000\n",
      "Number of filtered negative sequences: 6679\n"
     ]
    }
   ],
   "source": [
    "# Function to check if a sequence contains only standard amino acids\n",
    "def is_valid_sequence(sequence):\n",
    "    valid_vocab = set('ABCDEFGHIKLMNPQRSTUVWYXZ_')\n",
    "    return all(char in valid_vocab for char in sequence), set(sequence) - valid_vocab\n",
    "\n",
    "# Filter the sequence dictionary\n",
    "filtered_positive = []\n",
    "filtered_negative = []\n",
    "\n",
    "for seq in positive_pairs:\n",
    "    is_valid, invalid_chars = is_valid_sequence(seq)\n",
    "    if is_valid:\n",
    "        filtered_positive.append(seq)\n",
    "    else:\n",
    "        print(f\"Sequence {seq} contains unknown amino acids: {', '.join(invalid_chars)} and will be excluded.\")\n",
    "\n",
    "for seq in negative_pairs:\n",
    "    is_valid, invalid_chars = is_valid_sequence(seq)\n",
    "    if is_valid:\n",
    "        filtered_negative.append(seq)\n",
    "    else:\n",
    "        print(f\"Sequence {seq} contains unknown amino acids: {', '.join(invalid_chars)} and will be excluded.\")\n",
    "\n",
    "print(f\"Number of filtered positive sequences: {len(filtered_positive)}\")\n",
    "print(f\"Number of filtered negative sequences: {len(filtered_negative)}\")"
   ]
  },
  {
   "cell_type": "markdown",
   "metadata": {},
   "source": [
    "### Create Labels"
   ]
  },
  {
   "cell_type": "code",
   "execution_count": 4,
   "metadata": {},
   "outputs": [],
   "source": [
    "# Create labels\n",
    "positive_labels = [1] * len(filtered_positive)\n",
    "negative_labels = [0] * len(filtered_negative)\n",
    "\n",
    "# Combine sequences and labels\n",
    "all_sequences = filtered_positive + filtered_negative\n",
    "all_labels = positive_labels + negative_labels"
   ]
  },
  {
   "cell_type": "code",
   "execution_count": 5,
   "metadata": {},
   "outputs": [
    {
     "name": "stdout",
     "output_type": "stream",
     "text": [
      "Unique amino acids: {'N', 'R', 'I', 'T', 'D', 'A', 'M', '_', 'L', 'Z', 'K', 'V', 'E', 'X', 'C', 'G', 'F', 'W', 'Q', 'S', 'P', 'H', 'Y', 'U'}\n",
      "Letter to integer mapping: {'A': 1, 'C': 2, 'D': 3, 'E': 4, 'F': 5, 'G': 6, 'H': 7, 'I': 8, 'K': 9, 'L': 10, 'M': 11, 'N': 12, 'P': 13, 'Q': 14, 'R': 15, 'S': 16, 'T': 17, 'U': 18, 'V': 19, 'W': 20, 'X': 21, 'Y': 22, 'Z': 23, '_': 24, '<PAD>': 0}\n"
     ]
    }
   ],
   "source": [
    "# Collect all unique amino acid letters\n",
    "all_letters = set(''.join(all_sequences))\n",
    "print(f'Unique amino acids: {all_letters}')\n",
    "\n",
    "# Create a mapping from letters to integers, reserving 0 for padding\n",
    "letter_to_int = {letter: idx + 1 for idx, letter in enumerate(sorted(all_letters))}\n",
    "letter_to_int['<PAD>'] = 0  # Padding token\n",
    "\n",
    "print(f'Letter to integer mapping: {letter_to_int}')"
   ]
  },
  {
   "cell_type": "markdown",
   "metadata": {},
   "source": [
    "### Integer Encode Sequences (1-Hot encoding is TOO LARGE since the vocab size is 25 and sequences are padded to length 3000)"
   ]
  },
  {
   "cell_type": "code",
   "execution_count": 6,
   "metadata": {},
   "outputs": [],
   "source": [
    "# Encode the sequences and convert to tensors (skip padding for now)\n",
    "encoded_sequences = []\n",
    "for seq in all_sequences:\n",
    "    try:\n",
    "        encoded_seq = [letter_to_int[aa] for aa in seq]\n",
    "        encoded_sequences.append(torch.tensor(encoded_seq, dtype=torch.long))\n",
    "    except KeyError as e:\n",
    "        print(f\"Error encoding sequence: {seq}. Unmapped character {e}.\")\n",
    "\n",
    "all_labels_tensor = torch.tensor(all_labels, dtype=torch.long)"
   ]
  },
  {
   "cell_type": "markdown",
   "metadata": {},
   "source": [
    "### Pad sequences to length 3000 and remove sequences that are too long"
   ]
  },
  {
   "cell_type": "code",
   "execution_count": 7,
   "metadata": {},
   "outputs": [
    {
     "name": "stdout",
     "output_type": "stream",
     "text": [
      "Number of sequences after filtering: 13378\n",
      "Padded sequences shape: torch.Size([13378, 3000])\n",
      "Labels shape: torch.Size([13378])\n"
     ]
    }
   ],
   "source": [
    "# Set maximum sequence length\n",
    "max_seq_len = 3000\n",
    "\n",
    "# Pair sequences with their corresponding labels\n",
    "filtered_sequences_with_labels = [\n",
    "    (seq, label) for seq, label in zip(encoded_sequences, all_labels_tensor) if len(seq) <= max_seq_len\n",
    "]\n",
    "\n",
    "print(f\"Number of sequences after filtering: {len(filtered_sequences_with_labels)}\")\n",
    "\n",
    "# Define a function to pad a batch of sequences and keep labels\n",
    "def batch_pad_with_labels(batch, max_length, padding_value):\n",
    "    padded_sequences = []\n",
    "    labels = []\n",
    "    for seq, label in batch:\n",
    "        padding_needed = max_length - len(seq)\n",
    "        padded_seq = torch.cat([seq, torch.full((padding_needed,), padding_value, dtype=torch.long)])\n",
    "        padded_sequences.append(padded_seq)\n",
    "        labels.append(label)\n",
    "    return torch.stack(padded_sequences), torch.tensor(labels, dtype=torch.long)\n",
    "\n",
    "# Process sequences and labels in batches\n",
    "batch_size = 64\n",
    "padded_batches = []\n",
    "label_batches = []\n",
    "for i in range(0, len(filtered_sequences_with_labels), batch_size):\n",
    "    batch = filtered_sequences_with_labels[i:i + batch_size]\n",
    "    padded_batch, label_batch = batch_pad_with_labels(batch, max_seq_len, letter_to_int['<PAD>'])\n",
    "    padded_batches.append(padded_batch)\n",
    "    label_batches.append(label_batch)\n",
    "\n",
    "# Combine all padded batches into a single tensor\n",
    "padded_sequences = torch.cat(padded_batches, dim=0)\n",
    "labels = torch.cat(label_batches, dim=0)\n",
    "\n",
    "print(f\"Padded sequences shape: {padded_sequences.shape}\")\n",
    "print(f\"Labels shape: {labels.shape}\")"
   ]
  },
  {
   "cell_type": "markdown",
   "metadata": {},
   "source": [
    "### Create 70/15/15 Train/Dev/Test Split"
   ]
  },
  {
   "cell_type": "code",
   "execution_count": 8,
   "metadata": {},
   "outputs": [
    {
     "name": "stdout",
     "output_type": "stream",
     "text": [
      "\n",
      "Data split summary:\n",
      "Training set: 9364 samples\n",
      "  Positive: 4739 (50.6%)\n",
      "  Negative: 4625 (49.4%)\n",
      "\n",
      "Validation set: 2007 samples\n",
      "  Positive: 1016 (50.6%)\n",
      "  Negative: 991 (49.4%)\n",
      "\n",
      "Test set: 2007 samples\n",
      "  Positive: 1015 (50.6%)\n",
      "  Negative: 992 (49.4%)\n"
     ]
    }
   ],
   "source": [
    "# Split into train and temporary test set\n",
    "X_train, X_temp, y_train, y_temp = train_test_split(\n",
    "    padded_sequences, \n",
    "    labels,\n",
    "    test_size=0.3,  \n",
    "    random_state=42,\n",
    "    stratify=labels  \n",
    ")\n",
    "\n",
    "# Split the temp set into validation and test\n",
    "X_val, X_test, y_val, y_test = train_test_split(\n",
    "    X_temp,\n",
    "    y_temp,\n",
    "    test_size=0.5,\n",
    "    random_state=42,\n",
    "    stratify=y_temp\n",
    ")\n",
    "\n",
    "# Print shapes and class distributions\n",
    "print(\"\\nData split summary:\")\n",
    "print(f\"Training set: {X_train.shape[0]} samples\")\n",
    "print(f\"  Positive: {torch.sum(y_train == 1)} ({torch.sum(y_train == 1)/len(y_train)*100:.1f}%)\")\n",
    "print(f\"  Negative: {torch.sum(y_train == 0)} ({torch.sum(y_train == 0)/len(y_train)*100:.1f}%)\")\n",
    "\n",
    "print(f\"\\nValidation set: {X_val.shape[0]} samples\")\n",
    "print(f\"  Positive: {torch.sum(y_val == 1)} ({torch.sum(y_val == 1)/len(y_val)*100:.1f}%)\")\n",
    "print(f\"  Negative: {torch.sum(y_val == 0)} ({torch.sum(y_val == 0)/len(y_val)*100:.1f}%)\")\n",
    "\n",
    "print(f\"\\nTest set: {X_test.shape[0]} samples\")\n",
    "print(f\"  Positive: {torch.sum(y_test == 1)} ({torch.sum(y_test == 1)/len(y_test)*100:.1f}%)\")\n",
    "print(f\"  Negative: {torch.sum(y_test == 0)} ({torch.sum(y_test == 0)/len(y_test)*100:.1f}%)\")\n",
    "\n",
    "\n",
    "# Create DataLoader with float labels\n",
    "train_dataset = torch.utils.data.TensorDataset(X_train, y_train.float())\n",
    "val_dataset = torch.utils.data.TensorDataset(X_val, y_val.float())\n",
    "test_dataset = torch.utils.data.TensorDataset(X_test, y_test.float())\n",
    "\n",
    "batch_size = 128\n",
    "train_loader = DataLoader(train_dataset, batch_size=batch_size, shuffle=True)\n",
    "val_loader = DataLoader(val_dataset, batch_size=batch_size, shuffle=False)\n",
    "test_loader = DataLoader(test_dataset, batch_size=batch_size, shuffle=False)"
   ]
  },
  {
   "cell_type": "markdown",
   "metadata": {},
   "source": [
    "# Test Simple Neural Network for Binary Classification"
   ]
  },
  {
   "cell_type": "code",
   "execution_count": 9,
   "metadata": {},
   "outputs": [
    {
     "name": "stderr",
     "output_type": "stream",
     "text": [
      "Training: 100%|██████████| 74/74 [00:01<00:00, 44.66it/s]\n"
     ]
    },
    {
     "name": "stdout",
     "output_type": "stream",
     "text": [
      "\n",
      "Epoch 1/50\n",
      "Train Loss: 0.4983\n",
      "Train Metrics: Accuracy=0.9550, F1=0.9555\n",
      "Val Metrics: Accuracy=0.8052, F1=0.8252\n"
     ]
    },
    {
     "name": "stderr",
     "output_type": "stream",
     "text": [
      "Training: 100%|██████████| 74/74 [00:01<00:00, 62.46it/s]\n"
     ]
    },
    {
     "name": "stdout",
     "output_type": "stream",
     "text": [
      "\n",
      "Epoch 2/50\n",
      "Train Loss: 0.1541\n",
      "Train Metrics: Accuracy=0.9852, F1=0.9854\n",
      "Val Metrics: Accuracy=0.7982, F1=0.8223\n"
     ]
    },
    {
     "name": "stderr",
     "output_type": "stream",
     "text": [
      "Training: 100%|██████████| 74/74 [00:01<00:00, 58.56it/s]\n"
     ]
    },
    {
     "name": "stdout",
     "output_type": "stream",
     "text": [
      "\n",
      "Epoch 3/50\n",
      "Train Loss: 0.0613\n",
      "Train Metrics: Accuracy=0.9949, F1=0.9949\n",
      "Val Metrics: Accuracy=0.7987, F1=0.8167\n"
     ]
    },
    {
     "name": "stderr",
     "output_type": "stream",
     "text": [
      "Training: 100%|██████████| 74/74 [00:01<00:00, 62.73it/s]\n"
     ]
    },
    {
     "name": "stdout",
     "output_type": "stream",
     "text": [
      "\n",
      "Epoch 4/50\n",
      "Train Loss: 0.0288\n",
      "Train Metrics: Accuracy=0.9977, F1=0.9977\n",
      "Val Metrics: Accuracy=0.7987, F1=0.8183\n"
     ]
    },
    {
     "name": "stderr",
     "output_type": "stream",
     "text": [
      "Training: 100%|██████████| 74/74 [00:01<00:00, 63.10it/s]\n"
     ]
    },
    {
     "name": "stdout",
     "output_type": "stream",
     "text": [
      "\n",
      "Epoch 5/50\n",
      "Train Loss: 0.0156\n",
      "Train Metrics: Accuracy=0.9991, F1=0.9992\n",
      "Val Metrics: Accuracy=0.7947, F1=0.8073\n"
     ]
    },
    {
     "name": "stderr",
     "output_type": "stream",
     "text": [
      "Training: 100%|██████████| 74/74 [00:01<00:00, 62.77it/s]\n"
     ]
    },
    {
     "name": "stdout",
     "output_type": "stream",
     "text": [
      "\n",
      "Epoch 6/50\n",
      "Train Loss: 0.0097\n",
      "Train Metrics: Accuracy=0.9993, F1=0.9993\n",
      "Val Metrics: Accuracy=0.7972, F1=0.8147\n"
     ]
    },
    {
     "name": "stderr",
     "output_type": "stream",
     "text": [
      "Training: 100%|██████████| 74/74 [00:01<00:00, 62.96it/s]\n"
     ]
    },
    {
     "name": "stdout",
     "output_type": "stream",
     "text": [
      "\n",
      "Epoch 7/50\n",
      "Train Loss: 0.0040\n",
      "Train Metrics: Accuracy=0.9994, F1=0.9994\n",
      "Val Metrics: Accuracy=0.7962, F1=0.8138\n"
     ]
    },
    {
     "name": "stderr",
     "output_type": "stream",
     "text": [
      "Training: 100%|██████████| 74/74 [00:01<00:00, 62.99it/s]\n"
     ]
    },
    {
     "name": "stdout",
     "output_type": "stream",
     "text": [
      "\n",
      "Epoch 8/50\n",
      "Train Loss: 0.0034\n",
      "Train Metrics: Accuracy=0.9996, F1=0.9996\n",
      "Val Metrics: Accuracy=0.7942, F1=0.8132\n"
     ]
    },
    {
     "name": "stderr",
     "output_type": "stream",
     "text": [
      "Training: 100%|██████████| 74/74 [00:01<00:00, 62.98it/s]\n"
     ]
    },
    {
     "name": "stdout",
     "output_type": "stream",
     "text": [
      "\n",
      "Epoch 9/50\n",
      "Train Loss: 0.0029\n",
      "Train Metrics: Accuracy=0.9995, F1=0.9995\n",
      "Val Metrics: Accuracy=0.7922, F1=0.8114\n"
     ]
    },
    {
     "name": "stderr",
     "output_type": "stream",
     "text": [
      "Training: 100%|██████████| 74/74 [00:01<00:00, 62.22it/s]\n"
     ]
    },
    {
     "name": "stdout",
     "output_type": "stream",
     "text": [
      "\n",
      "Epoch 10/50\n",
      "Train Loss: 0.0062\n",
      "Train Metrics: Accuracy=0.9986, F1=0.9986\n",
      "Val Metrics: Accuracy=0.7853, F1=0.8072\n"
     ]
    },
    {
     "name": "stderr",
     "output_type": "stream",
     "text": [
      "Training: 100%|██████████| 74/74 [00:01<00:00, 62.82it/s]\n"
     ]
    },
    {
     "name": "stdout",
     "output_type": "stream",
     "text": [
      "\n",
      "Epoch 11/50\n",
      "Train Loss: 0.0211\n",
      "Train Metrics: Accuracy=0.9921, F1=0.9922\n",
      "Val Metrics: Accuracy=0.7758, F1=0.7951\n"
     ]
    },
    {
     "name": "stderr",
     "output_type": "stream",
     "text": [
      "Training: 100%|██████████| 74/74 [00:01<00:00, 62.91it/s]\n"
     ]
    },
    {
     "name": "stdout",
     "output_type": "stream",
     "text": [
      "\n",
      "Epoch 12/50\n",
      "Train Loss: 0.0695\n",
      "Train Metrics: Accuracy=0.9862, F1=0.9864\n",
      "Val Metrics: Accuracy=0.7803, F1=0.7963\n"
     ]
    },
    {
     "name": "stderr",
     "output_type": "stream",
     "text": [
      "Training: 100%|██████████| 74/74 [00:01<00:00, 62.86it/s]\n"
     ]
    },
    {
     "name": "stdout",
     "output_type": "stream",
     "text": [
      "\n",
      "Epoch 13/50\n",
      "Train Loss: 0.0590\n",
      "Train Metrics: Accuracy=0.9968, F1=0.9968\n",
      "Val Metrics: Accuracy=0.7897, F1=0.8070\n"
     ]
    },
    {
     "name": "stderr",
     "output_type": "stream",
     "text": [
      "Training: 100%|██████████| 74/74 [00:01<00:00, 62.88it/s]\n"
     ]
    },
    {
     "name": "stdout",
     "output_type": "stream",
     "text": [
      "\n",
      "Epoch 14/50\n",
      "Train Loss: 0.0239\n",
      "Train Metrics: Accuracy=0.9970, F1=0.9971\n",
      "Val Metrics: Accuracy=0.7942, F1=0.8137\n"
     ]
    },
    {
     "name": "stderr",
     "output_type": "stream",
     "text": [
      "Training: 100%|██████████| 74/74 [00:01<00:00, 62.32it/s]\n"
     ]
    },
    {
     "name": "stdout",
     "output_type": "stream",
     "text": [
      "\n",
      "Epoch 15/50\n",
      "Train Loss: 0.0147\n",
      "Train Metrics: Accuracy=0.9988, F1=0.9988\n",
      "Val Metrics: Accuracy=0.7907, F1=0.8061\n"
     ]
    },
    {
     "name": "stderr",
     "output_type": "stream",
     "text": [
      "Training: 100%|██████████| 74/74 [00:01<00:00, 61.94it/s]\n"
     ]
    },
    {
     "name": "stdout",
     "output_type": "stream",
     "text": [
      "\n",
      "Epoch 16/50\n",
      "Train Loss: 0.0107\n",
      "Train Metrics: Accuracy=0.9993, F1=0.9993\n",
      "Val Metrics: Accuracy=0.7952, F1=0.8133\n"
     ]
    },
    {
     "name": "stderr",
     "output_type": "stream",
     "text": [
      "Training: 100%|██████████| 74/74 [00:01<00:00, 62.70it/s]\n"
     ]
    },
    {
     "name": "stdout",
     "output_type": "stream",
     "text": [
      "\n",
      "Epoch 17/50\n",
      "Train Loss: 0.0046\n",
      "Train Metrics: Accuracy=0.9995, F1=0.9995\n",
      "Val Metrics: Accuracy=0.7828, F1=0.7928\n"
     ]
    },
    {
     "name": "stderr",
     "output_type": "stream",
     "text": [
      "Training: 100%|██████████| 74/74 [00:01<00:00, 62.71it/s]\n"
     ]
    },
    {
     "name": "stdout",
     "output_type": "stream",
     "text": [
      "\n",
      "Epoch 18/50\n",
      "Train Loss: 0.0033\n",
      "Train Metrics: Accuracy=0.9995, F1=0.9995\n",
      "Val Metrics: Accuracy=0.7862, F1=0.7981\n"
     ]
    },
    {
     "name": "stderr",
     "output_type": "stream",
     "text": [
      "Training: 100%|██████████| 74/74 [00:01<00:00, 62.42it/s]\n"
     ]
    },
    {
     "name": "stdout",
     "output_type": "stream",
     "text": [
      "\n",
      "Epoch 19/50\n",
      "Train Loss: 0.0037\n",
      "Train Metrics: Accuracy=0.9993, F1=0.9993\n",
      "Val Metrics: Accuracy=0.7892, F1=0.8064\n"
     ]
    },
    {
     "name": "stderr",
     "output_type": "stream",
     "text": [
      "Training: 100%|██████████| 74/74 [00:01<00:00, 62.47it/s]\n"
     ]
    },
    {
     "name": "stdout",
     "output_type": "stream",
     "text": [
      "\n",
      "Epoch 20/50\n",
      "Train Loss: 0.0036\n",
      "Train Metrics: Accuracy=0.9993, F1=0.9993\n",
      "Val Metrics: Accuracy=0.7872, F1=0.8015\n"
     ]
    },
    {
     "name": "stderr",
     "output_type": "stream",
     "text": [
      "Training: 100%|██████████| 74/74 [00:01<00:00, 62.47it/s]\n"
     ]
    },
    {
     "name": "stdout",
     "output_type": "stream",
     "text": [
      "\n",
      "Epoch 21/50\n",
      "Train Loss: 0.0033\n",
      "Train Metrics: Accuracy=0.9991, F1=0.9992\n",
      "Val Metrics: Accuracy=0.7897, F1=0.8009\n"
     ]
    },
    {
     "name": "stderr",
     "output_type": "stream",
     "text": [
      "Training: 100%|██████████| 74/74 [00:01<00:00, 61.70it/s]\n"
     ]
    },
    {
     "name": "stdout",
     "output_type": "stream",
     "text": [
      "\n",
      "Epoch 22/50\n",
      "Train Loss: 0.0055\n",
      "Train Metrics: Accuracy=0.9993, F1=0.9993\n",
      "Val Metrics: Accuracy=0.7867, F1=0.7994\n"
     ]
    },
    {
     "name": "stderr",
     "output_type": "stream",
     "text": [
      "Training: 100%|██████████| 74/74 [00:01<00:00, 61.69it/s]\n"
     ]
    },
    {
     "name": "stdout",
     "output_type": "stream",
     "text": [
      "\n",
      "Epoch 23/50\n",
      "Train Loss: 0.0079\n",
      "Train Metrics: Accuracy=0.9978, F1=0.9978\n",
      "Val Metrics: Accuracy=0.7942, F1=0.8084\n"
     ]
    },
    {
     "name": "stderr",
     "output_type": "stream",
     "text": [
      "Training: 100%|██████████| 74/74 [00:01<00:00, 62.36it/s]\n"
     ]
    },
    {
     "name": "stdout",
     "output_type": "stream",
     "text": [
      "\n",
      "Epoch 24/50\n",
      "Train Loss: 0.0078\n",
      "Train Metrics: Accuracy=0.9991, F1=0.9992\n",
      "Val Metrics: Accuracy=0.7862, F1=0.7994\n"
     ]
    },
    {
     "name": "stderr",
     "output_type": "stream",
     "text": [
      "Training: 100%|██████████| 74/74 [00:01<00:00, 62.23it/s]\n"
     ]
    },
    {
     "name": "stdout",
     "output_type": "stream",
     "text": [
      "\n",
      "Epoch 25/50\n",
      "Train Loss: 0.0195\n",
      "Train Metrics: Accuracy=0.9977, F1=0.9977\n",
      "Val Metrics: Accuracy=0.7773, F1=0.7860\n"
     ]
    },
    {
     "name": "stderr",
     "output_type": "stream",
     "text": [
      "Training: 100%|██████████| 74/74 [00:01<00:00, 62.01it/s]\n"
     ]
    },
    {
     "name": "stdout",
     "output_type": "stream",
     "text": [
      "\n",
      "Epoch 26/50\n",
      "Train Loss: 0.0158\n",
      "Train Metrics: Accuracy=0.9973, F1=0.9974\n",
      "Val Metrics: Accuracy=0.7927, F1=0.8131\n"
     ]
    },
    {
     "name": "stderr",
     "output_type": "stream",
     "text": [
      "Training: 100%|██████████| 74/74 [00:01<00:00, 62.30it/s]\n"
     ]
    },
    {
     "name": "stdout",
     "output_type": "stream",
     "text": [
      "\n",
      "Epoch 27/50\n",
      "Train Loss: 0.0151\n",
      "Train Metrics: Accuracy=0.9984, F1=0.9984\n",
      "Val Metrics: Accuracy=0.7957, F1=0.8075\n"
     ]
    },
    {
     "name": "stderr",
     "output_type": "stream",
     "text": [
      "Training: 100%|██████████| 74/74 [00:01<00:00, 62.46it/s]\n"
     ]
    },
    {
     "name": "stdout",
     "output_type": "stream",
     "text": [
      "\n",
      "Epoch 28/50\n",
      "Train Loss: 0.0218\n",
      "Train Metrics: Accuracy=0.9983, F1=0.9983\n",
      "Val Metrics: Accuracy=0.8022, F1=0.8190\n"
     ]
    },
    {
     "name": "stderr",
     "output_type": "stream",
     "text": [
      "Training: 100%|██████████| 74/74 [00:01<00:00, 62.24it/s]\n"
     ]
    },
    {
     "name": "stdout",
     "output_type": "stream",
     "text": [
      "\n",
      "Epoch 29/50\n",
      "Train Loss: 0.0152\n",
      "Train Metrics: Accuracy=0.9988, F1=0.9988\n",
      "Val Metrics: Accuracy=0.7937, F1=0.8096\n"
     ]
    },
    {
     "name": "stderr",
     "output_type": "stream",
     "text": [
      "Training: 100%|██████████| 74/74 [00:01<00:00, 61.98it/s]\n"
     ]
    },
    {
     "name": "stdout",
     "output_type": "stream",
     "text": [
      "\n",
      "Epoch 30/50\n",
      "Train Loss: 0.0083\n",
      "Train Metrics: Accuracy=0.9993, F1=0.9993\n",
      "Val Metrics: Accuracy=0.7937, F1=0.8090\n"
     ]
    },
    {
     "name": "stderr",
     "output_type": "stream",
     "text": [
      "Training: 100%|██████████| 74/74 [00:01<00:00, 62.10it/s]\n"
     ]
    },
    {
     "name": "stdout",
     "output_type": "stream",
     "text": [
      "\n",
      "Epoch 31/50\n",
      "Train Loss: 0.0055\n",
      "Train Metrics: Accuracy=0.9994, F1=0.9994\n",
      "Val Metrics: Accuracy=0.7932, F1=0.8092\n"
     ]
    },
    {
     "name": "stderr",
     "output_type": "stream",
     "text": [
      "Training: 100%|██████████| 74/74 [00:01<00:00, 62.33it/s]\n"
     ]
    },
    {
     "name": "stdout",
     "output_type": "stream",
     "text": [
      "\n",
      "Epoch 32/50\n",
      "Train Loss: 0.0048\n",
      "Train Metrics: Accuracy=0.9996, F1=0.9996\n",
      "Val Metrics: Accuracy=0.7912, F1=0.8074\n"
     ]
    },
    {
     "name": "stderr",
     "output_type": "stream",
     "text": [
      "Training: 100%|██████████| 74/74 [00:01<00:00, 62.09it/s]\n"
     ]
    },
    {
     "name": "stdout",
     "output_type": "stream",
     "text": [
      "\n",
      "Epoch 33/50\n",
      "Train Loss: 0.0086\n",
      "Train Metrics: Accuracy=0.9985, F1=0.9985\n",
      "Val Metrics: Accuracy=0.7932, F1=0.8085\n"
     ]
    },
    {
     "name": "stderr",
     "output_type": "stream",
     "text": [
      "Training: 100%|██████████| 74/74 [00:01<00:00, 62.28it/s]\n"
     ]
    },
    {
     "name": "stdout",
     "output_type": "stream",
     "text": [
      "\n",
      "Epoch 34/50\n",
      "Train Loss: 0.0076\n",
      "Train Metrics: Accuracy=0.9994, F1=0.9994\n",
      "Val Metrics: Accuracy=0.7922, F1=0.8027\n"
     ]
    },
    {
     "name": "stderr",
     "output_type": "stream",
     "text": [
      "Training: 100%|██████████| 74/74 [00:01<00:00, 62.40it/s]\n"
     ]
    },
    {
     "name": "stdout",
     "output_type": "stream",
     "text": [
      "\n",
      "Epoch 35/50\n",
      "Train Loss: 0.0037\n",
      "Train Metrics: Accuracy=0.9994, F1=0.9994\n",
      "Val Metrics: Accuracy=0.7902, F1=0.8054\n"
     ]
    },
    {
     "name": "stderr",
     "output_type": "stream",
     "text": [
      "Training: 100%|██████████| 74/74 [00:01<00:00, 62.47it/s]\n"
     ]
    },
    {
     "name": "stdout",
     "output_type": "stream",
     "text": [
      "\n",
      "Epoch 36/50\n",
      "Train Loss: 0.0045\n",
      "Train Metrics: Accuracy=0.9991, F1=0.9992\n",
      "Val Metrics: Accuracy=0.7857, F1=0.7923\n"
     ]
    },
    {
     "name": "stderr",
     "output_type": "stream",
     "text": [
      "Training: 100%|██████████| 74/74 [00:01<00:00, 62.49it/s]\n"
     ]
    },
    {
     "name": "stdout",
     "output_type": "stream",
     "text": [
      "\n",
      "Epoch 37/50\n",
      "Train Loss: 0.0092\n",
      "Train Metrics: Accuracy=0.9991, F1=0.9992\n",
      "Val Metrics: Accuracy=0.7838, F1=0.7968\n"
     ]
    },
    {
     "name": "stderr",
     "output_type": "stream",
     "text": [
      "Training: 100%|██████████| 74/74 [00:01<00:00, 62.37it/s]\n"
     ]
    },
    {
     "name": "stdout",
     "output_type": "stream",
     "text": [
      "\n",
      "Epoch 38/50\n",
      "Train Loss: 0.0147\n",
      "Train Metrics: Accuracy=0.9971, F1=0.9972\n",
      "Val Metrics: Accuracy=0.7907, F1=0.8096\n"
     ]
    },
    {
     "name": "stderr",
     "output_type": "stream",
     "text": [
      "Training: 100%|██████████| 74/74 [00:01<00:00, 62.38it/s]\n"
     ]
    },
    {
     "name": "stdout",
     "output_type": "stream",
     "text": [
      "\n",
      "Epoch 39/50\n",
      "Train Loss: 0.0181\n",
      "Train Metrics: Accuracy=0.9984, F1=0.9984\n",
      "Val Metrics: Accuracy=0.7848, F1=0.7968\n"
     ]
    },
    {
     "name": "stderr",
     "output_type": "stream",
     "text": [
      "Training: 100%|██████████| 74/74 [00:01<00:00, 61.76it/s]\n"
     ]
    },
    {
     "name": "stdout",
     "output_type": "stream",
     "text": [
      "\n",
      "Epoch 40/50\n",
      "Train Loss: 0.0166\n",
      "Train Metrics: Accuracy=0.9981, F1=0.9981\n",
      "Val Metrics: Accuracy=0.7882, F1=0.8013\n"
     ]
    },
    {
     "name": "stderr",
     "output_type": "stream",
     "text": [
      "Training: 100%|██████████| 74/74 [00:01<00:00, 62.20it/s]\n"
     ]
    },
    {
     "name": "stdout",
     "output_type": "stream",
     "text": [
      "\n",
      "Epoch 41/50\n",
      "Train Loss: 0.0252\n",
      "Train Metrics: Accuracy=0.9987, F1=0.9987\n",
      "Val Metrics: Accuracy=0.7897, F1=0.8096\n"
     ]
    },
    {
     "name": "stderr",
     "output_type": "stream",
     "text": [
      "Training: 100%|██████████| 74/74 [00:01<00:00, 62.30it/s]\n"
     ]
    },
    {
     "name": "stdout",
     "output_type": "stream",
     "text": [
      "\n",
      "Epoch 42/50\n",
      "Train Loss: 0.0196\n",
      "Train Metrics: Accuracy=0.9987, F1=0.9987\n",
      "Val Metrics: Accuracy=0.7937, F1=0.8064\n"
     ]
    },
    {
     "name": "stderr",
     "output_type": "stream",
     "text": [
      "Training: 100%|██████████| 74/74 [00:01<00:00, 62.41it/s]\n"
     ]
    },
    {
     "name": "stdout",
     "output_type": "stream",
     "text": [
      "\n",
      "Epoch 43/50\n",
      "Train Loss: 0.0160\n",
      "Train Metrics: Accuracy=0.9991, F1=0.9992\n",
      "Val Metrics: Accuracy=0.7967, F1=0.8070\n"
     ]
    },
    {
     "name": "stderr",
     "output_type": "stream",
     "text": [
      "Training: 100%|██████████| 74/74 [00:01<00:00, 62.47it/s]\n"
     ]
    },
    {
     "name": "stdout",
     "output_type": "stream",
     "text": [
      "\n",
      "Epoch 44/50\n",
      "Train Loss: 0.0136\n",
      "Train Metrics: Accuracy=0.9989, F1=0.9989\n",
      "Val Metrics: Accuracy=0.7967, F1=0.8115\n"
     ]
    },
    {
     "name": "stderr",
     "output_type": "stream",
     "text": [
      "Training: 100%|██████████| 74/74 [00:01<00:00, 62.38it/s]\n"
     ]
    },
    {
     "name": "stdout",
     "output_type": "stream",
     "text": [
      "\n",
      "Epoch 45/50\n",
      "Train Loss: 0.0144\n",
      "Train Metrics: Accuracy=0.9991, F1=0.9992\n",
      "Val Metrics: Accuracy=0.7892, F1=0.8000\n"
     ]
    },
    {
     "name": "stderr",
     "output_type": "stream",
     "text": [
      "Training: 100%|██████████| 74/74 [00:01<00:00, 62.43it/s]\n"
     ]
    },
    {
     "name": "stdout",
     "output_type": "stream",
     "text": [
      "\n",
      "Epoch 46/50\n",
      "Train Loss: 0.0152\n",
      "Train Metrics: Accuracy=0.9993, F1=0.9993\n",
      "Val Metrics: Accuracy=0.7877, F1=0.8076\n"
     ]
    },
    {
     "name": "stderr",
     "output_type": "stream",
     "text": [
      "Training: 100%|██████████| 74/74 [00:01<00:00, 62.76it/s]\n"
     ]
    },
    {
     "name": "stdout",
     "output_type": "stream",
     "text": [
      "\n",
      "Epoch 47/50\n",
      "Train Loss: 0.0123\n",
      "Train Metrics: Accuracy=0.9994, F1=0.9994\n",
      "Val Metrics: Accuracy=0.7877, F1=0.8028\n"
     ]
    },
    {
     "name": "stderr",
     "output_type": "stream",
     "text": [
      "Training: 100%|██████████| 74/74 [00:01<00:00, 62.23it/s]\n"
     ]
    },
    {
     "name": "stdout",
     "output_type": "stream",
     "text": [
      "\n",
      "Epoch 48/50\n",
      "Train Loss: 0.0128\n",
      "Train Metrics: Accuracy=0.9993, F1=0.9993\n",
      "Val Metrics: Accuracy=0.7862, F1=0.8020\n"
     ]
    },
    {
     "name": "stderr",
     "output_type": "stream",
     "text": [
      "Training: 100%|██████████| 74/74 [00:01<00:00, 62.20it/s]\n"
     ]
    },
    {
     "name": "stdout",
     "output_type": "stream",
     "text": [
      "\n",
      "Epoch 49/50\n",
      "Train Loss: 0.0157\n",
      "Train Metrics: Accuracy=0.9989, F1=0.9989\n",
      "Val Metrics: Accuracy=0.7887, F1=0.8028\n"
     ]
    },
    {
     "name": "stderr",
     "output_type": "stream",
     "text": [
      "Training: 100%|██████████| 74/74 [00:01<00:00, 62.17it/s]\n"
     ]
    },
    {
     "name": "stdout",
     "output_type": "stream",
     "text": [
      "\n",
      "Epoch 50/50\n",
      "Train Loss: 0.0092\n",
      "Train Metrics: Accuracy=0.9990, F1=0.9991\n",
      "Val Metrics: Accuracy=0.7897, F1=0.8075\n",
      "\n",
      "Final Test Set Metrics:\n",
      "Accuracy: 0.7838\n",
      "Precision: 0.7451\n",
      "Recall: 0.8700\n",
      "F1 Score: 0.8027\n"
     ]
    }
   ],
   "source": [
    "class ProteinSequenceClassifier(nn.Module):\n",
    "    def __init__(self, vocab_size, embedding_dim=64, hidden_dim=1024):\n",
    "        super().__init__()\n",
    "        self.embedding = nn.Embedding(vocab_size, embedding_dim, padding_idx=0)\n",
    "        \n",
    "        # Flatten the embedded sequence\n",
    "        input_dim = embedding_dim * max_seq_len\n",
    "        \n",
    "        self.model = nn.Sequential(\n",
    "            nn.Linear(input_dim, hidden_dim),\n",
    "            nn.BatchNorm1d(hidden_dim),\n",
    "            nn.ReLU(),\n",
    "            nn.Dropout(0.2),\n",
    "            \n",
    "            nn.Linear(hidden_dim, hidden_dim // 2),\n",
    "            nn.BatchNorm1d(hidden_dim // 2),\n",
    "            nn.ReLU(),\n",
    "            nn.Dropout(0.2),\n",
    "            \n",
    "            nn.Linear(hidden_dim // 2, hidden_dim // 4),\n",
    "            nn.BatchNorm1d(hidden_dim // 4),\n",
    "            nn.ReLU(),\n",
    "            nn.Dropout(0.1),\n",
    "            \n",
    "            nn.Linear(hidden_dim // 4, 1),\n",
    "            nn.Sigmoid()\n",
    "        )\n",
    "        \n",
    "    def forward(self, x):\n",
    "        x = self.embedding(x)\n",
    "        x = x.view(x.size(0), -1)\n",
    "        return self.model(x).squeeze()\n",
    "\n",
    "# Initialize model, loss function, and optimizer\n",
    "vocab_size = len(letter_to_int)\n",
    "model = ProteinSequenceClassifier(vocab_size).to(device)\n",
    "criterion = nn.BCELoss()\n",
    "optimizer = optim.Adam(model.parameters(), lr=0.0003, weight_decay=1e-5)\n",
    "\n",
    "# Training function with gradient clipping to avoid gradient explosion\n",
    "def train_epoch(model, train_loader, criterion, optimizer):\n",
    "    model.train()\n",
    "    total_loss = 0\n",
    "    predictions = []\n",
    "    true_labels = []\n",
    "    \n",
    "    for inputs, labels in tqdm(train_loader, desc=\"Training\"):\n",
    "        inputs, labels = inputs.to(device), labels.to(device)\n",
    "        \n",
    "        optimizer.zero_grad()\n",
    "        outputs = model(inputs)\n",
    "        loss = criterion(outputs, labels)\n",
    "        loss.backward()\n",
    "        \n",
    "        # Gradient clipping\n",
    "        torch.nn.utils.clip_grad_norm_(model.parameters(), max_norm=1.0)\n",
    "        \n",
    "        optimizer.step()\n",
    "        \n",
    "        total_loss += loss.item()\n",
    "        predictions.extend((outputs > 0.5).cpu().numpy())\n",
    "        true_labels.extend(labels.cpu().numpy())\n",
    "    \n",
    "    return total_loss / len(train_loader), predictions, true_labels\n",
    "\n",
    "# Evaluation function\n",
    "def evaluate(model, data_loader):\n",
    "    model.eval()\n",
    "    predictions = []\n",
    "    true_labels = []\n",
    "    \n",
    "    with torch.no_grad():\n",
    "        for inputs, labels in data_loader:\n",
    "            inputs, labels = inputs.to(device), labels.to(device)\n",
    "            outputs = model(inputs)\n",
    "            predictions.extend((outputs > 0.5).cpu().numpy())\n",
    "            true_labels.extend(labels.cpu().numpy())\n",
    "    \n",
    "    return {\n",
    "        'accuracy': accuracy_score(true_labels, predictions),\n",
    "        'precision': precision_score(true_labels, predictions, zero_division=0),\n",
    "        'recall': recall_score(true_labels, predictions, zero_division=0),\n",
    "        'f1': f1_score(true_labels, predictions, zero_division=0)\n",
    "    }\n",
    "\n",
    "# Training loop\n",
    "n_epochs = 50\n",
    "train_losses = []\n",
    "val_metrics = []\n",
    "\n",
    "for epoch in range(n_epochs):\n",
    "    # Train\n",
    "    loss, train_preds, train_labels = train_epoch(model, train_loader, criterion, optimizer)\n",
    "    train_losses.append(loss)\n",
    "    \n",
    "    # Evaluate\n",
    "    train_metrics = evaluate(model, train_loader)\n",
    "    val_metrics_epoch = evaluate(model, val_loader)\n",
    "    val_metrics.append(val_metrics_epoch)\n",
    "    \n",
    "    print(f\"\\nEpoch {epoch+1}/{n_epochs}\")\n",
    "    print(f\"Train Loss: {loss:.4f}\")\n",
    "    print(f\"Train Metrics: Accuracy={train_metrics['accuracy']:.4f}, F1={train_metrics['f1']:.4f}\")\n",
    "    print(f\"Val Metrics: Accuracy={val_metrics_epoch['accuracy']:.4f}, F1={val_metrics_epoch['f1']:.4f}\")\n",
    "\n",
    "# Final evaluation on test set\n",
    "test_metrics = evaluate(model, test_loader)\n",
    "print(\"\\nFinal Test Set Metrics:\")\n",
    "print(f\"Accuracy: {test_metrics['accuracy']:.4f}\")\n",
    "print(f\"Precision: {test_metrics['precision']:.4f}\")\n",
    "print(f\"Recall: {test_metrics['recall']:.4f}\")\n",
    "print(f\"F1 Score: {test_metrics['f1']:.4f}\")"
   ]
  },
  {
   "cell_type": "markdown",
   "metadata": {},
   "source": [
    "### Plot Training Curve"
   ]
  },
  {
   "cell_type": "code",
   "execution_count": 10,
   "metadata": {},
   "outputs": [
    {
     "data": {
      "image/png": "[encoded data removed]",
      "text/plain": [
       "<Figure size 1000x500 with 2 Axes>"
      ]
     },
     "metadata": {},
     "output_type": "display_data"
    }
   ],
   "source": [
    "plt.figure(figsize=(10, 5))\n",
    "plt.subplot(1, 2, 1)\n",
    "plt.plot(train_losses)\n",
    "plt.title('Training Loss')\n",
    "plt.xlabel('Epoch')\n",
    "plt.ylabel('Loss')\n",
    "\n",
    "plt.subplot(1, 2, 2)\n",
    "plt.plot([m['accuracy'] for m in val_metrics], label='Accuracy')\n",
    "plt.plot([m['f1'] for m in val_metrics], label='F1 Score')\n",
    "plt.title('Validation Metrics')\n",
    "plt.xlabel('Epoch')\n",
    "plt.ylabel('Score')\n",
    "plt.legend()\n",
    "plt.tight_layout()\n",
    "plt.show()"
   ]
  },
  {
   "cell_type": "markdown",
   "metadata": {},
   "source": [
    "# Comprehensive Training Suite to compare Neural Network Models with different hyperparameters"
   ]
  },
  {
   "cell_type": "code",
   "execution_count": 11,
   "metadata": {},
   "outputs": [
    {
     "name": "stdout",
     "output_type": "stream",
     "text": [
      "\n",
      "Training Logistic Regression...\n"
     ]
    },
    {
     "name": "stderr",
     "output_type": "stream",
     "text": [
      "Training: 100%|██████████| 37/37 [00:00<00:00, 104.43it/s]\n",
      "Training: 100%|██████████| 37/37 [00:00<00:00, 109.89it/s]\n",
      "Training: 100%|██████████| 37/37 [00:00<00:00, 108.16it/s]\n",
      "Training: 100%|██████████| 37/37 [00:00<00:00, 106.68it/s]\n",
      "Training: 100%|██████████| 37/37 [00:00<00:00, 105.29it/s]\n"
     ]
    },
    {
     "name": "stdout",
     "output_type": "stream",
     "text": [
      "\n",
      "Epoch 5/30\n",
      "Train Loss: 0.0625\n",
      "Train Metrics: Accuracy=0.9985, F1=0.9985\n",
      "Val Metrics: Accuracy=0.7693, F1=0.7769\n"
     ]
    },
    {
     "name": "stderr",
     "output_type": "stream",
     "text": [
      "Training: 100%|██████████| 37/37 [00:00<00:00, 106.31it/s]\n",
      "Training: 100%|██████████| 37/37 [00:00<00:00, 106.39it/s]\n",
      "Training: 100%|██████████| 37/37 [00:00<00:00, 103.65it/s]\n",
      "Training: 100%|██████████| 37/37 [00:00<00:00, 108.40it/s]\n",
      "Training: 100%|██████████| 37/37 [00:00<00:00, 107.93it/s]\n"
     ]
    },
    {
     "name": "stdout",
     "output_type": "stream",
     "text": [
      "\n",
      "Epoch 10/30\n",
      "Train Loss: 0.0333\n",
      "Train Metrics: Accuracy=0.9993, F1=0.9993\n",
      "Val Metrics: Accuracy=0.7638, F1=0.7653\n"
     ]
    },
    {
     "name": "stderr",
     "output_type": "stream",
     "text": [
      "Training: 100%|██████████| 37/37 [00:00<00:00, 107.68it/s]\n",
      "Training: 100%|██████████| 37/37 [00:00<00:00, 105.38it/s]\n",
      "Training: 100%|██████████| 37/37 [00:00<00:00, 107.75it/s]\n",
      "Training: 100%|██████████| 37/37 [00:00<00:00, 107.18it/s]\n",
      "Training: 100%|██████████| 37/37 [00:00<00:00, 106.32it/s]\n"
     ]
    },
    {
     "name": "stdout",
     "output_type": "stream",
     "text": [
      "\n",
      "Epoch 15/30\n",
      "Train Loss: 0.0328\n",
      "Train Metrics: Accuracy=0.9994, F1=0.9994\n",
      "Val Metrics: Accuracy=0.7603, F1=0.7587\n"
     ]
    },
    {
     "name": "stderr",
     "output_type": "stream",
     "text": [
      "Training: 100%|██████████| 37/37 [00:00<00:00, 104.31it/s]\n",
      "Training: 100%|██████████| 37/37 [00:00<00:00, 106.61it/s]\n",
      "Training: 100%|██████████| 37/37 [00:00<00:00, 106.95it/s]\n",
      "Training: 100%|██████████| 37/37 [00:00<00:00, 106.17it/s]\n",
      "Training: 100%|██████████| 37/37 [00:00<00:00, 106.43it/s]\n"
     ]
    },
    {
     "name": "stdout",
     "output_type": "stream",
     "text": [
      "\n",
      "Epoch 20/30\n",
      "Train Loss: 0.0373\n",
      "Train Metrics: Accuracy=0.9993, F1=0.9993\n",
      "Val Metrics: Accuracy=0.7673, F1=0.7687\n"
     ]
    },
    {
     "name": "stderr",
     "output_type": "stream",
     "text": [
      "Training: 100%|██████████| 37/37 [00:00<00:00, 107.09it/s]\n",
      "Training: 100%|██████████| 37/37 [00:00<00:00, 108.59it/s]\n",
      "Training: 100%|██████████| 37/37 [00:00<00:00, 107.29it/s]\n",
      "Training: 100%|██████████| 37/37 [00:00<00:00, 104.78it/s]\n",
      "Training: 100%|██████████| 37/37 [00:00<00:00, 105.83it/s]\n"
     ]
    },
    {
     "name": "stdout",
     "output_type": "stream",
     "text": [
      "\n",
      "Epoch 25/30\n",
      "Train Loss: 0.0379\n",
      "Train Metrics: Accuracy=0.9993, F1=0.9993\n",
      "Val Metrics: Accuracy=0.7474, F1=0.7355\n"
     ]
    },
    {
     "name": "stderr",
     "output_type": "stream",
     "text": [
      "Training: 100%|██████████| 37/37 [00:00<00:00, 106.98it/s]\n",
      "Training: 100%|██████████| 37/37 [00:00<00:00, 106.78it/s]\n",
      "Training: 100%|██████████| 37/37 [00:00<00:00, 104.39it/s]\n",
      "Training: 100%|██████████| 37/37 [00:00<00:00, 106.72it/s]\n",
      "Training: 100%|██████████| 37/37 [00:00<00:00, 106.09it/s]\n"
     ]
    },
    {
     "name": "stdout",
     "output_type": "stream",
     "text": [
      "\n",
      "Epoch 30/30\n",
      "Train Loss: 0.0399\n",
      "Train Metrics: Accuracy=0.9993, F1=0.9993\n",
      "Val Metrics: Accuracy=0.7509, F1=0.7407\n",
      "\n",
      "Logistic Regression Final Test Metrics:\n",
      "Accuracy: 0.7693\n",
      "Precision: 0.7589\n",
      "Recall: 0.7970\n",
      "F1 Score: 0.7775\n",
      "\n",
      "Training Small Model...\n"
     ]
    },
    {
     "name": "stderr",
     "output_type": "stream",
     "text": [
      "Training: 100%|██████████| 37/37 [00:00<00:00, 88.67it/s]\n",
      "Training: 100%|██████████| 37/37 [00:00<00:00, 89.86it/s]\n",
      "Training: 100%|██████████| 37/37 [00:00<00:00, 88.16it/s]\n",
      "Training: 100%|██████████| 37/37 [00:00<00:00, 88.75it/s]\n",
      "Training: 100%|██████████| 37/37 [00:00<00:00, 88.12it/s]\n"
     ]
    },
    {
     "name": "stdout",
     "output_type": "stream",
     "text": [
      "\n",
      "Epoch 5/30\n",
      "Train Loss: 0.0184\n",
      "Train Metrics: Accuracy=0.9983, F1=0.9983\n",
      "Val Metrics: Accuracy=0.7982, F1=0.8089\n"
     ]
    },
    {
     "name": "stderr",
     "output_type": "stream",
     "text": [
      "Training: 100%|██████████| 37/37 [00:00<00:00, 88.02it/s]\n",
      "Training: 100%|██████████| 37/37 [00:00<00:00, 87.28it/s]\n",
      "Training: 100%|██████████| 37/37 [00:00<00:00, 88.56it/s]\n",
      "Training: 100%|██████████| 37/37 [00:00<00:00, 88.64it/s]\n",
      "Training: 100%|██████████| 37/37 [00:00<00:00, 88.94it/s]\n"
     ]
    },
    {
     "name": "stdout",
     "output_type": "stream",
     "text": [
      "\n",
      "Epoch 10/30\n",
      "Train Loss: 0.0034\n",
      "Train Metrics: Accuracy=0.9995, F1=0.9995\n",
      "Val Metrics: Accuracy=0.7992, F1=0.8091\n"
     ]
    },
    {
     "name": "stderr",
     "output_type": "stream",
     "text": [
      "Training: 100%|██████████| 37/37 [00:00<00:00, 88.04it/s]\n",
      "Training: 100%|██████████| 37/37 [00:00<00:00, 88.47it/s]\n",
      "Training: 100%|██████████| 37/37 [00:00<00:00, 87.48it/s]\n",
      "Training: 100%|██████████| 37/37 [00:00<00:00, 88.89it/s]\n",
      "Training: 100%|██████████| 37/37 [00:00<00:00, 88.98it/s]\n"
     ]
    },
    {
     "name": "stdout",
     "output_type": "stream",
     "text": [
      "\n",
      "Epoch 15/30\n",
      "Train Loss: 0.0022\n",
      "Train Metrics: Accuracy=0.9995, F1=0.9995\n",
      "Val Metrics: Accuracy=0.7997, F1=0.8098\n"
     ]
    },
    {
     "name": "stderr",
     "output_type": "stream",
     "text": [
      "Training: 100%|██████████| 37/37 [00:00<00:00, 89.02it/s]\n",
      "Training: 100%|██████████| 37/37 [00:00<00:00, 88.89it/s]\n",
      "Training: 100%|██████████| 37/37 [00:00<00:00, 88.86it/s]\n",
      "Training: 100%|██████████| 37/37 [00:00<00:00, 88.57it/s]\n",
      "Training: 100%|██████████| 37/37 [00:00<00:00, 88.93it/s]\n"
     ]
    },
    {
     "name": "stdout",
     "output_type": "stream",
     "text": [
      "\n",
      "Epoch 20/30\n",
      "Train Loss: 0.0016\n",
      "Train Metrics: Accuracy=0.9994, F1=0.9994\n",
      "Val Metrics: Accuracy=0.8007, F1=0.8113\n"
     ]
    },
    {
     "name": "stderr",
     "output_type": "stream",
     "text": [
      "Training: 100%|██████████| 37/37 [00:00<00:00, 83.98it/s]\n",
      "Training: 100%|██████████| 37/37 [00:00<00:00, 88.53it/s]\n",
      "Training: 100%|██████████| 37/37 [00:00<00:00, 88.43it/s]\n",
      "Training: 100%|██████████| 37/37 [00:00<00:00, 89.25it/s]\n",
      "Training: 100%|██████████| 37/37 [00:00<00:00, 87.90it/s]\n"
     ]
    },
    {
     "name": "stdout",
     "output_type": "stream",
     "text": [
      "\n",
      "Epoch 25/30\n",
      "Train Loss: 0.0012\n",
      "Train Metrics: Accuracy=0.9996, F1=0.9996\n",
      "Val Metrics: Accuracy=0.7967, F1=0.8085\n"
     ]
    },
    {
     "name": "stderr",
     "output_type": "stream",
     "text": [
      "Training: 100%|██████████| 37/37 [00:00<00:00, 86.17it/s]\n",
      "Training: 100%|██████████| 37/37 [00:00<00:00, 87.70it/s]\n",
      "Training: 100%|██████████| 37/37 [00:00<00:00, 88.51it/s]\n",
      "Training: 100%|██████████| 37/37 [00:00<00:00, 89.10it/s]\n",
      "Training: 100%|██████████| 37/37 [00:00<00:00, 88.67it/s]\n"
     ]
    },
    {
     "name": "stdout",
     "output_type": "stream",
     "text": [
      "\n",
      "Epoch 30/30\n",
      "Train Loss: 0.0014\n",
      "Train Metrics: Accuracy=0.9994, F1=0.9994\n",
      "Val Metrics: Accuracy=0.7957, F1=0.8075\n",
      "\n",
      "Small Model Final Test Metrics:\n",
      "Accuracy: 0.7862\n",
      "Precision: 0.7470\n",
      "Recall: 0.8729\n",
      "F1 Score: 0.8051\n",
      "\n",
      "Training Medium Model...\n"
     ]
    },
    {
     "name": "stderr",
     "output_type": "stream",
     "text": [
      "Training: 100%|██████████| 74/74 [00:00<00:00, 92.93it/s]\n",
      "Training: 100%|██████████| 74/74 [00:00<00:00, 93.77it/s]\n",
      "Training: 100%|██████████| 74/74 [00:00<00:00, 93.57it/s]\n",
      "Training: 100%|██████████| 74/74 [00:00<00:00, 93.81it/s]\n",
      "Training: 100%|██████████| 74/74 [00:00<00:00, 93.81it/s]\n"
     ]
    },
    {
     "name": "stdout",
     "output_type": "stream",
     "text": [
      "\n",
      "Epoch 5/30\n",
      "Train Loss: 0.0628\n",
      "Train Metrics: Accuracy=0.9981, F1=0.9981\n",
      "Val Metrics: Accuracy=0.8052, F1=0.8191\n"
     ]
    },
    {
     "name": "stderr",
     "output_type": "stream",
     "text": [
      "Training: 100%|██████████| 74/74 [00:00<00:00, 93.72it/s]\n",
      "Training: 100%|██████████| 74/74 [00:00<00:00, 93.87it/s]\n",
      "Training: 100%|██████████| 74/74 [00:00<00:00, 93.73it/s]\n",
      "Training: 100%|██████████| 74/74 [00:00<00:00, 93.60it/s]\n",
      "Training: 100%|██████████| 74/74 [00:00<00:00, 93.22it/s]\n"
     ]
    },
    {
     "name": "stdout",
     "output_type": "stream",
     "text": [
      "\n",
      "Epoch 10/30\n",
      "Train Loss: 0.0195\n",
      "Train Metrics: Accuracy=0.9991, F1=0.9992\n",
      "Val Metrics: Accuracy=0.7877, F1=0.8046\n"
     ]
    },
    {
     "name": "stderr",
     "output_type": "stream",
     "text": [
      "Training: 100%|██████████| 74/74 [00:00<00:00, 93.68it/s]\n",
      "Training: 100%|██████████| 74/74 [00:00<00:00, 93.54it/s]\n",
      "Training: 100%|██████████| 74/74 [00:00<00:00, 93.52it/s]\n",
      "Training: 100%|██████████| 74/74 [00:00<00:00, 93.29it/s]\n",
      "Training: 100%|██████████| 74/74 [00:00<00:00, 92.91it/s]\n"
     ]
    },
    {
     "name": "stdout",
     "output_type": "stream",
     "text": [
      "\n",
      "Epoch 15/30\n",
      "Train Loss: 0.0088\n",
      "Train Metrics: Accuracy=0.9994, F1=0.9994\n",
      "Val Metrics: Accuracy=0.7788, F1=0.7865\n"
     ]
    },
    {
     "name": "stderr",
     "output_type": "stream",
     "text": [
      "Training: 100%|██████████| 74/74 [00:00<00:00, 93.89it/s]\n",
      "Training: 100%|██████████| 74/74 [00:00<00:00, 93.13it/s]\n",
      "Training: 100%|██████████| 74/74 [00:00<00:00, 93.48it/s]\n",
      "Training: 100%|██████████| 74/74 [00:00<00:00, 93.82it/s]\n",
      "Training: 100%|██████████| 74/74 [00:00<00:00, 93.47it/s]\n"
     ]
    },
    {
     "name": "stdout",
     "output_type": "stream",
     "text": [
      "\n",
      "Epoch 20/30\n",
      "Train Loss: 0.0048\n",
      "Train Metrics: Accuracy=0.9995, F1=0.9995\n",
      "Val Metrics: Accuracy=0.7857, F1=0.8002\n"
     ]
    },
    {
     "name": "stderr",
     "output_type": "stream",
     "text": [
      "Training: 100%|██████████| 74/74 [00:00<00:00, 93.56it/s]\n",
      "Training: 100%|██████████| 74/74 [00:00<00:00, 90.27it/s]\n",
      "Training: 100%|██████████| 74/74 [00:00<00:00, 93.81it/s]\n",
      "Training: 100%|██████████| 74/74 [00:00<00:00, 93.61it/s]\n",
      "Training: 100%|██████████| 74/74 [00:00<00:00, 93.46it/s]\n"
     ]
    },
    {
     "name": "stdout",
     "output_type": "stream",
     "text": [
      "\n",
      "Epoch 25/30\n",
      "Train Loss: 0.0553\n",
      "Train Metrics: Accuracy=0.9971, F1=0.9971\n",
      "Val Metrics: Accuracy=0.7843, F1=0.7919\n"
     ]
    },
    {
     "name": "stderr",
     "output_type": "stream",
     "text": [
      "Training: 100%|██████████| 74/74 [00:00<00:00, 92.48it/s]\n",
      "Training: 100%|██████████| 74/74 [00:00<00:00, 93.64it/s]\n",
      "Training: 100%|██████████| 74/74 [00:00<00:00, 93.54it/s]\n",
      "Training: 100%|██████████| 74/74 [00:00<00:00, 93.41it/s]\n",
      "Training: 100%|██████████| 74/74 [00:00<00:00, 93.77it/s]\n"
     ]
    },
    {
     "name": "stdout",
     "output_type": "stream",
     "text": [
      "\n",
      "Epoch 30/30\n",
      "Train Loss: 0.0059\n",
      "Train Metrics: Accuracy=0.9994, F1=0.9994\n",
      "Val Metrics: Accuracy=0.7892, F1=0.7979\n",
      "\n",
      "Medium Model Final Test Metrics:\n",
      "Accuracy: 0.7972\n",
      "Precision: 0.7538\n",
      "Recall: 0.8897\n",
      "F1 Score: 0.8161\n",
      "\n",
      "Training Large Model...\n"
     ]
    },
    {
     "name": "stderr",
     "output_type": "stream",
     "text": [
      "Training: 100%|██████████| 147/147 [00:03<00:00, 44.06it/s]\n",
      "Training: 100%|██████████| 147/147 [00:03<00:00, 44.17it/s]\n",
      "Training: 100%|██████████| 147/147 [00:03<00:00, 44.16it/s]\n",
      "Training: 100%|██████████| 147/147 [00:03<00:00, 44.33it/s]\n",
      "Training: 100%|██████████| 147/147 [00:03<00:00, 44.34it/s]\n"
     ]
    },
    {
     "name": "stdout",
     "output_type": "stream",
     "text": [
      "\n",
      "Epoch 5/30\n",
      "Train Loss: 0.0943\n",
      "Train Metrics: Accuracy=0.9979, F1=0.9979\n",
      "Val Metrics: Accuracy=0.7967, F1=0.8139\n"
     ]
    },
    {
     "name": "stderr",
     "output_type": "stream",
     "text": [
      "Training: 100%|██████████| 147/147 [00:03<00:00, 44.32it/s]\n",
      "Training: 100%|██████████| 147/147 [00:03<00:00, 44.33it/s]\n",
      "Training: 100%|██████████| 147/147 [00:03<00:00, 44.14it/s]\n",
      "Training: 100%|██████████| 147/147 [00:03<00:00, 44.35it/s]\n",
      "Training: 100%|██████████| 147/147 [00:03<00:00, 44.35it/s]\n"
     ]
    },
    {
     "name": "stdout",
     "output_type": "stream",
     "text": [
      "\n",
      "Epoch 10/30\n",
      "Train Loss: 0.0520\n",
      "Train Metrics: Accuracy=0.9973, F1=0.9974\n",
      "Val Metrics: Accuracy=0.7997, F1=0.8163\n"
     ]
    },
    {
     "name": "stderr",
     "output_type": "stream",
     "text": [
      "Training: 100%|██████████| 147/147 [00:03<00:00, 44.32it/s]\n",
      "Training: 100%|██████████| 147/147 [00:03<00:00, 44.30it/s]\n",
      "Training: 100%|██████████| 147/147 [00:03<00:00, 44.27it/s]\n",
      "Training: 100%|██████████| 147/147 [00:03<00:00, 44.28it/s]\n",
      "Training: 100%|██████████| 147/147 [00:03<00:00, 44.38it/s]\n"
     ]
    },
    {
     "name": "stdout",
     "output_type": "stream",
     "text": [
      "\n",
      "Epoch 15/30\n",
      "Train Loss: 0.0302\n",
      "Train Metrics: Accuracy=0.9994, F1=0.9994\n",
      "Val Metrics: Accuracy=0.7773, F1=0.7902\n"
     ]
    },
    {
     "name": "stderr",
     "output_type": "stream",
     "text": [
      "Training: 100%|██████████| 147/147 [00:03<00:00, 44.38it/s]\n",
      "Training: 100%|██████████| 147/147 [00:03<00:00, 43.85it/s]\n",
      "Training: 100%|██████████| 147/147 [00:03<00:00, 44.35it/s]\n",
      "Training: 100%|██████████| 147/147 [00:03<00:00, 44.40it/s]\n",
      "Training: 100%|██████████| 147/147 [00:03<00:00, 44.33it/s]\n"
     ]
    },
    {
     "name": "stdout",
     "output_type": "stream",
     "text": [
      "\n",
      "Epoch 20/30\n",
      "Train Loss: 0.0234\n",
      "Train Metrics: Accuracy=0.9984, F1=0.9984\n",
      "Val Metrics: Accuracy=0.7823, F1=0.8045\n"
     ]
    },
    {
     "name": "stderr",
     "output_type": "stream",
     "text": [
      "Training: 100%|██████████| 147/147 [00:03<00:00, 44.31it/s]\n",
      "Training: 100%|██████████| 147/147 [00:03<00:00, 44.36it/s]\n",
      "Training: 100%|██████████| 147/147 [00:03<00:00, 44.26it/s]\n",
      "Training: 100%|██████████| 147/147 [00:03<00:00, 44.26it/s]\n",
      "Training: 100%|██████████| 147/147 [00:03<00:00, 44.27it/s]\n"
     ]
    },
    {
     "name": "stdout",
     "output_type": "stream",
     "text": [
      "\n",
      "Epoch 25/30\n",
      "Train Loss: 0.0227\n",
      "Train Metrics: Accuracy=0.9984, F1=0.9984\n",
      "Val Metrics: Accuracy=0.7887, F1=0.8073\n"
     ]
    },
    {
     "name": "stderr",
     "output_type": "stream",
     "text": [
      "Training: 100%|██████████| 147/147 [00:03<00:00, 44.29it/s]\n",
      "Training: 100%|██████████| 147/147 [00:03<00:00, 44.29it/s]\n",
      "Training: 100%|██████████| 147/147 [00:03<00:00, 44.32it/s]\n",
      "Training: 100%|██████████| 147/147 [00:03<00:00, 44.30it/s]\n",
      "Training: 100%|██████████| 147/147 [00:03<00:00, 44.21it/s]\n"
     ]
    },
    {
     "name": "stdout",
     "output_type": "stream",
     "text": [
      "\n",
      "Epoch 30/30\n",
      "Train Loss: 0.0165\n",
      "Train Metrics: Accuracy=0.9986, F1=0.9986\n",
      "Val Metrics: Accuracy=0.7902, F1=0.8066\n",
      "\n",
      "Large Model Final Test Metrics:\n",
      "Accuracy: 0.7987\n",
      "Precision: 0.7514\n",
      "Recall: 0.8995\n",
      "F1 Score: 0.8188\n",
      "\n",
      "Training Deep Model...\n"
     ]
    },
    {
     "name": "stderr",
     "output_type": "stream",
     "text": [
      "Training: 100%|██████████| 98/98 [00:00<00:00, 103.04it/s]\n",
      "Training: 100%|██████████| 98/98 [00:00<00:00, 103.74it/s]\n",
      "Training: 100%|██████████| 98/98 [00:00<00:00, 99.59it/s] \n",
      "Training: 100%|██████████| 98/98 [00:00<00:00, 103.64it/s]\n",
      "Training: 100%|██████████| 98/98 [00:00<00:00, 103.36it/s]\n"
     ]
    },
    {
     "name": "stdout",
     "output_type": "stream",
     "text": [
      "\n",
      "Epoch 5/30\n",
      "Train Loss: 0.0817\n",
      "Train Metrics: Accuracy=0.9962, F1=0.9962\n",
      "Val Metrics: Accuracy=0.7942, F1=0.8124\n"
     ]
    },
    {
     "name": "stderr",
     "output_type": "stream",
     "text": [
      "Training: 100%|██████████| 98/98 [00:00<00:00, 103.25it/s]\n",
      "Training: 100%|██████████| 98/98 [00:00<00:00, 103.61it/s]\n",
      "Training: 100%|██████████| 98/98 [00:00<00:00, 103.39it/s]\n",
      "Training: 100%|██████████| 98/98 [00:00<00:00, 103.76it/s]\n",
      "Training: 100%|██████████| 98/98 [00:00<00:00, 103.20it/s]\n"
     ]
    },
    {
     "name": "stdout",
     "output_type": "stream",
     "text": [
      "\n",
      "Epoch 10/30\n",
      "Train Loss: 0.0416\n",
      "Train Metrics: Accuracy=0.9969, F1=0.9969\n",
      "Val Metrics: Accuracy=0.7808, F1=0.7887\n"
     ]
    },
    {
     "name": "stderr",
     "output_type": "stream",
     "text": [
      "Training: 100%|██████████| 98/98 [00:00<00:00, 103.46it/s]\n",
      "Training: 100%|██████████| 98/98 [00:00<00:00, 103.55it/s]\n",
      "Training: 100%|██████████| 98/98 [00:00<00:00, 103.28it/s]\n",
      "Training: 100%|██████████| 98/98 [00:00<00:00, 103.46it/s]\n",
      "Training: 100%|██████████| 98/98 [00:00<00:00, 103.39it/s]\n"
     ]
    },
    {
     "name": "stdout",
     "output_type": "stream",
     "text": [
      "\n",
      "Epoch 15/30\n",
      "Train Loss: 0.0258\n",
      "Train Metrics: Accuracy=0.9989, F1=0.9989\n",
      "Val Metrics: Accuracy=0.7877, F1=0.8024\n"
     ]
    },
    {
     "name": "stderr",
     "output_type": "stream",
     "text": [
      "Training: 100%|██████████| 98/98 [00:00<00:00, 103.67it/s]\n",
      "Training: 100%|██████████| 98/98 [00:00<00:00, 103.72it/s]\n",
      "Training: 100%|██████████| 98/98 [00:00<00:00, 103.66it/s]\n",
      "Training: 100%|██████████| 98/98 [00:00<00:00, 103.55it/s]\n",
      "Training: 100%|██████████| 98/98 [00:00<00:00, 103.30it/s]\n"
     ]
    },
    {
     "name": "stdout",
     "output_type": "stream",
     "text": [
      "\n",
      "Epoch 20/30\n",
      "Train Loss: 0.0160\n",
      "Train Metrics: Accuracy=0.9980, F1=0.9980\n",
      "Val Metrics: Accuracy=0.8022, F1=0.8213\n"
     ]
    },
    {
     "name": "stderr",
     "output_type": "stream",
     "text": [
      "Training: 100%|██████████| 98/98 [00:00<00:00, 103.71it/s]\n",
      "Training: 100%|██████████| 98/98 [00:00<00:00, 103.75it/s]\n",
      "Training: 100%|██████████| 98/98 [00:00<00:00, 103.55it/s]\n",
      "Training: 100%|██████████| 98/98 [00:00<00:00, 103.76it/s]\n",
      "Training: 100%|██████████| 98/98 [00:00<00:00, 102.09it/s]\n"
     ]
    },
    {
     "name": "stdout",
     "output_type": "stream",
     "text": [
      "\n",
      "Epoch 25/30\n",
      "Train Loss: 0.0219\n",
      "Train Metrics: Accuracy=0.9983, F1=0.9983\n",
      "Val Metrics: Accuracy=0.8092, F1=0.8276\n"
     ]
    },
    {
     "name": "stderr",
     "output_type": "stream",
     "text": [
      "Training: 100%|██████████| 98/98 [00:00<00:00, 103.61it/s]\n",
      "Training: 100%|██████████| 98/98 [00:00<00:00, 103.55it/s]\n",
      "Training: 100%|██████████| 98/98 [00:00<00:00, 103.75it/s]\n",
      "Training: 100%|██████████| 98/98 [00:00<00:00, 103.52it/s]\n",
      "Training: 100%|██████████| 98/98 [00:00<00:00, 103.38it/s]\n"
     ]
    },
    {
     "name": "stdout",
     "output_type": "stream",
     "text": [
      "\n",
      "Epoch 30/30\n",
      "Train Loss: 0.0136\n",
      "Train Metrics: Accuracy=0.9983, F1=0.9983\n",
      "Val Metrics: Accuracy=0.8037, F1=0.8247\n",
      "\n",
      "Deep Model Final Test Metrics:\n",
      "Accuracy: 0.8047\n",
      "Precision: 0.7459\n",
      "Recall: 0.9310\n",
      "F1 Score: 0.8282\n"
     ]
    },
    {
     "data": {
      "image/png": "[encoded data removed]",
      "text/plain": [
       "<Figure size 1500x1000 with 2 Axes>"
      ]
     },
     "metadata": {},
     "output_type": "display_data"
    },
    {
     "name": "stdout",
     "output_type": "stream",
     "text": [
      "\n",
      "Model Comparison:\n",
      "--------------------------------------------------------------------------------\n",
      "Model                Accuracy   Precision  Recall     F1 Score  \n",
      "--------------------------------------------------------------------------------\n",
      "Logistic Regression  0.7693     0.7589     0.7970     0.7775\n",
      "Small Model          0.7862     0.7470     0.8729     0.8051\n",
      "Medium Model         0.7972     0.7538     0.8897     0.8161\n",
      "Large Model          0.7987     0.7514     0.8995     0.8188\n",
      "Deep Model           0.8047     0.7459     0.9310     0.8282\n"
     ]
    }
   ],
   "source": [
    "# Model configurations\n",
    "model_configs = [\n",
    "    {\n",
    "        \"name\": \"Logistic Regression\",\n",
    "        \"embedding_dim\": 32,\n",
    "        \"hidden_dims\": [], \n",
    "        \"dropout_rates\": [], \n",
    "        \"learning_rate\": 0.001,\n",
    "        \"batch_size\": 256\n",
    "    },\n",
    "    {\n",
    "        \"name\": \"Small Model\",\n",
    "        \"embedding_dim\": 32,\n",
    "        \"hidden_dims\": [256, 64],\n",
    "        \"dropout_rates\": [0.1, 0.1],\n",
    "        \"learning_rate\": 0.001,\n",
    "        \"batch_size\": 256\n",
    "    },\n",
    "    {\n",
    "        \"name\": \"Medium Model\",\n",
    "        \"embedding_dim\": 64,\n",
    "        \"hidden_dims\": [512, 128, 32],\n",
    "        \"dropout_rates\": [0.2, 0.2, 0.1],\n",
    "        \"learning_rate\": 0.0003,\n",
    "        \"batch_size\": 128\n",
    "    },\n",
    "    {\n",
    "        \"name\": \"Large Model\",\n",
    "        \"embedding_dim\": 128,\n",
    "        \"hidden_dims\": [1024, 512, 128, 32],\n",
    "        \"dropout_rates\": [0.3, 0.3, 0.2, 0.1],\n",
    "        \"learning_rate\": 0.0001,\n",
    "        \"batch_size\": 64\n",
    "    },\n",
    "    {\n",
    "        \"name\": \"Deep Model\",\n",
    "        \"embedding_dim\": 64,\n",
    "        \"hidden_dims\": [512, 256, 128, 64, 32],\n",
    "        \"dropout_rates\": [0.2, 0.2, 0.2, 0.1, 0.1],\n",
    "        \"learning_rate\": 0.0002,\n",
    "        \"batch_size\": 96\n",
    "    }\n",
    "]\n",
    "\n",
    "class ProteinSequenceClassifier(nn.Module):\n",
    "    def __init__(self, vocab_size, embedding_dim, hidden_dims, dropout_rates):\n",
    "        super().__init__()\n",
    "        self.embedding = nn.Embedding(vocab_size, embedding_dim, padding_idx=0)\n",
    "        \n",
    "        # Flatten the embedded sequence\n",
    "        input_dim = embedding_dim * max_seq_len\n",
    "        \n",
    "        # Build layers dynamically\n",
    "        layers = []\n",
    "        current_dim = input_dim\n",
    "        \n",
    "        if len(hidden_dims) == 0:  # Logistic regression case\n",
    "            layers.extend([\n",
    "                nn.Linear(current_dim, 1),\n",
    "                nn.Sigmoid()\n",
    "            ])\n",
    "        else:  # Neural network case\n",
    "            for i, hidden_dim in enumerate(hidden_dims):\n",
    "                layers.extend([\n",
    "                    nn.Linear(current_dim, hidden_dim),\n",
    "                    nn.BatchNorm1d(hidden_dim),\n",
    "                    nn.ReLU(),\n",
    "                    nn.Dropout(dropout_rates[i])\n",
    "                ])\n",
    "                current_dim = hidden_dim\n",
    "                \n",
    "            # Output layer\n",
    "            layers.extend([\n",
    "                nn.Linear(current_dim, 1),\n",
    "                nn.Sigmoid()\n",
    "            ])\n",
    "        \n",
    "        self.model = nn.Sequential(*layers)\n",
    "        \n",
    "    def forward(self, x):\n",
    "        x = self.embedding(x)\n",
    "        x = x.view(x.size(0), -1)\n",
    "        return self.model(x).squeeze()\n",
    "\n",
    "def train_and_evaluate_model(config, n_epochs=30):\n",
    "    print(f\"\\nTraining {config['name']}...\")\n",
    "    \n",
    "    # Initialize model\n",
    "    model = ProteinSequenceClassifier(\n",
    "        vocab_size=len(letter_to_int),\n",
    "        embedding_dim=config['embedding_dim'],\n",
    "        hidden_dims=config['hidden_dims'],\n",
    "        dropout_rates=config['dropout_rates']\n",
    "    ).to(device)\n",
    "    \n",
    "    # Setup training\n",
    "    criterion = nn.BCELoss()\n",
    "    optimizer = optim.Adam(model.parameters(), lr=config['learning_rate'], weight_decay=1e-5)\n",
    "    \n",
    "    # Create data loaders\n",
    "    train_loader = DataLoader(train_dataset, batch_size=config['batch_size'], shuffle=True)\n",
    "    val_loader = DataLoader(val_dataset, batch_size=config['batch_size'], shuffle=False)\n",
    "    test_loader = DataLoader(test_dataset, batch_size=config['batch_size'], shuffle=False)\n",
    "    \n",
    "    train_losses = []\n",
    "    val_metrics = []\n",
    "    best_val_f1 = 0\n",
    "    best_model = None\n",
    "    \n",
    "    for epoch in range(n_epochs):\n",
    "        # Train\n",
    "        loss, train_preds, train_labels = train_epoch(model, train_loader, criterion, optimizer)\n",
    "        train_losses.append(loss)\n",
    "        \n",
    "        # Evaluate\n",
    "        train_metrics = evaluate(model, train_loader)\n",
    "        val_metrics_epoch = evaluate(model, val_loader)\n",
    "        val_metrics.append(val_metrics_epoch)\n",
    "        \n",
    "        # Save best model\n",
    "        if val_metrics_epoch['f1'] > best_val_f1:\n",
    "            best_val_f1 = val_metrics_epoch['f1']\n",
    "            best_model = deepcopy(model.state_dict())\n",
    "        \n",
    "        if (epoch + 1) % 5 == 0:  # Print every 5 epochs\n",
    "            print(f\"\\nEpoch {epoch+1}/{n_epochs}\")\n",
    "            print(f\"Train Loss: {loss:.4f}\")\n",
    "            print(f\"Train Metrics: Accuracy={train_metrics['accuracy']:.4f}, F1={train_metrics['f1']:.4f}\")\n",
    "            print(f\"Val Metrics: Accuracy={val_metrics_epoch['accuracy']:.4f}, F1={val_metrics_epoch['f1']:.4f}\")\n",
    "    \n",
    "    # Load best model and evaluate on test set\n",
    "    model.load_state_dict(best_model)\n",
    "    test_metrics = evaluate(model, test_loader)\n",
    "    \n",
    "    return {\n",
    "        'name': config['name'],\n",
    "        'train_losses': train_losses,\n",
    "        'val_metrics': val_metrics,\n",
    "        'test_metrics': test_metrics,\n",
    "        'model': model\n",
    "    }\n",
    "\n",
    "# Train all models\n",
    "results = []\n",
    "for config in model_configs:\n",
    "    result = train_and_evaluate_model(config)\n",
    "    results.append(result)\n",
    "    \n",
    "    print(f\"\\n{result['name']} Final Test Metrics:\")\n",
    "    print(f\"Accuracy: {result['test_metrics']['accuracy']:.4f}\")\n",
    "    print(f\"Precision: {result['test_metrics']['precision']:.4f}\")\n",
    "    print(f\"Recall: {result['test_metrics']['recall']:.4f}\")\n",
    "    print(f\"F1 Score: {result['test_metrics']['f1']:.4f}\")\n",
    "\n",
    "# Plot results\n",
    "plt.figure(figsize=(15, 10))\n",
    "\n",
    "# Plot training losses\n",
    "plt.subplot(2, 1, 1)\n",
    "for result in results:\n",
    "    plt.plot(result['train_losses'], label=result['name'])\n",
    "plt.title('Training Losses')\n",
    "plt.xlabel('Epoch')\n",
    "plt.ylabel('Loss')\n",
    "plt.legend()\n",
    "\n",
    "# Plot validation F1 scores\n",
    "plt.subplot(2, 1, 2)\n",
    "for result in results:\n",
    "    f1_scores = [m['f1'] for m in result['val_metrics']]\n",
    "    plt.plot(f1_scores, label=result['name'])\n",
    "plt.title('Validation F1 Scores')\n",
    "plt.xlabel('Epoch')\n",
    "plt.ylabel('F1 Score')\n",
    "plt.legend()\n",
    "\n",
    "plt.tight_layout()\n",
    "plt.show()\n",
    "\n",
    "# Print comparison table\n",
    "print(\"\\nModel Comparison:\")\n",
    "print(\"-\" * 80)\n",
    "print(f\"{'Model':20} {'Accuracy':10} {'Precision':10} {'Recall':10} {'F1 Score':10}\")\n",
    "print(\"-\" * 80)\n",
    "for result in results:\n",
    "    metrics = result['test_metrics']\n",
    "    print(f\"{result['name']:20} \"\n",
    "          f\"{metrics['accuracy']:.4f}     \"\n",
    "          f\"{metrics['precision']:.4f}     \"\n",
    "          f\"{metrics['recall']:.4f}     \"\n",
    "          f\"{metrics['f1']:.4f}\")"
   ]
  },
  {
   "cell_type": "code",
   "execution_count": 12,
   "metadata": {},
   "outputs": [
    {
     "name": "stdout",
     "output_type": "stream",
     "text": [
      "\n",
      "Training Simple LSTM...\n"
     ]
    },
    {
     "name": "stderr",
     "output_type": "stream",
     "text": [
      "Training: 100%|██████████| 74/74 [00:01<00:00, 69.88it/s]\n",
      "Training: 100%|██████████| 74/74 [00:01<00:00, 73.24it/s]\n",
      "Training: 100%|██████████| 74/74 [00:01<00:00, 73.36it/s]\n",
      "Training: 100%|██████████| 74/74 [00:01<00:00, 73.57it/s]\n",
      "Training: 100%|██████████| 74/74 [00:01<00:00, 72.33it/s]\n"
     ]
    },
    {
     "name": "stdout",
     "output_type": "stream",
     "text": [
      "\n",
      "Epoch 5/30\n",
      "Train Loss: 0.6935\n",
      "Train Metrics: Accuracy=0.5060, F1=0.6719\n",
      "Val Metrics: Accuracy=0.5062, F1=0.6722\n"
     ]
    },
    {
     "name": "stderr",
     "output_type": "stream",
     "text": [
      "Training: 100%|██████████| 74/74 [00:01<00:00, 72.92it/s]\n",
      "Training: 100%|██████████| 74/74 [00:01<00:00, 72.95it/s]\n",
      "Training: 100%|██████████| 74/74 [00:01<00:00, 72.85it/s]\n",
      "Training: 100%|██████████| 74/74 [00:01<00:00, 72.57it/s]\n",
      "Training: 100%|██████████| 74/74 [00:01<00:00, 72.61it/s]\n"
     ]
    },
    {
     "name": "stdout",
     "output_type": "stream",
     "text": [
      "\n",
      "Epoch 10/30\n",
      "Train Loss: 0.6927\n",
      "Train Metrics: Accuracy=0.5061, F1=0.6721\n",
      "Val Metrics: Accuracy=0.5062, F1=0.6722\n"
     ]
    },
    {
     "name": "stderr",
     "output_type": "stream",
     "text": [
      "Training: 100%|██████████| 74/74 [00:01<00:00, 72.87it/s]\n",
      "Training: 100%|██████████| 74/74 [00:01<00:00, 72.97it/s]\n",
      "Training: 100%|██████████| 74/74 [00:01<00:00, 72.89it/s]\n",
      "Training: 100%|██████████| 74/74 [00:01<00:00, 72.67it/s]\n",
      "Training: 100%|██████████| 74/74 [00:01<00:00, 72.68it/s]\n"
     ]
    },
    {
     "name": "stdout",
     "output_type": "stream",
     "text": [
      "\n",
      "Epoch 15/30\n",
      "Train Loss: 0.6928\n",
      "Train Metrics: Accuracy=0.5061, F1=0.6721\n",
      "Val Metrics: Accuracy=0.5062, F1=0.6722\n"
     ]
    },
    {
     "name": "stderr",
     "output_type": "stream",
     "text": [
      "Training: 100%|██████████| 74/74 [00:01<00:00, 72.78it/s]\n",
      "Training: 100%|██████████| 74/74 [00:01<00:00, 72.42it/s]\n",
      "Training: 100%|██████████| 74/74 [00:01<00:00, 72.47it/s]\n",
      "Training: 100%|██████████| 74/74 [00:01<00:00, 72.58it/s]\n",
      "Training: 100%|██████████| 74/74 [00:01<00:00, 72.43it/s]\n"
     ]
    },
    {
     "name": "stdout",
     "output_type": "stream",
     "text": [
      "\n",
      "Epoch 20/30\n",
      "Train Loss: 0.6930\n",
      "Train Metrics: Accuracy=0.4942, F1=0.0017\n",
      "Val Metrics: Accuracy=0.4938, F1=0.0000\n"
     ]
    },
    {
     "name": "stderr",
     "output_type": "stream",
     "text": [
      "Training: 100%|██████████| 74/74 [00:01<00:00, 72.39it/s]\n",
      "Training: 100%|██████████| 74/74 [00:01<00:00, 72.22it/s]\n",
      "Training: 100%|██████████| 74/74 [00:01<00:00, 72.19it/s]\n",
      "Training: 100%|██████████| 74/74 [00:01<00:00, 71.75it/s]\n",
      "Training: 100%|██████████| 74/74 [00:01<00:00, 72.25it/s]\n"
     ]
    },
    {
     "name": "stdout",
     "output_type": "stream",
     "text": [
      "\n",
      "Epoch 25/30\n",
      "Train Loss: 0.6929\n",
      "Train Metrics: Accuracy=0.5062, F1=0.6721\n",
      "Val Metrics: Accuracy=0.5062, F1=0.6722\n"
     ]
    },
    {
     "name": "stderr",
     "output_type": "stream",
     "text": [
      "Training: 100%|██████████| 74/74 [00:01<00:00, 72.10it/s]\n",
      "Training: 100%|██████████| 74/74 [00:01<00:00, 72.43it/s]\n",
      "Training: 100%|██████████| 74/74 [00:01<00:00, 72.42it/s]\n",
      "Training: 100%|██████████| 74/74 [00:01<00:00, 72.08it/s]\n",
      "Training: 100%|██████████| 74/74 [00:01<00:00, 72.14it/s]\n"
     ]
    },
    {
     "name": "stdout",
     "output_type": "stream",
     "text": [
      "\n",
      "Epoch 30/30\n",
      "Train Loss: 0.6931\n",
      "Train Metrics: Accuracy=0.5061, F1=0.6721\n",
      "Val Metrics: Accuracy=0.5062, F1=0.6722\n",
      "\n",
      "Simple LSTM Final Test Metrics:\n",
      "Accuracy: 0.5057\n",
      "Precision: 0.5057\n",
      "Recall: 1.0000\n",
      "F1 Score: 0.6717\n",
      "\n",
      "Training Bidirectional LSTM...\n"
     ]
    },
    {
     "name": "stderr",
     "output_type": "stream",
     "text": [
      "Training: 100%|██████████| 147/147 [00:04<00:00, 32.34it/s]\n",
      "Training: 100%|██████████| 147/147 [00:04<00:00, 32.14it/s]\n",
      "Training: 100%|██████████| 147/147 [00:04<00:00, 32.10it/s]\n",
      "Training: 100%|██████████| 147/147 [00:04<00:00, 32.07it/s]\n",
      "Training: 100%|██████████| 147/147 [00:04<00:00, 32.03it/s]\n"
     ]
    },
    {
     "name": "stdout",
     "output_type": "stream",
     "text": [
      "\n",
      "Epoch 5/30\n",
      "Train Loss: 0.5900\n",
      "Train Metrics: Accuracy=0.7149, F1=0.7518\n",
      "Val Metrics: Accuracy=0.6677, F1=0.7104\n"
     ]
    },
    {
     "name": "stderr",
     "output_type": "stream",
     "text": [
      "Training: 100%|██████████| 147/147 [00:04<00:00, 31.99it/s]\n",
      "Training: 100%|██████████| 147/147 [00:04<00:00, 32.07it/s]\n",
      "Training: 100%|██████████| 147/147 [00:04<00:00, 32.04it/s]\n",
      "Training: 100%|██████████| 147/147 [00:04<00:00, 31.98it/s]\n",
      "Training: 100%|██████████| 147/147 [00:04<00:00, 32.11it/s]\n"
     ]
    },
    {
     "name": "stdout",
     "output_type": "stream",
     "text": [
      "\n",
      "Epoch 10/30\n",
      "Train Loss: 0.5088\n",
      "Train Metrics: Accuracy=0.7845, F1=0.7902\n",
      "Val Metrics: Accuracy=0.7200, F1=0.7250\n"
     ]
    },
    {
     "name": "stderr",
     "output_type": "stream",
     "text": [
      "Training: 100%|██████████| 147/147 [00:04<00:00, 31.99it/s]\n",
      "Training: 100%|██████████| 147/147 [00:04<00:00, 32.15it/s]\n",
      "Training: 100%|██████████| 147/147 [00:04<00:00, 32.10it/s]\n",
      "Training: 100%|██████████| 147/147 [00:04<00:00, 32.13it/s]\n",
      "Training: 100%|██████████| 147/147 [00:04<00:00, 32.04it/s]\n"
     ]
    },
    {
     "name": "stdout",
     "output_type": "stream",
     "text": [
      "\n",
      "Epoch 15/30\n",
      "Train Loss: 0.4232\n",
      "Train Metrics: Accuracy=0.8504, F1=0.8532\n",
      "Val Metrics: Accuracy=0.7569, F1=0.7613\n"
     ]
    },
    {
     "name": "stderr",
     "output_type": "stream",
     "text": [
      "Training: 100%|██████████| 147/147 [00:04<00:00, 31.74it/s]\n",
      "Training: 100%|██████████| 147/147 [00:04<00:00, 32.08it/s]\n",
      "Training: 100%|██████████| 147/147 [00:04<00:00, 32.10it/s]\n",
      "Training: 100%|██████████| 147/147 [00:04<00:00, 32.07it/s]\n",
      "Training: 100%|██████████| 147/147 [00:04<00:00, 32.03it/s]\n"
     ]
    },
    {
     "name": "stdout",
     "output_type": "stream",
     "text": [
      "\n",
      "Epoch 20/30\n",
      "Train Loss: 0.3394\n",
      "Train Metrics: Accuracy=0.8815, F1=0.8877\n",
      "Val Metrics: Accuracy=0.7738, F1=0.7840\n"
     ]
    },
    {
     "name": "stderr",
     "output_type": "stream",
     "text": [
      "Training: 100%|██████████| 147/147 [00:04<00:00, 32.13it/s]\n",
      "Training: 100%|██████████| 147/147 [00:04<00:00, 32.12it/s]\n",
      "Training: 100%|██████████| 147/147 [00:04<00:00, 31.74it/s]\n",
      "Training: 100%|██████████| 147/147 [00:04<00:00, 32.15it/s]\n",
      "Training: 100%|██████████| 147/147 [00:04<00:00, 32.15it/s]\n"
     ]
    },
    {
     "name": "stdout",
     "output_type": "stream",
     "text": [
      "\n",
      "Epoch 25/30\n",
      "Train Loss: 0.2766\n",
      "Train Metrics: Accuracy=0.9194, F1=0.9221\n",
      "Val Metrics: Accuracy=0.8032, F1=0.8082\n"
     ]
    },
    {
     "name": "stderr",
     "output_type": "stream",
     "text": [
      "Training: 100%|██████████| 147/147 [00:04<00:00, 32.08it/s]\n",
      "Training: 100%|██████████| 147/147 [00:04<00:00, 32.14it/s]\n",
      "Training: 100%|██████████| 147/147 [00:04<00:00, 32.08it/s]\n",
      "Training: 100%|██████████| 147/147 [00:04<00:00, 32.13it/s]\n",
      "Training: 100%|██████████| 147/147 [00:04<00:00, 32.05it/s]\n"
     ]
    },
    {
     "name": "stdout",
     "output_type": "stream",
     "text": [
      "\n",
      "Epoch 30/30\n",
      "Train Loss: 0.2253\n",
      "Train Metrics: Accuracy=0.9396, F1=0.9407\n",
      "Val Metrics: Accuracy=0.7967, F1=0.7974\n",
      "\n",
      "Bidirectional LSTM Final Test Metrics:\n",
      "Accuracy: 0.8216\n",
      "Precision: 0.8096\n",
      "Recall: 0.8463\n",
      "F1 Score: 0.8276\n",
      "\n",
      "Training Deep LSTM...\n"
     ]
    },
    {
     "name": "stderr",
     "output_type": "stream",
     "text": [
      "Training: 100%|██████████| 293/293 [01:20<00:00,  3.65it/s]\n",
      "Training: 100%|██████████| 293/293 [01:20<00:00,  3.65it/s]\n",
      "Training: 100%|██████████| 293/293 [01:19<00:00,  3.68it/s]\n",
      "Training: 100%|██████████| 293/293 [01:19<00:00,  3.69it/s]\n",
      "Training: 100%|██████████| 293/293 [01:19<00:00,  3.70it/s]\n"
     ]
    },
    {
     "name": "stdout",
     "output_type": "stream",
     "text": [
      "\n",
      "Epoch 5/30\n",
      "Train Loss: 0.6163\n",
      "Train Metrics: Accuracy=0.7024, F1=0.7321\n",
      "Val Metrics: Accuracy=0.6697, F1=0.7034\n"
     ]
    },
    {
     "name": "stderr",
     "output_type": "stream",
     "text": [
      "Training: 100%|██████████| 293/293 [01:19<00:00,  3.69it/s]\n",
      "Training: 100%|██████████| 293/293 [01:19<00:00,  3.69it/s]\n",
      "Training: 100%|██████████| 293/293 [01:19<00:00,  3.69it/s]\n",
      "Training: 100%|██████████| 293/293 [01:19<00:00,  3.69it/s]\n",
      "Training: 100%|██████████| 293/293 [01:19<00:00,  3.69it/s]\n"
     ]
    },
    {
     "name": "stdout",
     "output_type": "stream",
     "text": [
      "\n",
      "Epoch 10/30\n",
      "Train Loss: 0.5388\n",
      "Train Metrics: Accuracy=0.7601, F1=0.7777\n",
      "Val Metrics: Accuracy=0.7135, F1=0.7364\n"
     ]
    },
    {
     "name": "stderr",
     "output_type": "stream",
     "text": [
      "Training: 100%|██████████| 293/293 [01:19<00:00,  3.70it/s]\n",
      "Training: 100%|██████████| 293/293 [01:19<00:00,  3.69it/s]\n",
      "Training: 100%|██████████| 293/293 [01:19<00:00,  3.69it/s]\n",
      "Training: 100%|██████████| 293/293 [01:19<00:00,  3.69it/s]\n",
      "Training: 100%|██████████| 293/293 [01:19<00:00,  3.68it/s]\n"
     ]
    },
    {
     "name": "stdout",
     "output_type": "stream",
     "text": [
      "\n",
      "Epoch 15/30\n",
      "Train Loss: 0.4590\n",
      "Train Metrics: Accuracy=0.8159, F1=0.8338\n",
      "Val Metrics: Accuracy=0.7618, F1=0.7849\n"
     ]
    },
    {
     "name": "stderr",
     "output_type": "stream",
     "text": [
      "Training: 100%|██████████| 293/293 [01:19<00:00,  3.70it/s]\n",
      "Training: 100%|██████████| 293/293 [01:19<00:00,  3.70it/s]\n",
      "Training: 100%|██████████| 293/293 [01:19<00:00,  3.69it/s]\n",
      "Training: 100%|██████████| 293/293 [01:19<00:00,  3.70it/s]\n",
      "Training: 100%|██████████| 293/293 [01:20<00:00,  3.66it/s]\n"
     ]
    },
    {
     "name": "stdout",
     "output_type": "stream",
     "text": [
      "\n",
      "Epoch 20/30\n",
      "Train Loss: 0.3758\n",
      "Train Metrics: Accuracy=0.8752, F1=0.8797\n",
      "Val Metrics: Accuracy=0.7857, F1=0.7919\n"
     ]
    },
    {
     "name": "stderr",
     "output_type": "stream",
     "text": [
      "Training: 100%|██████████| 293/293 [01:19<00:00,  3.70it/s]\n",
      "Training: 100%|██████████| 293/293 [01:19<00:00,  3.67it/s]\n",
      "Training: 100%|██████████| 293/293 [01:20<00:00,  3.65it/s]\n",
      "Training: 100%|██████████| 293/293 [01:20<00:00,  3.65it/s]\n",
      "Training: 100%|██████████| 293/293 [01:20<00:00,  3.65it/s]\n"
     ]
    },
    {
     "name": "stdout",
     "output_type": "stream",
     "text": [
      "\n",
      "Epoch 25/30\n",
      "Train Loss: 0.2945\n",
      "Train Metrics: Accuracy=0.9123, F1=0.9153\n",
      "Val Metrics: Accuracy=0.8032, F1=0.8082\n"
     ]
    },
    {
     "name": "stderr",
     "output_type": "stream",
     "text": [
      "Training: 100%|██████████| 293/293 [01:20<00:00,  3.66it/s]\n",
      "Training: 100%|██████████| 293/293 [01:20<00:00,  3.66it/s]\n",
      "Training: 100%|██████████| 293/293 [01:19<00:00,  3.68it/s]\n",
      "Training: 100%|██████████| 293/293 [01:19<00:00,  3.68it/s]\n",
      "Training: 100%|██████████| 293/293 [01:19<00:00,  3.69it/s]\n"
     ]
    },
    {
     "name": "stdout",
     "output_type": "stream",
     "text": [
      "\n",
      "Epoch 30/30\n",
      "Train Loss: 0.2273\n",
      "Train Metrics: Accuracy=0.9366, F1=0.9382\n",
      "Val Metrics: Accuracy=0.8151, F1=0.8173\n",
      "\n",
      "Deep LSTM Final Test Metrics:\n",
      "Accuracy: 0.7887\n",
      "Precision: 0.7739\n",
      "Recall: 0.8227\n",
      "F1 Score: 0.7975\n",
      "\n",
      "Training Large LSTM...\n"
     ]
    },
    {
     "name": "stderr",
     "output_type": "stream",
     "text": [
      "Training: 100%|██████████| 196/196 [00:57<00:00,  3.43it/s]\n",
      "Training: 100%|██████████| 196/196 [00:57<00:00,  3.43it/s]\n",
      "Training: 100%|██████████| 196/196 [00:57<00:00,  3.43it/s]\n",
      "Training: 100%|██████████| 196/196 [00:57<00:00,  3.43it/s]\n",
      "Training: 100%|██████████| 196/196 [00:57<00:00,  3.44it/s]\n"
     ]
    },
    {
     "name": "stdout",
     "output_type": "stream",
     "text": [
      "\n",
      "Epoch 5/30\n",
      "Train Loss: 0.5169\n",
      "Train Metrics: Accuracy=0.7832, F1=0.7942\n",
      "Val Metrics: Accuracy=0.7304, F1=0.7442\n"
     ]
    },
    {
     "name": "stderr",
     "output_type": "stream",
     "text": [
      "Training: 100%|██████████| 196/196 [00:56<00:00,  3.46it/s]\n",
      "Training: 100%|██████████| 196/196 [00:56<00:00,  3.46it/s]\n",
      "Training: 100%|██████████| 196/196 [00:56<00:00,  3.45it/s]\n",
      "Training: 100%|██████████| 196/196 [00:56<00:00,  3.46it/s]\n",
      "Training: 100%|██████████| 196/196 [00:56<00:00,  3.45it/s]\n"
     ]
    },
    {
     "name": "stdout",
     "output_type": "stream",
     "text": [
      "\n",
      "Epoch 10/30\n",
      "Train Loss: 0.2973\n",
      "Train Metrics: Accuracy=0.9203, F1=0.9227\n",
      "Val Metrics: Accuracy=0.7997, F1=0.8022\n"
     ]
    },
    {
     "name": "stderr",
     "output_type": "stream",
     "text": [
      "Training: 100%|██████████| 196/196 [00:57<00:00,  3.43it/s]\n",
      "Training: 100%|██████████| 196/196 [00:57<00:00,  3.43it/s]\n",
      "Training: 100%|██████████| 196/196 [00:57<00:00,  3.43it/s]\n",
      "Training: 100%|██████████| 196/196 [00:57<00:00,  3.43it/s]\n",
      "Training: 100%|██████████| 196/196 [00:57<00:00,  3.43it/s]\n"
     ]
    },
    {
     "name": "stdout",
     "output_type": "stream",
     "text": [
      "\n",
      "Epoch 15/30\n",
      "Train Loss: 0.1639\n",
      "Train Metrics: Accuracy=0.9535, F1=0.9536\n",
      "Val Metrics: Accuracy=0.8062, F1=0.7994\n"
     ]
    },
    {
     "name": "stderr",
     "output_type": "stream",
     "text": [
      "Training: 100%|██████████| 196/196 [00:57<00:00,  3.43it/s]\n",
      "Training: 100%|██████████| 196/196 [00:57<00:00,  3.42it/s]\n",
      "Training: 100%|██████████| 196/196 [00:57<00:00,  3.42it/s]\n",
      "Training: 100%|██████████| 196/196 [00:57<00:00,  3.43it/s]\n",
      "Training: 100%|██████████| 196/196 [00:57<00:00,  3.42it/s]\n"
     ]
    },
    {
     "name": "stdout",
     "output_type": "stream",
     "text": [
      "\n",
      "Epoch 20/30\n",
      "Train Loss: 0.1084\n",
      "Train Metrics: Accuracy=0.9634, F1=0.9629\n",
      "Val Metrics: Accuracy=0.8062, F1=0.7990\n"
     ]
    },
    {
     "name": "stderr",
     "output_type": "stream",
     "text": [
      "Training: 100%|██████████| 196/196 [00:57<00:00,  3.41it/s]\n",
      "Training: 100%|██████████| 196/196 [00:57<00:00,  3.41it/s]\n",
      "Training: 100%|██████████| 196/196 [00:57<00:00,  3.43it/s]\n",
      "Training: 100%|██████████| 196/196 [00:57<00:00,  3.43it/s]\n",
      "Training: 100%|██████████| 196/196 [00:57<00:00,  3.41it/s]\n"
     ]
    },
    {
     "name": "stdout",
     "output_type": "stream",
     "text": [
      "\n",
      "Epoch 25/30\n",
      "Train Loss: 0.0915\n",
      "Train Metrics: Accuracy=0.9659, F1=0.9657\n",
      "Val Metrics: Accuracy=0.8336, F1=0.8317\n"
     ]
    },
    {
     "name": "stderr",
     "output_type": "stream",
     "text": [
      "Training: 100%|██████████| 196/196 [00:57<00:00,  3.42it/s]\n",
      "Training: 100%|██████████| 196/196 [00:56<00:00,  3.44it/s]\n",
      "Training: 100%|██████████| 196/196 [00:56<00:00,  3.46it/s]\n",
      "Training: 100%|██████████| 196/196 [00:56<00:00,  3.46it/s]\n",
      "Training: 100%|██████████| 196/196 [00:56<00:00,  3.46it/s]\n"
     ]
    },
    {
     "name": "stdout",
     "output_type": "stream",
     "text": [
      "\n",
      "Epoch 30/30\n",
      "Train Loss: 0.0966\n",
      "Train Metrics: Accuracy=0.9640, F1=0.9636\n",
      "Val Metrics: Accuracy=0.8057, F1=0.7965\n",
      "\n",
      "Large LSTM Final Test Metrics:\n",
      "Accuracy: 0.8346\n",
      "Precision: 0.8274\n",
      "Recall: 0.8502\n",
      "F1 Score: 0.8387\n"
     ]
    },
    {
     "data": {
      "image/png": "[encoded data removed]",
      "text/plain": [
       "<Figure size 1500x1000 with 2 Axes>"
      ]
     },
     "metadata": {},
     "output_type": "display_data"
    },
    {
     "name": "stdout",
     "output_type": "stream",
     "text": [
      "\n",
      "Model Comparison:\n",
      "----------------------------------------------------------------------------------------------------\n",
      "Model                Accuracy   Precision  Recall     F1 Score   Parameters   Batch Size\n",
      "----------------------------------------------------------------------------------------------------\n",
      "Simple LSTM          0.5057     0.5057     1.0000     0.6717          32353        128\n",
      "Bidirectional LSTM   0.8216     0.8096     0.8463     0.8276         241857         64\n",
      "Deep LSTM            0.7887     0.7739     0.8227     0.7975        3980097         32\n",
      "Large LSTM           0.8346     0.8274     0.8502     0.8387        9590401         48\n"
     ]
    }
   ],
   "source": [
    "# Model configurations\n",
    "model_configs = [\n",
    "    {\n",
    "        \"name\": \"Simple LSTM\",\n",
    "        \"embedding_dim\": 32,\n",
    "        \"hidden_dim\": 64,\n",
    "        \"num_layers\": 1,\n",
    "        \"dropout\": 0.1,\n",
    "        \"bidirectional\": False,\n",
    "        \"learning_rate\": 0.001,\n",
    "        \"batch_size\": 128,\n",
    "        \"weight_decay\": 0\n",
    "    },\n",
    "    {\n",
    "        \"name\": \"Bidirectional LSTM\",\n",
    "        \"embedding_dim\": 64,\n",
    "        \"hidden_dim\": 128,\n",
    "        \"num_layers\": 1,\n",
    "        \"dropout\": 0.2,\n",
    "        \"bidirectional\": True,\n",
    "        \"learning_rate\": 0.0003,\n",
    "        \"batch_size\": 64,\n",
    "        \"weight_decay\": 1e-5\n",
    "    },\n",
    "    {\n",
    "        \"name\": \"Deep LSTM\",\n",
    "        \"embedding_dim\": 64,\n",
    "        \"hidden_dim\": 256,\n",
    "        \"num_layers\": 3,\n",
    "        \"dropout\": 0.3,\n",
    "        \"bidirectional\": True,\n",
    "        \"learning_rate\": 0.0001,\n",
    "        \"batch_size\": 32,\n",
    "        \"weight_decay\": 1e-5\n",
    "    },\n",
    "    {\n",
    "        \"name\": \"Large LSTM\",\n",
    "        \"embedding_dim\": 128,\n",
    "        \"hidden_dim\": 512,\n",
    "        \"num_layers\": 2,\n",
    "        \"dropout\": 0.2,\n",
    "        \"bidirectional\": True,\n",
    "        \"learning_rate\": 0.0002,\n",
    "        \"batch_size\": 48,\n",
    "        \"weight_decay\": 1e-5\n",
    "    }\n",
    "]\n",
    "\n",
    "class ProteinLSTMClassifier(nn.Module):\n",
    "    def __init__(self, vocab_size, embedding_dim, hidden_dim, num_layers, dropout, bidirectional=True):\n",
    "        super().__init__()\n",
    "        self.embedding = nn.Embedding(vocab_size, embedding_dim, padding_idx=0)\n",
    "        \n",
    "        self.lstm = nn.LSTM(\n",
    "            input_size=embedding_dim,\n",
    "            hidden_size=hidden_dim,\n",
    "            num_layers=num_layers,\n",
    "            batch_first=True,\n",
    "            dropout=dropout if num_layers > 1 else 0,\n",
    "            bidirectional=bidirectional\n",
    "        )\n",
    "        \n",
    "        # Multiply by 2 if bidirectional\n",
    "        classifier_input = hidden_dim * 2 if bidirectional else hidden_dim\n",
    "        \n",
    "        self.classifier = nn.Sequential(\n",
    "            nn.Linear(classifier_input, hidden_dim),\n",
    "            nn.BatchNorm1d(hidden_dim),\n",
    "            nn.ReLU(),\n",
    "            nn.Dropout(dropout),\n",
    "            \n",
    "            nn.Linear(hidden_dim, hidden_dim // 2),\n",
    "            nn.BatchNorm1d(hidden_dim // 2),\n",
    "            nn.ReLU(),\n",
    "            nn.Dropout(dropout),\n",
    "            \n",
    "            nn.Linear(hidden_dim // 2, 1),\n",
    "            nn.Sigmoid()\n",
    "        )\n",
    "        \n",
    "    def forward(self, x):\n",
    "        embedded = self.embedding(x)\n",
    "        lstm_out, (hidden, cell) = self.lstm(embedded)\n",
    "        \n",
    "        if self.lstm.bidirectional:\n",
    "            final_hidden = torch.cat((hidden[-2,:,:], hidden[-1,:,:]), dim=1)\n",
    "        else:\n",
    "            final_hidden = hidden[-1]\n",
    "            \n",
    "        output = self.classifier(final_hidden)\n",
    "        return output.squeeze()\n",
    "\n",
    "def train_and_evaluate_model(config, n_epochs=30):\n",
    "    print(f\"\\nTraining {config['name']}...\")\n",
    "    \n",
    "    # Initialize model\n",
    "    model = ProteinLSTMClassifier(\n",
    "        vocab_size=len(letter_to_int),\n",
    "        embedding_dim=config['embedding_dim'],\n",
    "        hidden_dim=config['hidden_dim'],\n",
    "        num_layers=config['num_layers'],\n",
    "        dropout=config['dropout'],\n",
    "        bidirectional=config['bidirectional']\n",
    "    ).to(device)\n",
    "    \n",
    "    # Setup training\n",
    "    criterion = nn.BCELoss()\n",
    "    optimizer = optim.Adam(\n",
    "        model.parameters(), \n",
    "        lr=config['learning_rate'], \n",
    "        weight_decay=config['weight_decay']\n",
    "    )\n",
    "    \n",
    "    # Create data loaders\n",
    "    train_loader = DataLoader(train_dataset, batch_size=config['batch_size'], shuffle=True)\n",
    "    val_loader = DataLoader(val_dataset, batch_size=config['batch_size'], shuffle=False)\n",
    "    test_loader = DataLoader(test_dataset, batch_size=config['batch_size'], shuffle=False)\n",
    "    \n",
    "    train_losses = []\n",
    "    val_metrics = []\n",
    "    best_val_f1 = 0\n",
    "    best_model = None\n",
    "    \n",
    "    for epoch in range(n_epochs):\n",
    "        # Train\n",
    "        loss, train_preds, train_labels = train_epoch(model, train_loader, criterion, optimizer)\n",
    "        train_losses.append(loss)\n",
    "        \n",
    "        # Evaluate\n",
    "        train_metrics = evaluate(model, train_loader)\n",
    "        val_metrics_epoch = evaluate(model, val_loader)\n",
    "        val_metrics.append(val_metrics_epoch)\n",
    "        \n",
    "        # Save best model\n",
    "        if val_metrics_epoch['f1'] > best_val_f1:\n",
    "            best_val_f1 = val_metrics_epoch['f1']\n",
    "            best_model = deepcopy(model.state_dict())\n",
    "        \n",
    "        if (epoch + 1) % 5 == 0:  # Print every 5 epochs\n",
    "            print(f\"\\nEpoch {epoch+1}/{n_epochs}\")\n",
    "            print(f\"Train Loss: {loss:.4f}\")\n",
    "            print(f\"Train Metrics: Accuracy={train_metrics['accuracy']:.4f}, F1={train_metrics['f1']:.4f}\")\n",
    "            print(f\"Val Metrics: Accuracy={val_metrics_epoch['accuracy']:.4f}, F1={val_metrics_epoch['f1']:.4f}\")\n",
    "    \n",
    "    # Load best model and evaluate on test set\n",
    "    model.load_state_dict(best_model)\n",
    "    test_metrics = evaluate(model, test_loader)\n",
    "    \n",
    "    return {\n",
    "        'name': config['name'],\n",
    "        'train_losses': train_losses,\n",
    "        'val_metrics': val_metrics,\n",
    "        'test_metrics': test_metrics,\n",
    "        'model': model\n",
    "    }\n",
    "\n",
    "# Train all models\n",
    "results = []\n",
    "for config in model_configs:\n",
    "    result = train_and_evaluate_model(config)\n",
    "    results.append(result)\n",
    "    \n",
    "    print(f\"\\n{result['name']} Final Test Metrics:\")\n",
    "    print(f\"Accuracy: {result['test_metrics']['accuracy']:.4f}\")\n",
    "    print(f\"Precision: {result['test_metrics']['precision']:.4f}\")\n",
    "    print(f\"Recall: {result['test_metrics']['recall']:.4f}\")\n",
    "    print(f\"F1 Score: {result['test_metrics']['f1']:.4f}\")\n",
    "\n",
    "# Plot results\n",
    "plt.figure(figsize=(15, 10))\n",
    "\n",
    "# Plot training losses\n",
    "plt.subplot(2, 1, 1)\n",
    "for result in results:\n",
    "    plt.plot(result['train_losses'], label=result['name'])\n",
    "plt.title('Training Losses')\n",
    "plt.xlabel('Epoch')\n",
    "plt.ylabel('Loss')\n",
    "plt.legend()\n",
    "\n",
    "# Plot validation F1 scores\n",
    "plt.subplot(2, 1, 2)\n",
    "for result in results:\n",
    "    f1_scores = [m['f1'] for m in result['val_metrics']]\n",
    "    plt.plot(f1_scores, label=result['name'])\n",
    "plt.title('Validation F1 Scores')\n",
    "plt.xlabel('Epoch')\n",
    "plt.ylabel('F1 Score')\n",
    "plt.legend()\n",
    "\n",
    "plt.tight_layout()\n",
    "plt.show()\n",
    "\n",
    "# Print comparison table\n",
    "print(\"\\nModel Comparison:\")\n",
    "print(\"-\" * 100)\n",
    "print(f\"{'Model':20} {'Accuracy':10} {'Precision':10} {'Recall':10} {'F1 Score':10} {'Parameters':12} {'Batch Size':10}\")\n",
    "print(\"-\" * 100)\n",
    "for result in results:\n",
    "    metrics = result['test_metrics']\n",
    "    n_params = sum(p.numel() for p in result['model'].parameters())\n",
    "    config = next(c for c in model_configs if c['name'] == result['name'])\n",
    "    print(f\"{result['name']:20} \"\n",
    "          f\"{metrics['accuracy']:.4f}     \"\n",
    "          f\"{metrics['precision']:.4f}     \"\n",
    "          f\"{metrics['recall']:.4f}     \"\n",
    "          f\"{metrics['f1']:.4f}     \"\n",
    "          f\"{n_params:10d}   \"\n",
    "          f\"{config['batch_size']:8d}\")"
   ]
  }
 ],
 "metadata": {
  "kernelspec": {
   "display_name": "esm",
   "language": "python",
   "name": "python3"
  },
  "language_info": {
   "codemirror_mode": {
    "name": "ipython",
    "version": 3
   },
   "file_extension": ".py",
   "mimetype": "text/x-python",
   "name": "python",
   "nbconvert_exporter": "python",
   "pygments_lexer": "ipython3",
   "version": "3.10.15"
  }
 },
 "nbformat": 4,
 "nbformat_minor": 2
}
