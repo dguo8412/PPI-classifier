{
 "cells": [
  {
   "cell_type": "code",
   "execution_count": 1,
   "metadata": {},
   "outputs": [
    {
     "name": "stdout",
     "output_type": "stream",
     "text": [
      "Using device: cuda\n"
     ]
    }
   ],
   "source": [
    "import os\n",
    "import torch\n",
    "from torch.utils.data import Dataset, DataLoader\n",
    "import numpy as np\n",
    "import pandas as pd\n",
    "from sklearn.model_selection import train_test_split\n",
    "from tqdm import tqdm\n",
    "import matplotlib.pyplot as plt\n",
    "\n",
    "device = torch.device('cuda' if torch.cuda.is_available() else 'cpu')\n",
    "print(f\"Using device: {device}\")"
   ]
  },
  {
   "cell_type": "markdown",
   "metadata": {},
   "source": [
    "# Data Preprocessing"
   ]
  },
  {
   "cell_type": "code",
   "execution_count": 2,
   "metadata": {},
   "outputs": [],
   "source": [
    "interaction_pairs = []\n",
    "with open('interactions_data.txt', 'r') as file:\n",
    "    for line in file:\n",
    "        pdb_id1, pdb_id2, interaction = line.strip().split()\n",
    "        interaction = int(interaction)\n",
    "        interaction_pairs.append((pdb_id1.upper(), pdb_id2.upper(), interaction))\n"
   ]
  },
  {
   "cell_type": "code",
   "execution_count": 3,
   "metadata": {},
   "outputs": [
    {
     "name": "stderr",
     "output_type": "stream",
     "text": [
      "/tmp/ipykernel_3975630/3743286480.py:22: FutureWarning: You are using `torch.load` with `weights_only=False` (the current default value), which uses the default pickle module implicitly. It is possible to construct malicious pickle data which will execute arbitrary code during unpickling (See https://github.com/pytorch/pytorch/blob/main/SECURITY.md#untrusted-models for more details). In a future release, the default value for `weights_only` will be flipped to `True`. This limits the functions that could be executed during unpickling. Arbitrary objects will no longer be allowed to be loaded via this mode unless they are explicitly allowlisted by the user via `torch.serialization.add_safe_globals`. We recommend you start setting `weights_only=True` for any use case where you don't have full control of the loaded file. Please open an issue on GitHub for any issues related to this experimental feature.\n",
      "  embedding = torch.load(embedding_path, map_location='cpu')  # Load onto CPU\n"
     ]
    }
   ],
   "source": [
    "# Path to the folder containing embeddings\n",
    "EMBEDDING_FOLDER = 'protein_embeddings'\n",
    "\n",
    "# Dictionary to store embeddings per PDB ID\n",
    "embedding_dict_pdb_only = {}\n",
    "\n",
    "# List all embedding files\n",
    "embedding_files = [f for f in os.listdir(EMBEDDING_FOLDER) if f.endswith('.pt')]\n",
    "\n",
    "# Build mapping from PDB ID to embedding (selecting smallest embedding)\n",
    "for filename in embedding_files:\n",
    "    # Extract PDB ID and chain ID from filename\n",
    "    basename = os.path.splitext(filename)[0]\n",
    "    if '_' in basename:\n",
    "        pdb_id, chain_id = basename.split('_')\n",
    "    else:\n",
    "        pdb_id = basename\n",
    "        chain_id = ''\n",
    "    \n",
    "    # Load the embedding onto CPU\n",
    "    embedding_path = os.path.join(EMBEDDING_FOLDER, filename)\n",
    "    embedding = torch.load(embedding_path, map_location='cpu')  # Load onto CPU\n",
    "\n",
    "    # Ensure embedding is a tensor\n",
    "    if not isinstance(embedding, torch.Tensor):\n",
    "        print(f\"Invalid embedding for {pdb_id}_{chain_id}\")\n",
    "        continue\n",
    "    \n",
    "    # Check if the PDB ID is already in the dictionary\n",
    "    if pdb_id not in embedding_dict_pdb_only:\n",
    "        # Add the embedding to the dictionary\n",
    "        embedding_dict_pdb_only[pdb_id] = embedding\n",
    "    else:\n",
    "        # If multiple chains, select the smallest embedding (shortest sequence)\n",
    "        current_embedding = embedding_dict_pdb_only[pdb_id]\n",
    "        if embedding.numel() < current_embedding.numel():\n",
    "            embedding_dict_pdb_only[pdb_id] = embedding\n"
   ]
  },
  {
   "cell_type": "code",
   "execution_count": 4,
   "metadata": {},
   "outputs": [
    {
     "name": "stderr",
     "output_type": "stream",
     "text": [
      "Processing pairs: 100%|██████████| 10004/10004 [00:00<00:00, 108350.51it/s]"
     ]
    },
    {
     "name": "stdout",
     "output_type": "stream",
     "text": [
      "Total pairs processed: 9806\n",
      "Total pairs missing embeddings: 198\n",
      "Number of unique proteins missing embeddings: 29\n"
     ]
    },
    {
     "name": "stderr",
     "output_type": "stream",
     "text": [
      "\n"
     ]
    }
   ],
   "source": [
    "X = []\n",
    "y = []\n",
    "\n",
    "missing_embeddings = set()\n",
    "total_pairs = len(interaction_pairs)\n",
    "\n",
    "for pdb_id1, pdb_id2, interaction in tqdm(interaction_pairs, desc=\"Processing pairs\"):\n",
    "    # Check if embeddings for both PDB IDs are available\n",
    "    if pdb_id1 in embedding_dict_pdb_only and pdb_id2 in embedding_dict_pdb_only:\n",
    "        # Retrieve embeddings\n",
    "        embedding1 = embedding_dict_pdb_only[pdb_id1]\n",
    "        embedding2 = embedding_dict_pdb_only[pdb_id2]\n",
    "        \n",
    "        # Concatenate embeddings\n",
    "        combined_embedding = torch.cat((embedding1, embedding2), dim=0)\n",
    "        \n",
    "        # Append to the list\n",
    "        X.append(combined_embedding)\n",
    "        y.append(interaction)\n",
    "    else:\n",
    "        # Record missing embeddings\n",
    "        if pdb_id1 not in embedding_dict_pdb_only:\n",
    "            missing_embeddings.add(pdb_id1)\n",
    "        if pdb_id2 not in embedding_dict_pdb_only:\n",
    "            missing_embeddings.add(pdb_id2)\n",
    "\n",
    "print(f\"Total pairs processed: {len(X)}\")\n",
    "print(f\"Total pairs missing embeddings: {total_pairs - len(X)}\")\n",
    "print(f\"Number of unique proteins missing embeddings: {len(missing_embeddings)}\")\n"
   ]
  },
  {
   "cell_type": "code",
   "execution_count": 5,
   "metadata": {},
   "outputs": [],
   "source": [
    "class ProteinInteractionDataset(Dataset):\n",
    "    def __init__(self, X, y):\n",
    "        self.X = torch.tensor(X, dtype=torch.float32)\n",
    "        self.y = torch.tensor(y, dtype=torch.float32)\n",
    "    \n",
    "    def __len__(self):\n",
    "        return len(self.X)\n",
    "    \n",
    "    def __getitem__(self, idx):\n",
    "        x = self.X[idx].float()  # Convert to float32\n",
    "        y = self.y[idx]\n",
    "        return x, y"
   ]
  },
  {
   "cell_type": "code",
   "execution_count": 6,
   "metadata": {},
   "outputs": [
    {
     "name": "stdout",
     "output_type": "stream",
     "text": [
      "Training examples: 7844\n",
      "Validation examples: 981\n",
      "Test examples: 981\n"
     ]
    }
   ],
   "source": [
    "# NORMALIZE DATA\n",
    "from sklearn.preprocessing import StandardScaler\n",
    "\n",
    "# Collect all embeddings into a single tensor\n",
    "all_embeddings = torch.stack([x.cpu() for x in X])\n",
    "\n",
    "# Convert to NumPy for normalization\n",
    "all_embeddings_np = all_embeddings.numpy()\n",
    "\n",
    "# Split the data into train, validation, and test sets before normalization\n",
    "X_train_np, X_temp_np, y_train, y_temp = train_test_split(\n",
    "    all_embeddings_np, y, test_size=0.2, random_state=42\n",
    ")  # 80% train, 20% temp\n",
    "X_val_np, X_test_np, y_val, y_test = train_test_split(\n",
    "    X_temp_np, y_temp, test_size=0.5, random_state=42\n",
    ")  # 10% val, 10% test\n",
    "\n",
    "print(f\"Training examples: {len(X_train_np)}\")\n",
    "print(f\"Validation examples: {len(X_val_np)}\")\n",
    "print(f\"Test examples: {len(X_test_np)}\")\n",
    "\n",
    "# Initialize the scaler\n",
    "scaler = StandardScaler()\n",
    "\n",
    "# Fit the scaler on the training data to prevent data leakage\n",
    "scaler.fit(X_train_np)\n",
    "\n",
    "# Transform the datasets\n",
    "X_train_scaled_np = scaler.transform(X_train_np)\n",
    "X_val_scaled_np = scaler.transform(X_val_np)\n",
    "X_test_scaled_np = scaler.transform(X_test_np)\n",
    "\n",
    "# Convert the normalized NumPy arrays back to torch tensors\n",
    "X_train_scaled = torch.tensor(X_train_scaled_np, dtype=torch.float32)\n",
    "X_val_scaled = torch.tensor(X_val_scaled_np, dtype=torch.float32)\n",
    "X_test_scaled = torch.tensor(X_test_scaled_np, dtype=torch.float32)\n",
    "\n",
    "# Convert labels to torch tensors\n",
    "y_train_tensor = torch.tensor(y_train, dtype=torch.float32)\n",
    "y_val_tensor = torch.tensor(y_val, dtype=torch.float32)\n",
    "y_test_tensor = torch.tensor(y_test, dtype=torch.float32)\n",
    "\n",
    "\n",
    "# # Update the dataset with normalized embeddings\n",
    "# dataset = ProteinInteractionDataset(X_normalized, y)\n"
   ]
  },
  {
   "cell_type": "code",
   "execution_count": 7,
   "metadata": {},
   "outputs": [
    {
     "name": "stdout",
     "output_type": "stream",
     "text": [
      "Train Set - Positive Examples: 3895, Negative Examples: 3949\n",
      "Validation Set - Positive Examples: 498, Negative Examples: 483\n",
      "Test Set - Positive Examples: 525, Negative Examples: 456\n",
      "Training examples: 7844\n",
      "Validation examples: 981\n",
      "Test examples: 981\n"
     ]
    },
    {
     "name": "stderr",
     "output_type": "stream",
     "text": [
      "/tmp/ipykernel_3975630/2661065925.py:3: UserWarning: To copy construct from a tensor, it is recommended to use sourceTensor.clone().detach() or sourceTensor.clone().detach().requires_grad_(True), rather than torch.tensor(sourceTensor).\n",
      "  self.X = torch.tensor(X, dtype=torch.float32)\n",
      "/tmp/ipykernel_3975630/2661065925.py:4: UserWarning: To copy construct from a tensor, it is recommended to use sourceTensor.clone().detach() or sourceTensor.clone().detach().requires_grad_(True), rather than torch.tensor(sourceTensor).\n",
      "  self.y = torch.tensor(y, dtype=torch.float32)\n"
     ]
    }
   ],
   "source": [
    "# Define lengths for train, validation, and test sets\n",
    "# total_size = len(dataset)\n",
    "# train_size = int(0.8 * total_size)\n",
    "# val_size = int(0.1 * total_size)\n",
    "# test_size = total_size - train_size - val_size\n",
    "\n",
    "# # Split the dataset\n",
    "# train_dataset, val_dataset, test_dataset = random_split(dataset, [train_size, val_size, test_size])\n",
    "\n",
    "train_dataset = ProteinInteractionDataset(X_train_scaled, y_train_tensor)\n",
    "val_dataset = ProteinInteractionDataset(X_val_scaled, y_val_tensor)\n",
    "test_dataset = ProteinInteractionDataset(X_test_scaled, y_test_tensor)\n",
    "\n",
    "def log_positive_negative_counts(y_set, set_name):\n",
    "    pos_count = np.sum(y_set)\n",
    "    neg_count = len(y_set) - pos_count\n",
    "    print(f\"{set_name} Set - Positive Examples: {int(pos_count)}, Negative Examples: {int(neg_count)}\")\n",
    "\n",
    "# Log counts\n",
    "log_positive_negative_counts(y_train, \"Train\")\n",
    "log_positive_negative_counts(y_val, \"Validation\")\n",
    "log_positive_negative_counts(y_test, \"Test\")\n",
    "\n",
    "print(f\"Training examples: {len(train_dataset)}\")\n",
    "print(f\"Validation examples: {len(val_dataset)}\")\n",
    "print(f\"Test examples: {len(test_dataset)}\")\n",
    "\n",
    "batch_size = 32\n",
    "\n",
    "train_loader = DataLoader(train_dataset, batch_size=batch_size, shuffle=True)\n",
    "val_loader = DataLoader(val_dataset, batch_size=batch_size)\n",
    "test_loader = DataLoader(test_dataset, batch_size=batch_size)"
   ]
  },
  {
   "cell_type": "code",
   "execution_count": 8,
   "metadata": {},
   "outputs": [
    {
     "name": "stdout",
     "output_type": "stream",
     "text": [
      "Input dimension: 3072\n"
     ]
    }
   ],
   "source": [
    "input_dim = X[0].shape[0]\n",
    "print(f\"Input dimension: {input_dim}\")\n"
   ]
  },
  {
   "cell_type": "code",
   "execution_count": 9,
   "metadata": {},
   "outputs": [],
   "source": [
    "import torch\n",
    "import torch.nn as nn\n",
    "\n",
    "class PPIClassifier(nn.Module):\n",
    "    def __init__(self, input_dim):\n",
    "        super(PPIClassifier, self).__init__()\n",
    "        \n",
    "        self.layer1 = nn.Sequential(\n",
    "            nn.Linear(input_dim, 1024),\n",
    "            nn.BatchNorm1d(1024),\n",
    "            nn.LeakyReLU(0.1),\n",
    "            nn.Dropout(0.5)\n",
    "        )\n",
    "        \n",
    "        self.layer2 = nn.Sequential(\n",
    "            nn.Linear(1024, 512),\n",
    "            nn.BatchNorm1d(512),\n",
    "            nn.LeakyReLU(0.1),\n",
    "            nn.Dropout(0.5)\n",
    "        )\n",
    "        \n",
    "        self.layer3 = nn.Sequential(\n",
    "            nn.Linear(512, 256),\n",
    "            nn.BatchNorm1d(256),\n",
    "            nn.LeakyReLU(0.1),\n",
    "            nn.Dropout(0.5)\n",
    "        )\n",
    "        \n",
    "        self.layer4 = nn.Sequential(\n",
    "            nn.Linear(256, 128),\n",
    "            nn.BatchNorm1d(128),\n",
    "            nn.LeakyReLU(0.1),\n",
    "            nn.Dropout(0.5)\n",
    "        )\n",
    "        \n",
    "        self.layer5 = nn.Sequential(\n",
    "            nn.Linear(128, 64),\n",
    "            nn.BatchNorm1d(64),\n",
    "            nn.LeakyReLU(0.1),\n",
    "            nn.Dropout(0.5)\n",
    "        )\n",
    "        \n",
    "        self.output_layer = nn.Sequential(\n",
    "            nn.Linear(64, 1),\n",
    "            nn.Sigmoid()  # For binary classification\n",
    "        )\n",
    "    \n",
    "    def forward(self, x):\n",
    "        x = self.layer1(x)\n",
    "        x = self.layer2(x)\n",
    "        x = self.layer3(x)\n",
    "        x = self.layer4(x)\n",
    "        x = self.layer5(x)\n",
    "        x = self.output_layer(x)\n",
    "        return x\n"
   ]
  },
  {
   "cell_type": "code",
   "execution_count": 10,
   "metadata": {},
   "outputs": [
    {
     "name": "stdout",
     "output_type": "stream",
     "text": [
      "PPIClassifier(\n",
      "  (layer1): Sequential(\n",
      "    (0): Linear(in_features=3072, out_features=1024, bias=True)\n",
      "    (1): BatchNorm1d(1024, eps=1e-05, momentum=0.1, affine=True, track_running_stats=True)\n",
      "    (2): LeakyReLU(negative_slope=0.1)\n",
      "    (3): Dropout(p=0.5, inplace=False)\n",
      "  )\n",
      "  (layer2): Sequential(\n",
      "    (0): Linear(in_features=1024, out_features=512, bias=True)\n",
      "    (1): BatchNorm1d(512, eps=1e-05, momentum=0.1, affine=True, track_running_stats=True)\n",
      "    (2): LeakyReLU(negative_slope=0.1)\n",
      "    (3): Dropout(p=0.5, inplace=False)\n",
      "  )\n",
      "  (layer3): Sequential(\n",
      "    (0): Linear(in_features=512, out_features=256, bias=True)\n",
      "    (1): BatchNorm1d(256, eps=1e-05, momentum=0.1, affine=True, track_running_stats=True)\n",
      "    (2): LeakyReLU(negative_slope=0.1)\n",
      "    (3): Dropout(p=0.5, inplace=False)\n",
      "  )\n",
      "  (layer4): Sequential(\n",
      "    (0): Linear(in_features=256, out_features=128, bias=True)\n",
      "    (1): BatchNorm1d(128, eps=1e-05, momentum=0.1, affine=True, track_running_stats=True)\n",
      "    (2): LeakyReLU(negative_slope=0.1)\n",
      "    (3): Dropout(p=0.5, inplace=False)\n",
      "  )\n",
      "  (layer5): Sequential(\n",
      "    (0): Linear(in_features=128, out_features=64, bias=True)\n",
      "    (1): BatchNorm1d(64, eps=1e-05, momentum=0.1, affine=True, track_running_stats=True)\n",
      "    (2): LeakyReLU(negative_slope=0.1)\n",
      "    (3): Dropout(p=0.5, inplace=False)\n",
      "  )\n",
      "  (output_layer): Sequential(\n",
      "    (0): Linear(in_features=64, out_features=1, bias=True)\n",
      "    (1): Sigmoid()\n",
      "  )\n",
      ")\n"
     ]
    }
   ],
   "source": [
    "model = PPIClassifier(input_dim).to(device)\n",
    "print(model)\n"
   ]
  },
  {
   "cell_type": "code",
   "execution_count": 11,
   "metadata": {},
   "outputs": [],
   "source": [
    "criterion = nn.BCELoss()  # Binary Cross Entropy Loss\n",
    "optimizer = torch.optim.Adam(model.parameters(), lr=0.001)\n"
   ]
  },
  {
   "cell_type": "code",
   "execution_count": 12,
   "metadata": {},
   "outputs": [
    {
     "name": "stdout",
     "output_type": "stream",
     "text": [
      "Epoch 1/20 - Train Loss: 0.3445, Train Acc: 0.8543, Val Loss: 0.1987, Val Acc: 0.9286\n",
      "Epoch 2/20 - Train Loss: 0.2000, Train Acc: 0.9295, Val Loss: 0.1867, Val Acc: 0.9429\n",
      "Epoch 3/20 - Train Loss: 0.1617, Train Acc: 0.9438, Val Loss: 0.1697, Val Acc: 0.9439\n",
      "Epoch 4/20 - Train Loss: 0.1462, Train Acc: 0.9517, Val Loss: 0.1867, Val Acc: 0.9399\n",
      "Epoch 5/20 - Train Loss: 0.1179, Train Acc: 0.9596, Val Loss: 0.1536, Val Acc: 0.9501\n",
      "Epoch 6/20 - Train Loss: 0.1162, Train Acc: 0.9575, Val Loss: 0.1692, Val Acc: 0.9521\n",
      "Epoch 7/20 - Train Loss: 0.1326, Train Acc: 0.9550, Val Loss: 0.1359, Val Acc: 0.9613\n",
      "Epoch 8/20 - Train Loss: 0.1069, Train Acc: 0.9658, Val Loss: 0.1592, Val Acc: 0.9572\n",
      "Epoch 9/20 - Train Loss: 0.0961, Train Acc: 0.9667, Val Loss: 0.1581, Val Acc: 0.9551\n",
      "Epoch 10/20 - Train Loss: 0.0881, Train Acc: 0.9706, Val Loss: 0.1343, Val Acc: 0.9582\n",
      "Epoch 11/20 - Train Loss: 0.0792, Train Acc: 0.9718, Val Loss: 0.1541, Val Acc: 0.9602\n",
      "Epoch 12/20 - Train Loss: 0.0760, Train Acc: 0.9734, Val Loss: 0.1467, Val Acc: 0.9602\n",
      "Epoch 13/20 - Train Loss: 0.0742, Train Acc: 0.9748, Val Loss: 0.1585, Val Acc: 0.9623\n",
      "Epoch 14/20 - Train Loss: 0.0659, Train Acc: 0.9783, Val Loss: 0.1555, Val Acc: 0.9562\n",
      "Epoch 15/20 - Train Loss: 0.0733, Train Acc: 0.9755, Val Loss: 0.1489, Val Acc: 0.9613\n",
      "Epoch 16/20 - Train Loss: 0.0631, Train Acc: 0.9799, Val Loss: 0.1619, Val Acc: 0.9602\n",
      "Epoch 17/20 - Train Loss: 0.0691, Train Acc: 0.9767, Val Loss: 0.1535, Val Acc: 0.9480\n",
      "Epoch 18/20 - Train Loss: 0.0517, Train Acc: 0.9818, Val Loss: 0.1378, Val Acc: 0.9674\n",
      "Epoch 19/20 - Train Loss: 0.0534, Train Acc: 0.9819, Val Loss: 0.1272, Val Acc: 0.9694\n",
      "Epoch 20/20 - Train Loss: 0.0558, Train Acc: 0.9816, Val Loss: 0.1499, Val Acc: 0.9664\n"
     ]
    }
   ],
   "source": [
    "import matplotlib.pyplot as plt\n",
    "\n",
    "def plot_training_history(train_losses, val_losses, train_accuracies, val_accuracies):\n",
    "    epochs = range(1, len(train_losses) + 1)\n",
    "\n",
    "    # Plot Loss\n",
    "    plt.figure(figsize=(12, 6))\n",
    "    plt.subplot(1, 2, 1)\n",
    "    plt.plot(epochs, train_losses, label='Train Loss', color='blue')\n",
    "    plt.plot(epochs, val_losses, label='Validation Loss', color='red')\n",
    "    plt.xlabel('Epochs')\n",
    "    plt.ylabel('Loss')\n",
    "    plt.title('Training and Validation Loss')\n",
    "    plt.legend()\n",
    "\n",
    "    # Plot Accuracy\n",
    "    plt.subplot(1, 2, 2)\n",
    "    plt.plot(epochs, train_accuracies, label='Train Accuracy', color='blue')\n",
    "    plt.plot(epochs, val_accuracies, label='Validation Accuracy', color='red')\n",
    "    plt.xlabel('Epochs')\n",
    "    plt.ylabel('Accuracy')\n",
    "    plt.title('Training and Validation Accuracy')\n",
    "    plt.legend()\n",
    "\n",
    "    plt.tight_layout()\n",
    "    plt.show()\n",
    "\n",
    "# Example of how to use this function during your training loop:\n",
    "train_losses = []\n",
    "val_losses = []\n",
    "train_accuracies = []\n",
    "val_accuracies = []\n",
    "\n",
    "\n",
    "num_epochs = 20\n",
    "\n",
    "# Inside the training loop\n",
    "for epoch in range(num_epochs):\n",
    "    # Training Phase\n",
    "    model.train()\n",
    "    train_loss = 0.0\n",
    "    correct = 0\n",
    "    total = 0\n",
    "    \n",
    "    for inputs, labels in train_loader:\n",
    "        inputs = inputs.to(device)\n",
    "        labels = labels.to(device).unsqueeze(1)  # Reshape labels to (batch_size, 1)\n",
    "        \n",
    "        # Zero the parameter gradients\n",
    "        optimizer.zero_grad()\n",
    "        \n",
    "        # Forward pass\n",
    "        outputs = model(inputs)\n",
    "        loss = criterion(outputs, labels)\n",
    "        \n",
    "        # Backward pass and optimization\n",
    "        loss.backward()\n",
    "        optimizer.step()\n",
    "        \n",
    "        # Statistics\n",
    "        train_loss += loss.item() * inputs.size(0)\n",
    "        predicted = (outputs >= 0.5).float()\n",
    "        correct += (predicted == labels).sum().item()\n",
    "        total += labels.size(0)\n",
    "    \n",
    "    # Calculate average loss and accuracy\n",
    "    train_loss /= len(train_dataset)\n",
    "    train_acc = correct / total\n",
    "    train_losses.append(train_loss)\n",
    "    train_accuracies.append(train_acc)\n",
    "    \n",
    "    # Validation Phase\n",
    "    model.eval()\n",
    "    val_loss = 0.0\n",
    "    correct = 0\n",
    "    total = 0\n",
    "    \n",
    "    with torch.no_grad():\n",
    "        for inputs, labels in val_loader:\n",
    "            inputs = inputs.to(device)\n",
    "            labels = labels.to(device).unsqueeze(1)\n",
    "            \n",
    "            outputs = model(inputs)\n",
    "            loss = criterion(outputs, labels)\n",
    "            \n",
    "            val_loss += loss.item() * inputs.size(0)\n",
    "            predicted = (outputs >= 0.5).float()\n",
    "            correct += (predicted == labels).sum().item()\n",
    "            total += labels.size(0)\n",
    "    \n",
    "    val_loss /= len(val_dataset)\n",
    "    val_acc = correct / total\n",
    "    val_losses.append(val_loss)\n",
    "    val_accuracies.append(val_acc)\n",
    "    \n",
    "    print(f\"Epoch {epoch+1}/{num_epochs} - \"\n",
    "          f\"Train Loss: {train_loss:.4f}, Train Acc: {train_acc:.4f}, \"\n",
    "          f\"Val Loss: {val_loss:.4f}, Val Acc: {val_acc:.4f}\")\n"
   ]
  },
  {
   "cell_type": "code",
   "execution_count": 13,
   "metadata": {},
   "outputs": [
    {
     "name": "stdout",
     "output_type": "stream",
     "text": [
      "Test Loss: 0.0940\n",
      "Test Accuracy: 0.9694\n"
     ]
    }
   ],
   "source": [
    "model.eval()\n",
    "test_loss = 0.0\n",
    "correct = 0\n",
    "total = 0\n",
    "\n",
    "with torch.no_grad():\n",
    "    for inputs, labels in test_loader:\n",
    "        inputs = inputs.to(device)\n",
    "        labels = labels.to(device).unsqueeze(1)\n",
    "        \n",
    "        outputs = model(inputs)\n",
    "        loss = criterion(outputs, labels)\n",
    "        \n",
    "        test_loss += loss.item() * inputs.size(0)\n",
    "        predicted = (outputs >= 0.5).float()\n",
    "        correct += (predicted == labels).sum().item()\n",
    "        total += labels.size(0)\n",
    "\n",
    "test_loss /= len(test_dataset)\n",
    "test_acc = correct / total\n",
    "\n",
    "print(f\"Test Loss: {test_loss:.4f}\")\n",
    "print(f\"Test Accuracy: {test_acc:.4f}\")"
   ]
  },
  {
   "cell_type": "code",
   "execution_count": 14,
   "metadata": {},
   "outputs": [
    {
     "name": "stdout",
     "output_type": "stream",
     "text": [
      "              precision    recall  f1-score   support\n",
      "\n",
      "         0.0     0.9437    0.9934    0.9679       456\n",
      "         1.0     0.9940    0.9486    0.9708       525\n",
      "\n",
      "    accuracy                         0.9694       981\n",
      "   macro avg     0.9689    0.9710    0.9694       981\n",
      "weighted avg     0.9706    0.9694    0.9695       981\n",
      "\n",
      "Confusion Matrix:\n",
      "[[453   3]\n",
      " [ 27 498]]\n"
     ]
    }
   ],
   "source": [
    "from sklearn.metrics import classification_report, confusion_matrix\n",
    "\n",
    "# Collect all predictions and labels\n",
    "all_preds = []\n",
    "all_labels = []\n",
    "\n",
    "with torch.no_grad():\n",
    "    for inputs, labels in test_loader:\n",
    "        inputs = inputs.to(device)\n",
    "        labels = labels.to(device).unsqueeze(1)\n",
    "        \n",
    "        outputs = model(inputs)\n",
    "        predicted = (outputs >= 0.5).float()\n",
    "        \n",
    "        all_preds.extend(predicted.cpu().numpy())\n",
    "        all_labels.extend(labels.cpu().numpy())\n",
    "\n",
    "# Classification report\n",
    "print(classification_report(all_labels, all_preds, digits=4))\n",
    "\n",
    "# Confusion matrix\n",
    "cm = confusion_matrix(all_labels, all_preds)\n",
    "print(\"Confusion Matrix:\")\n",
    "print(cm)\n"
   ]
  },
  {
   "cell_type": "code",
   "execution_count": 15,
   "metadata": {},
   "outputs": [
    {
     "data": {
      "image/png": "[encoded data removed]",
      "text/plain": [
       "<Figure size 1200x600 with 2 Axes>"
      ]
     },
     "metadata": {},
     "output_type": "display_data"
    }
   ],
   "source": [
    "plot_training_history(train_losses, val_losses, train_accuracies, val_accuracies)"
   ]
  },
  {
   "cell_type": "code",
   "execution_count": null,
   "metadata": {},
   "outputs": [],
   "source": []
  }
 ],
 "metadata": {
  "kernelspec": {
   "display_name": "esm",
   "language": "python",
   "name": "python3"
  },
  "language_info": {
   "codemirror_mode": {
    "name": "ipython",
    "version": 3
   },
   "file_extension": ".py",
   "mimetype": "text/x-python",
   "name": "python",
   "nbconvert_exporter": "python",
   "pygments_lexer": "ipython3",
   "version": "3.10.15"
  }
 },
 "nbformat": 4,
 "nbformat_minor": 2
}
