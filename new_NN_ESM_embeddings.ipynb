{
 "cells": [
  {
   "cell_type": "markdown",
   "metadata": {},
   "source": []
  },
  {
   "cell_type": "markdown",
   "metadata": {},
   "source": [
    "# Data Preprocessing"
   ]
  },
  {
   "cell_type": "code",
   "execution_count": 1,
   "metadata": {},
   "outputs": [
    {
     "name": "stdout",
     "output_type": "stream",
     "text": [
      "Using device: cuda\n"
     ]
    }
   ],
   "source": [
    "import os\n",
    "import torch\n",
    "from torch.utils.data import Dataset, DataLoader\n",
    "import torch.nn as nn\n",
    "import torch.optim as optim\n",
    "import numpy as np\n",
    "from sklearn.metrics import accuracy_score, precision_score, recall_score, f1_score\n",
    "from sklearn.model_selection import train_test_split\n",
    "from tqdm import tqdm\n",
    "import matplotlib.pyplot as plt\n",
    "from Bio import SeqIO\n",
    "from copy import deepcopy\n",
    "\n",
    "# Set device\n",
    "if torch.cuda.is_available():\n",
    "    device = \"cuda\"\n",
    "elif torch.backends.mps.is_available():\n",
    "    device = \"mps\"\n",
    "else:\n",
    "    device = \"cpu\"\n",
    "\n",
    "print(f\"Using device: {device}\")"
   ]
  },
  {
   "cell_type": "markdown",
   "metadata": {},
   "source": [
    "### Load tensors from precomputed ESM embeddings folders"
   ]
  },
  {
   "cell_type": "code",
   "execution_count": 2,
   "metadata": {},
   "outputs": [
    {
     "name": "stderr",
     "output_type": "stream",
     "text": [
      "Loading positive_protein_embeddings: 100%|██████████| 6947/6947 [00:16<00:00, 408.91it/s]\n",
      "Loading negative_protein_embeddings: 100%|██████████| 6677/6677 [00:15<00:00, 422.06it/s]\n"
     ]
    }
   ],
   "source": [
    "def load_tensors_from_directory(directory):\n",
    "    tensors = []\n",
    "    try:\n",
    "        for filename in tqdm(os.listdir(directory), desc=f\"Loading {directory}\"):\n",
    "            file_path = os.path.join(directory, filename)\n",
    "            if os.path.isfile(file_path):\n",
    "                tensor = torch.load(file_path, weights_only=True)\n",
    "                tensors.append(tensor)\n",
    "        return torch.stack(tensors)\n",
    "    except Exception as e:\n",
    "        print(f\"Error reading directory {directory}: {e}\")\n",
    "        return None\n",
    "\n",
    "# Stack into tensors\n",
    "positive_embeddings = load_tensors_from_directory('positive_protein_embeddings')\n",
    "negative_embeddings = load_tensors_from_directory('negative_protein_embeddings')\n"
   ]
  },
  {
   "cell_type": "markdown",
   "metadata": {},
   "source": [
    "### Create Labeled Dataset"
   ]
  },
  {
   "cell_type": "code",
   "execution_count": 3,
   "metadata": {},
   "outputs": [
    {
     "name": "stdout",
     "output_type": "stream",
     "text": [
      "\n",
      "Combined embeddings shape: torch.Size([13624, 3072])\n",
      "Combined labels shape: torch.Size([13624])\n"
     ]
    }
   ],
   "source": [
    "# Create labels\n",
    "positive_labels = torch.ones(len(positive_embeddings))\n",
    "negative_labels = torch.zeros(len(negative_embeddings))\n",
    "\n",
    "# Combine embeddings with labels\n",
    "all_embeddings = torch.cat([positive_embeddings, negative_embeddings], dim=0)\n",
    "all_labels = torch.cat([positive_labels, negative_labels], dim=0)\n",
    "\n",
    "print(f\"\\nCombined embeddings shape: {all_embeddings.shape}\")\n",
    "print(f\"Combined labels shape: {all_labels.shape}\")"
   ]
  },
  {
   "cell_type": "markdown",
   "metadata": {},
   "source": [
    "### Create a 70/15/15 Train/Dev/Test split"
   ]
  },
  {
   "cell_type": "code",
   "execution_count": 4,
   "metadata": {},
   "outputs": [
    {
     "name": "stdout",
     "output_type": "stream",
     "text": [
      "\n",
      "Data split summary:\n",
      "Training set: 9536 samples\n",
      "  Positive: 4862 (51.0%)\n",
      "  Negative: 4674 (49.0%)\n",
      "\n",
      "Validation set: 2044 samples\n",
      "  Positive: 1043 (51.0%)\n",
      "  Negative: 1001 (49.0%)\n",
      "\n",
      "Test set: 2044 samples\n",
      "  Positive: 1042 (51.0%)\n",
      "  Negative: 1002 (49.0%)\n"
     ]
    }
   ],
   "source": [
    "# Split into train, validation, and test sets\n",
    "X_train, X_temp, y_train, y_temp = train_test_split(\n",
    "    all_embeddings,\n",
    "    all_labels,\n",
    "    test_size=0.3,\n",
    "    random_state=42,\n",
    "    stratify=all_labels\n",
    ")\n",
    "\n",
    "X_val, X_test, y_val, y_test = train_test_split(\n",
    "    X_temp,\n",
    "    y_temp,\n",
    "    test_size=0.5,\n",
    "    random_state=42,\n",
    "    stratify=y_temp\n",
    ")\n",
    "\n",
    "# Move to device and ensure correct dtype\n",
    "X_train = X_train.float().to(device)\n",
    "X_val = X_val.float().to(device)\n",
    "X_test = X_test.float().to(device)\n",
    "y_train = y_train.long().to(device)\n",
    "y_val = y_val.long().to(device)\n",
    "y_test = y_test.long().to(device)\n",
    "\n",
    "# Print shapes and class distributions\n",
    "print(\"\\nData split summary:\")\n",
    "print(f\"Training set: {X_train.shape[0]} samples\")\n",
    "print(f\"  Positive: {torch.sum(y_train == 1)} ({torch.sum(y_train == 1)/len(y_train)*100:.1f}%)\")\n",
    "print(f\"  Negative: {torch.sum(y_train == 0)} ({torch.sum(y_train == 0)/len(y_train)*100:.1f}%)\")\n",
    "\n",
    "print(f\"\\nValidation set: {X_val.shape[0]} samples\")\n",
    "print(f\"  Positive: {torch.sum(y_val == 1)} ({torch.sum(y_val == 1)/len(y_val)*100:.1f}%)\")\n",
    "print(f\"  Negative: {torch.sum(y_val == 0)} ({torch.sum(y_val == 0)/len(y_val)*100:.1f}%)\")\n",
    "\n",
    "print(f\"\\nTest set: {X_test.shape[0]} samples\")\n",
    "print(f\"  Positive: {torch.sum(y_test == 1)} ({torch.sum(y_test == 1)/len(y_test)*100:.1f}%)\")\n",
    "print(f\"  Negative: {torch.sum(y_test == 0)} ({torch.sum(y_test == 0)/len(y_test)*100:.1f}%)\")\n",
    "\n",
    "# Create DataLoader with float labels\n",
    "train_dataset = torch.utils.data.TensorDataset(X_train, y_train.float())\n",
    "val_dataset = torch.utils.data.TensorDataset(X_val, y_val.float())\n",
    "test_dataset = torch.utils.data.TensorDataset(X_test, y_test.float())\n",
    "\n",
    "batch_size = 64\n",
    "train_loader = DataLoader(train_dataset, batch_size=batch_size, shuffle=True)\n",
    "val_loader = DataLoader(val_dataset, batch_size=batch_size, shuffle=False)\n",
    "test_loader = DataLoader(test_dataset, batch_size=batch_size, shuffle=False)"
   ]
  },
  {
   "cell_type": "markdown",
   "metadata": {},
   "source": [
    "# Test Simple Neural Network for Binary Classification"
   ]
  },
  {
   "cell_type": "code",
   "execution_count": 5,
   "metadata": {},
   "outputs": [
    {
     "name": "stderr",
     "output_type": "stream",
     "text": [
      "Training: 100%|██████████| 149/149 [00:01<00:00, 139.24it/s]\n"
     ]
    },
    {
     "name": "stdout",
     "output_type": "stream",
     "text": [
      "\n",
      "Epoch 1/30\n",
      "Train Loss: 0.4939\n",
      "Train Metrics: Accuracy=0.8199, F1=0.8303\n",
      "Val Metrics: Accuracy=0.7921, F1=0.8026\n"
     ]
    },
    {
     "name": "stderr",
     "output_type": "stream",
     "text": [
      "Training: 100%|██████████| 149/149 [00:00<00:00, 186.37it/s]\n"
     ]
    },
    {
     "name": "stdout",
     "output_type": "stream",
     "text": [
      "\n",
      "Epoch 2/30\n",
      "Train Loss: 0.4105\n",
      "Train Metrics: Accuracy=0.8561, F1=0.8644\n",
      "Val Metrics: Accuracy=0.8131, F1=0.8248\n"
     ]
    },
    {
     "name": "stderr",
     "output_type": "stream",
     "text": [
      "Training: 100%|██████████| 149/149 [00:00<00:00, 185.16it/s]\n"
     ]
    },
    {
     "name": "stdout",
     "output_type": "stream",
     "text": [
      "\n",
      "Epoch 3/30\n",
      "Train Loss: 0.3651\n",
      "Train Metrics: Accuracy=0.8813, F1=0.8840\n",
      "Val Metrics: Accuracy=0.8185, F1=0.8222\n"
     ]
    },
    {
     "name": "stderr",
     "output_type": "stream",
     "text": [
      "Training: 100%|██████████| 149/149 [00:00<00:00, 185.55it/s]\n"
     ]
    },
    {
     "name": "stdout",
     "output_type": "stream",
     "text": [
      "\n",
      "Epoch 4/30\n",
      "Train Loss: 0.3194\n",
      "Train Metrics: Accuracy=0.8987, F1=0.9050\n",
      "Val Metrics: Accuracy=0.8312, F1=0.8442\n"
     ]
    },
    {
     "name": "stderr",
     "output_type": "stream",
     "text": [
      "Training: 100%|██████████| 149/149 [00:00<00:00, 186.12it/s]\n"
     ]
    },
    {
     "name": "stdout",
     "output_type": "stream",
     "text": [
      "\n",
      "Epoch 5/30\n",
      "Train Loss: 0.2893\n",
      "Train Metrics: Accuracy=0.9151, F1=0.9147\n",
      "Val Metrics: Accuracy=0.8337, F1=0.8313\n"
     ]
    },
    {
     "name": "stderr",
     "output_type": "stream",
     "text": [
      "Training: 100%|██████████| 149/149 [00:00<00:00, 185.75it/s]\n"
     ]
    },
    {
     "name": "stdout",
     "output_type": "stream",
     "text": [
      "\n",
      "Epoch 6/30\n",
      "Train Loss: 0.2518\n",
      "Train Metrics: Accuracy=0.9340, F1=0.9359\n",
      "Val Metrics: Accuracy=0.8420, F1=0.8468\n"
     ]
    },
    {
     "name": "stderr",
     "output_type": "stream",
     "text": [
      "Training: 100%|██████████| 149/149 [00:00<00:00, 184.87it/s]\n"
     ]
    },
    {
     "name": "stdout",
     "output_type": "stream",
     "text": [
      "\n",
      "Epoch 7/30\n",
      "Train Loss: 0.2203\n",
      "Train Metrics: Accuracy=0.9315, F1=0.9349\n",
      "Val Metrics: Accuracy=0.8439, F1=0.8527\n"
     ]
    },
    {
     "name": "stderr",
     "output_type": "stream",
     "text": [
      "Training: 100%|██████████| 149/149 [00:00<00:00, 184.48it/s]\n"
     ]
    },
    {
     "name": "stdout",
     "output_type": "stream",
     "text": [
      "\n",
      "Epoch 8/30\n",
      "Train Loss: 0.2079\n",
      "Train Metrics: Accuracy=0.9443, F1=0.9472\n",
      "Val Metrics: Accuracy=0.8439, F1=0.8551\n"
     ]
    },
    {
     "name": "stderr",
     "output_type": "stream",
     "text": [
      "Training: 100%|██████████| 149/149 [00:00<00:00, 185.31it/s]\n"
     ]
    },
    {
     "name": "stdout",
     "output_type": "stream",
     "text": [
      "\n",
      "Epoch 9/30\n",
      "Train Loss: 0.1821\n",
      "Train Metrics: Accuracy=0.9567, F1=0.9580\n",
      "Val Metrics: Accuracy=0.8571, F1=0.8616\n"
     ]
    },
    {
     "name": "stderr",
     "output_type": "stream",
     "text": [
      "Training: 100%|██████████| 149/149 [00:00<00:00, 185.77it/s]\n"
     ]
    },
    {
     "name": "stdout",
     "output_type": "stream",
     "text": [
      "\n",
      "Epoch 10/30\n",
      "Train Loss: 0.1640\n",
      "Train Metrics: Accuracy=0.9707, F1=0.9715\n",
      "Val Metrics: Accuracy=0.8576, F1=0.8631\n"
     ]
    },
    {
     "name": "stderr",
     "output_type": "stream",
     "text": [
      "Training: 100%|██████████| 149/149 [00:00<00:00, 184.32it/s]\n"
     ]
    },
    {
     "name": "stdout",
     "output_type": "stream",
     "text": [
      "\n",
      "Epoch 11/30\n",
      "Train Loss: 0.1502\n",
      "Train Metrics: Accuracy=0.9664, F1=0.9672\n",
      "Val Metrics: Accuracy=0.8415, F1=0.8456\n"
     ]
    },
    {
     "name": "stderr",
     "output_type": "stream",
     "text": [
      "Training: 100%|██████████| 149/149 [00:00<00:00, 184.85it/s]\n"
     ]
    },
    {
     "name": "stdout",
     "output_type": "stream",
     "text": [
      "\n",
      "Epoch 12/30\n",
      "Train Loss: 0.1326\n",
      "Train Metrics: Accuracy=0.9773, F1=0.9779\n",
      "Val Metrics: Accuracy=0.8606, F1=0.8641\n"
     ]
    },
    {
     "name": "stderr",
     "output_type": "stream",
     "text": [
      "Training: 100%|██████████| 149/149 [00:00<00:00, 184.85it/s]\n"
     ]
    },
    {
     "name": "stdout",
     "output_type": "stream",
     "text": [
      "\n",
      "Epoch 13/30\n",
      "Train Loss: 0.1234\n",
      "Train Metrics: Accuracy=0.9741, F1=0.9748\n",
      "Val Metrics: Accuracy=0.8425, F1=0.8495\n"
     ]
    },
    {
     "name": "stderr",
     "output_type": "stream",
     "text": [
      "Training: 100%|██████████| 149/149 [00:00<00:00, 183.87it/s]\n"
     ]
    },
    {
     "name": "stdout",
     "output_type": "stream",
     "text": [
      "\n",
      "Epoch 14/30\n",
      "Train Loss: 0.1175\n",
      "Train Metrics: Accuracy=0.9859, F1=0.9863\n",
      "Val Metrics: Accuracy=0.8611, F1=0.8662\n"
     ]
    },
    {
     "name": "stderr",
     "output_type": "stream",
     "text": [
      "Training: 100%|██████████| 149/149 [00:00<00:00, 186.08it/s]\n"
     ]
    },
    {
     "name": "stdout",
     "output_type": "stream",
     "text": [
      "\n",
      "Epoch 15/30\n",
      "Train Loss: 0.1130\n",
      "Train Metrics: Accuracy=0.9839, F1=0.9842\n",
      "Val Metrics: Accuracy=0.8694, F1=0.8732\n"
     ]
    },
    {
     "name": "stderr",
     "output_type": "stream",
     "text": [
      "Training: 100%|██████████| 149/149 [00:00<00:00, 185.46it/s]\n"
     ]
    },
    {
     "name": "stdout",
     "output_type": "stream",
     "text": [
      "\n",
      "Epoch 16/30\n",
      "Train Loss: 0.1027\n",
      "Train Metrics: Accuracy=0.9832, F1=0.9835\n",
      "Val Metrics: Accuracy=0.8483, F1=0.8510\n"
     ]
    },
    {
     "name": "stderr",
     "output_type": "stream",
     "text": [
      "Training: 100%|██████████| 149/149 [00:00<00:00, 184.73it/s]\n"
     ]
    },
    {
     "name": "stdout",
     "output_type": "stream",
     "text": [
      "\n",
      "Epoch 17/30\n",
      "Train Loss: 0.1010\n",
      "Train Metrics: Accuracy=0.9746, F1=0.9754\n",
      "Val Metrics: Accuracy=0.8454, F1=0.8512\n"
     ]
    },
    {
     "name": "stderr",
     "output_type": "stream",
     "text": [
      "Training: 100%|██████████| 149/149 [00:00<00:00, 184.77it/s]\n"
     ]
    },
    {
     "name": "stdout",
     "output_type": "stream",
     "text": [
      "\n",
      "Epoch 18/30\n",
      "Train Loss: 0.0850\n",
      "Train Metrics: Accuracy=0.9892, F1=0.9895\n",
      "Val Metrics: Accuracy=0.8552, F1=0.8617\n"
     ]
    },
    {
     "name": "stderr",
     "output_type": "stream",
     "text": [
      "Training: 100%|██████████| 149/149 [00:00<00:00, 184.68it/s]\n"
     ]
    },
    {
     "name": "stdout",
     "output_type": "stream",
     "text": [
      "\n",
      "Epoch 19/30\n",
      "Train Loss: 0.0794\n",
      "Train Metrics: Accuracy=0.9859, F1=0.9863\n",
      "Val Metrics: Accuracy=0.8552, F1=0.8612\n"
     ]
    },
    {
     "name": "stderr",
     "output_type": "stream",
     "text": [
      "Training: 100%|██████████| 149/149 [00:00<00:00, 185.05it/s]\n"
     ]
    },
    {
     "name": "stdout",
     "output_type": "stream",
     "text": [
      "\n",
      "Epoch 20/30\n",
      "Train Loss: 0.0825\n",
      "Train Metrics: Accuracy=0.9841, F1=0.9843\n",
      "Val Metrics: Accuracy=0.8444, F1=0.8465\n"
     ]
    },
    {
     "name": "stderr",
     "output_type": "stream",
     "text": [
      "Training: 100%|██████████| 149/149 [00:00<00:00, 185.34it/s]\n"
     ]
    },
    {
     "name": "stdout",
     "output_type": "stream",
     "text": [
      "\n",
      "Epoch 21/30\n",
      "Train Loss: 0.0716\n",
      "Train Metrics: Accuracy=0.9929, F1=0.9930\n",
      "Val Metrics: Accuracy=0.8523, F1=0.8559\n"
     ]
    },
    {
     "name": "stderr",
     "output_type": "stream",
     "text": [
      "Training: 100%|██████████| 149/149 [00:00<00:00, 185.44it/s]\n"
     ]
    },
    {
     "name": "stdout",
     "output_type": "stream",
     "text": [
      "\n",
      "Epoch 22/30\n",
      "Train Loss: 0.0726\n",
      "Train Metrics: Accuracy=0.9923, F1=0.9925\n",
      "Val Metrics: Accuracy=0.8640, F1=0.8675\n"
     ]
    },
    {
     "name": "stderr",
     "output_type": "stream",
     "text": [
      "Training: 100%|██████████| 149/149 [00:00<00:00, 186.60it/s]\n"
     ]
    },
    {
     "name": "stdout",
     "output_type": "stream",
     "text": [
      "\n",
      "Epoch 23/30\n",
      "Train Loss: 0.0755\n",
      "Train Metrics: Accuracy=0.9915, F1=0.9917\n",
      "Val Metrics: Accuracy=0.8483, F1=0.8529\n"
     ]
    },
    {
     "name": "stderr",
     "output_type": "stream",
     "text": [
      "Training: 100%|██████████| 149/149 [00:00<00:00, 185.21it/s]\n"
     ]
    },
    {
     "name": "stdout",
     "output_type": "stream",
     "text": [
      "\n",
      "Epoch 24/30\n",
      "Train Loss: 0.0635\n",
      "Train Metrics: Accuracy=0.9915, F1=0.9917\n",
      "Val Metrics: Accuracy=0.8620, F1=0.8682\n"
     ]
    },
    {
     "name": "stderr",
     "output_type": "stream",
     "text": [
      "Training: 100%|██████████| 149/149 [00:00<00:00, 185.74it/s]\n"
     ]
    },
    {
     "name": "stdout",
     "output_type": "stream",
     "text": [
      "\n",
      "Epoch 25/30\n",
      "Train Loss: 0.0594\n",
      "Train Metrics: Accuracy=0.9930, F1=0.9931\n",
      "Val Metrics: Accuracy=0.8493, F1=0.8529\n"
     ]
    },
    {
     "name": "stderr",
     "output_type": "stream",
     "text": [
      "Training: 100%|██████████| 149/149 [00:00<00:00, 185.70it/s]\n"
     ]
    },
    {
     "name": "stdout",
     "output_type": "stream",
     "text": [
      "\n",
      "Epoch 26/30\n",
      "Train Loss: 0.0592\n",
      "Train Metrics: Accuracy=0.9935, F1=0.9936\n",
      "Val Metrics: Accuracy=0.8523, F1=0.8531\n"
     ]
    },
    {
     "name": "stderr",
     "output_type": "stream",
     "text": [
      "Training: 100%|██████████| 149/149 [00:00<00:00, 184.90it/s]\n"
     ]
    },
    {
     "name": "stdout",
     "output_type": "stream",
     "text": [
      "\n",
      "Epoch 27/30\n",
      "Train Loss: 0.0654\n",
      "Train Metrics: Accuracy=0.9938, F1=0.9939\n",
      "Val Metrics: Accuracy=0.8547, F1=0.8558\n"
     ]
    },
    {
     "name": "stderr",
     "output_type": "stream",
     "text": [
      "Training: 100%|██████████| 149/149 [00:00<00:00, 186.46it/s]\n"
     ]
    },
    {
     "name": "stdout",
     "output_type": "stream",
     "text": [
      "\n",
      "Epoch 28/30\n",
      "Train Loss: 0.0562\n",
      "Train Metrics: Accuracy=0.9934, F1=0.9935\n",
      "Val Metrics: Accuracy=0.8508, F1=0.8540\n"
     ]
    },
    {
     "name": "stderr",
     "output_type": "stream",
     "text": [
      "Training: 100%|██████████| 149/149 [00:00<00:00, 187.67it/s]\n"
     ]
    },
    {
     "name": "stdout",
     "output_type": "stream",
     "text": [
      "\n",
      "Epoch 29/30\n",
      "Train Loss: 0.0548\n",
      "Train Metrics: Accuracy=0.9945, F1=0.9947\n",
      "Val Metrics: Accuracy=0.8601, F1=0.8628\n"
     ]
    },
    {
     "name": "stderr",
     "output_type": "stream",
     "text": [
      "Training: 100%|██████████| 149/149 [00:00<00:00, 186.13it/s]\n"
     ]
    },
    {
     "name": "stdout",
     "output_type": "stream",
     "text": [
      "\n",
      "Epoch 30/30\n",
      "Train Loss: 0.0538\n",
      "Train Metrics: Accuracy=0.9948, F1=0.9949\n",
      "Val Metrics: Accuracy=0.8620, F1=0.8694\n",
      "\n",
      "Final Test Set Metrics:\n",
      "Accuracy: 0.8596\n",
      "Precision: 0.8410\n",
      "Recall: 0.8935\n",
      "F1 Score: 0.8664\n"
     ]
    }
   ],
   "source": [
    "class ProteinClassifier(nn.Module):\n",
    "    def __init__(self, input_dim=3072, hidden_dim=1024):\n",
    "        super().__init__()\n",
    "        # Larger network with batch normalization\n",
    "        self.model = nn.Sequential(\n",
    "            nn.Linear(input_dim, hidden_dim),\n",
    "            nn.BatchNorm1d(hidden_dim),\n",
    "            nn.ReLU(),\n",
    "            nn.Dropout(0.2),\n",
    "            \n",
    "            nn.Linear(hidden_dim, hidden_dim // 2),\n",
    "            nn.BatchNorm1d(hidden_dim // 2),\n",
    "            nn.ReLU(),\n",
    "            nn.Dropout(0.2),\n",
    "            \n",
    "            nn.Linear(hidden_dim // 2, hidden_dim // 4),\n",
    "            nn.BatchNorm1d(hidden_dim // 4),\n",
    "            nn.ReLU(),\n",
    "            nn.Dropout(0.1),\n",
    "            \n",
    "            nn.Linear(hidden_dim // 4, 1),\n",
    "            nn.Sigmoid()\n",
    "        )\n",
    "        \n",
    "    def forward(self, x):\n",
    "        return self.model(x).squeeze()\n",
    "\n",
    "# Initialize model, loss function, and optimizer\n",
    "model = ProteinClassifier().to(device)\n",
    "criterion = nn.BCELoss()\n",
    "optimizer = optim.Adam(model.parameters(), lr=0.0003, weight_decay=1e-5)\n",
    "\n",
    "# Training function with gradient clipping to avoid exploding graidents\n",
    "def train_epoch(model, train_loader, criterion, optimizer):\n",
    "    model.train()\n",
    "    total_loss = 0\n",
    "    predictions = []\n",
    "    true_labels = []\n",
    "    \n",
    "    for inputs, labels in tqdm(train_loader, desc=\"Training\"):\n",
    "        inputs, labels = inputs.to(device), labels.to(device)\n",
    "        \n",
    "        # Normalize inputs\n",
    "        inputs = (inputs - inputs.mean(dim=1, keepdim=True)) / (inputs.std(dim=1, keepdim=True) + 1e-8)\n",
    "        \n",
    "        optimizer.zero_grad()\n",
    "        outputs = model(inputs)\n",
    "        loss = criterion(outputs, labels)\n",
    "        loss.backward()\n",
    "        \n",
    "        torch.nn.utils.clip_grad_norm_(model.parameters(), max_norm=1.0)\n",
    "        optimizer.step()\n",
    "        \n",
    "        total_loss += loss.item()\n",
    "        predictions.extend((outputs > 0.5).cpu().numpy())\n",
    "        true_labels.extend(labels.cpu().numpy())\n",
    "    \n",
    "    return total_loss / len(train_loader), predictions, true_labels\n",
    "\n",
    "# Evaluation function\n",
    "def evaluate(model, data_loader):\n",
    "    model.eval()\n",
    "    predictions = []\n",
    "    true_labels = []\n",
    "    \n",
    "    with torch.no_grad():\n",
    "        for inputs, labels in data_loader:\n",
    "            inputs, labels = inputs.to(device), labels.to(device)\n",
    "            # Normalize inputs\n",
    "            inputs = (inputs - inputs.mean(dim=1, keepdim=True)) / (inputs.std(dim=1, keepdim=True) + 1e-8)\n",
    "            outputs = model(inputs)\n",
    "            predictions.extend((outputs > 0.5).cpu().numpy())\n",
    "            true_labels.extend(labels.cpu().numpy())\n",
    "    \n",
    "    return {\n",
    "        'accuracy': accuracy_score(true_labels, predictions),\n",
    "        'precision': precision_score(true_labels, predictions, zero_division=0),\n",
    "        'recall': recall_score(true_labels, predictions, zero_division=0),\n",
    "        'f1': f1_score(true_labels, predictions, zero_division=0)\n",
    "    }\n",
    "\n",
    "# Training loop\n",
    "n_epochs = 30\n",
    "train_losses = []\n",
    "val_metrics = []\n",
    "\n",
    "for epoch in range(n_epochs):\n",
    "    # Train\n",
    "    loss, train_preds, train_labels = train_epoch(model, train_loader, criterion, optimizer)\n",
    "    train_losses.append(loss)\n",
    "    \n",
    "    # Evaluate\n",
    "    train_metrics = evaluate(model, train_loader)\n",
    "    val_metrics_epoch = evaluate(model, val_loader)\n",
    "    val_metrics.append(val_metrics_epoch)\n",
    "    \n",
    "    print(f\"\\nEpoch {epoch+1}/{n_epochs}\")\n",
    "    print(f\"Train Loss: {loss:.4f}\")\n",
    "    print(f\"Train Metrics: Accuracy={train_metrics['accuracy']:.4f}, F1={train_metrics['f1']:.4f}\")\n",
    "    print(f\"Val Metrics: Accuracy={val_metrics_epoch['accuracy']:.4f}, F1={val_metrics_epoch['f1']:.4f}\")\n",
    "\n",
    "# Final evaluation on test set\n",
    "test_metrics = evaluate(model, test_loader)\n",
    "print(\"\\nFinal Test Set Metrics:\")\n",
    "print(f\"Accuracy: {test_metrics['accuracy']:.4f}\")\n",
    "print(f\"Precision: {test_metrics['precision']:.4f}\")\n",
    "print(f\"Recall: {test_metrics['recall']:.4f}\")\n",
    "print(f\"F1 Score: {test_metrics['f1']:.4f}\")"
   ]
  },
  {
   "cell_type": "markdown",
   "metadata": {},
   "source": [
    "### Plot Traning Curves"
   ]
  },
  {
   "cell_type": "code",
   "execution_count": 6,
   "metadata": {},
   "outputs": [
    {
     "data": {
      "image/png": "[encoded data removed]",
      "text/plain": [
       "<Figure size 1000x500 with 2 Axes>"
      ]
     },
     "metadata": {},
     "output_type": "display_data"
    }
   ],
   "source": [
    "plt.figure(figsize=(10, 5))\n",
    "plt.subplot(1, 2, 1)\n",
    "plt.plot(train_losses)\n",
    "plt.title('Training Loss')\n",
    "plt.xlabel('Epoch')\n",
    "plt.ylabel('Loss')\n",
    "\n",
    "plt.subplot(1, 2, 2)\n",
    "plt.plot([m['accuracy'] for m in val_metrics], label='Accuracy')\n",
    "plt.plot([m['f1'] for m in val_metrics], label='F1 Score')\n",
    "plt.title('Validation Metrics')\n",
    "plt.xlabel('Epoch')\n",
    "plt.ylabel('Score')\n",
    "plt.legend()\n",
    "plt.tight_layout()\n",
    "plt.show()"
   ]
  },
  {
   "cell_type": "markdown",
   "metadata": {},
   "source": [
    "# Comprehensive Training Suite to compare Neural Network Models with different hyperparameters"
   ]
  },
  {
   "cell_type": "code",
   "execution_count": 8,
   "metadata": {},
   "outputs": [
    {
     "name": "stdout",
     "output_type": "stream",
     "text": [
      "\n",
      "Training Logistic Regression...\n"
     ]
    },
    {
     "name": "stderr",
     "output_type": "stream",
     "text": [
      "                                                            \r"
     ]
    },
    {
     "name": "stdout",
     "output_type": "stream",
     "text": [
      "\n",
      "Epoch 5/50\n",
      "Train Loss: 0.4884\n",
      "Train Metrics: Accuracy=0.7582, F1=0.7723\n",
      "Val Metrics: Accuracy=0.7549, F1=0.7705\n"
     ]
    },
    {
     "name": "stderr",
     "output_type": "stream",
     "text": [
      "                                                             \r"
     ]
    },
    {
     "name": "stdout",
     "output_type": "stream",
     "text": [
      "\n",
      "Epoch 10/50\n",
      "Train Loss: 0.4638\n",
      "Train Metrics: Accuracy=0.7740, F1=0.7855\n",
      "Val Metrics: Accuracy=0.7701, F1=0.7816\n"
     ]
    },
    {
     "name": "stderr",
     "output_type": "stream",
     "text": [
      "                                                             \r"
     ]
    },
    {
     "name": "stdout",
     "output_type": "stream",
     "text": [
      "\n",
      "Epoch 15/50\n",
      "Train Loss: 0.4501\n",
      "Train Metrics: Accuracy=0.7855, F1=0.7936\n",
      "Val Metrics: Accuracy=0.7774, F1=0.7853\n"
     ]
    },
    {
     "name": "stderr",
     "output_type": "stream",
     "text": [
      "                                                             \r"
     ]
    },
    {
     "name": "stdout",
     "output_type": "stream",
     "text": [
      "\n",
      "Epoch 20/50\n",
      "Train Loss: 0.4388\n",
      "Train Metrics: Accuracy=0.7936, F1=0.8006\n",
      "Val Metrics: Accuracy=0.7896, F1=0.7977\n"
     ]
    },
    {
     "name": "stderr",
     "output_type": "stream",
     "text": [
      "                                                             \r"
     ]
    },
    {
     "name": "stdout",
     "output_type": "stream",
     "text": [
      "\n",
      "Epoch 25/50\n",
      "Train Loss: 0.4285\n",
      "Train Metrics: Accuracy=0.7951, F1=0.8035\n",
      "Val Metrics: Accuracy=0.7798, F1=0.7891\n"
     ]
    },
    {
     "name": "stderr",
     "output_type": "stream",
     "text": [
      "                                                             \r"
     ]
    },
    {
     "name": "stdout",
     "output_type": "stream",
     "text": [
      "\n",
      "Epoch 30/50\n",
      "Train Loss: 0.4237\n",
      "Train Metrics: Accuracy=0.7979, F1=0.8012\n",
      "Val Metrics: Accuracy=0.7828, F1=0.7861\n"
     ]
    },
    {
     "name": "stderr",
     "output_type": "stream",
     "text": [
      "                                                             \r"
     ]
    },
    {
     "name": "stdout",
     "output_type": "stream",
     "text": [
      "\n",
      "Epoch 35/50\n",
      "Train Loss: 0.4160\n",
      "Train Metrics: Accuracy=0.8072, F1=0.8229\n",
      "Val Metrics: Accuracy=0.7906, F1=0.8081\n"
     ]
    },
    {
     "name": "stderr",
     "output_type": "stream",
     "text": [
      "                                                             \r"
     ]
    },
    {
     "name": "stdout",
     "output_type": "stream",
     "text": [
      "\n",
      "Epoch 40/50\n",
      "Train Loss: 0.4091\n",
      "Train Metrics: Accuracy=0.8112, F1=0.8232\n",
      "Val Metrics: Accuracy=0.7945, F1=0.8082\n"
     ]
    },
    {
     "name": "stderr",
     "output_type": "stream",
     "text": [
      "                                                             \r"
     ]
    },
    {
     "name": "stdout",
     "output_type": "stream",
     "text": [
      "\n",
      "Epoch 45/50\n",
      "Train Loss: 0.4116\n",
      "Train Metrics: Accuracy=0.8150, F1=0.8297\n",
      "Val Metrics: Accuracy=0.7906, F1=0.8077\n"
     ]
    },
    {
     "name": "stderr",
     "output_type": "stream",
     "text": [
      "                                                             \r"
     ]
    },
    {
     "name": "stdout",
     "output_type": "stream",
     "text": [
      "\n",
      "Epoch 50/50\n",
      "Train Loss: 0.3997\n",
      "Train Metrics: Accuracy=0.8162, F1=0.8317\n",
      "Val Metrics: Accuracy=0.7994, F1=0.8171\n",
      "\n",
      "Logistic Regression Final Test Metrics:\n",
      "Accuracy: 0.7867\n",
      "Precision: 0.7621\n",
      "Recall: 0.8455\n",
      "F1 Score: 0.8016\n",
      "\n",
      "Training Simple Model...\n"
     ]
    },
    {
     "name": "stderr",
     "output_type": "stream",
     "text": [
      "                                                            \r"
     ]
    },
    {
     "name": "stdout",
     "output_type": "stream",
     "text": [
      "\n",
      "Epoch 5/50\n",
      "Train Loss: 0.3418\n",
      "Train Metrics: Accuracy=0.8661, F1=0.8687\n",
      "Val Metrics: Accuracy=0.8214, F1=0.8254\n"
     ]
    },
    {
     "name": "stderr",
     "output_type": "stream",
     "text": [
      "                                                             \r"
     ]
    },
    {
     "name": "stdout",
     "output_type": "stream",
     "text": [
      "\n",
      "Epoch 10/50\n",
      "Train Loss: 0.2307\n",
      "Train Metrics: Accuracy=0.9385, F1=0.9398\n",
      "Val Metrics: Accuracy=0.8523, F1=0.8563\n"
     ]
    },
    {
     "name": "stderr",
     "output_type": "stream",
     "text": [
      "                                                             \r"
     ]
    },
    {
     "name": "stdout",
     "output_type": "stream",
     "text": [
      "\n",
      "Epoch 15/50\n",
      "Train Loss: 0.1541\n",
      "Train Metrics: Accuracy=0.9735, F1=0.9741\n",
      "Val Metrics: Accuracy=0.8537, F1=0.8584\n"
     ]
    },
    {
     "name": "stderr",
     "output_type": "stream",
     "text": [
      "                                                             \r"
     ]
    },
    {
     "name": "stdout",
     "output_type": "stream",
     "text": [
      "\n",
      "Epoch 20/50\n",
      "Train Loss: 0.1053\n",
      "Train Metrics: Accuracy=0.9770, F1=0.9775\n",
      "Val Metrics: Accuracy=0.8537, F1=0.8580\n"
     ]
    },
    {
     "name": "stderr",
     "output_type": "stream",
     "text": [
      "                                                             \r"
     ]
    },
    {
     "name": "stdout",
     "output_type": "stream",
     "text": [
      "\n",
      "Epoch 25/50\n",
      "Train Loss: 0.0752\n",
      "Train Metrics: Accuracy=0.9864, F1=0.9868\n",
      "Val Metrics: Accuracy=0.8527, F1=0.8598\n"
     ]
    },
    {
     "name": "stderr",
     "output_type": "stream",
     "text": [
      "                                                             \r"
     ]
    },
    {
     "name": "stdout",
     "output_type": "stream",
     "text": [
      "\n",
      "Epoch 30/50\n",
      "Train Loss: 0.0571\n",
      "Train Metrics: Accuracy=0.9966, F1=0.9967\n",
      "Val Metrics: Accuracy=0.8606, F1=0.8617\n"
     ]
    },
    {
     "name": "stderr",
     "output_type": "stream",
     "text": [
      "                                                             \r"
     ]
    },
    {
     "name": "stdout",
     "output_type": "stream",
     "text": [
      "\n",
      "Epoch 35/50\n",
      "Train Loss: 0.0445\n",
      "Train Metrics: Accuracy=0.9855, F1=0.9860\n",
      "Val Metrics: Accuracy=0.8645, F1=0.8747\n"
     ]
    },
    {
     "name": "stderr",
     "output_type": "stream",
     "text": [
      "                                                             \r"
     ]
    },
    {
     "name": "stdout",
     "output_type": "stream",
     "text": [
      "\n",
      "Epoch 40/50\n",
      "Train Loss: 0.0298\n",
      "Train Metrics: Accuracy=0.9980, F1=0.9980\n",
      "Val Metrics: Accuracy=0.8615, F1=0.8630\n"
     ]
    },
    {
     "name": "stderr",
     "output_type": "stream",
     "text": [
      "                                                             \r"
     ]
    },
    {
     "name": "stdout",
     "output_type": "stream",
     "text": [
      "\n",
      "Epoch 45/50\n",
      "Train Loss: 0.0271\n",
      "Train Metrics: Accuracy=0.9984, F1=0.9985\n",
      "Val Metrics: Accuracy=0.8674, F1=0.8684\n"
     ]
    },
    {
     "name": "stderr",
     "output_type": "stream",
     "text": [
      "                                                             \r"
     ]
    },
    {
     "name": "stdout",
     "output_type": "stream",
     "text": [
      "\n",
      "Epoch 50/50\n",
      "Train Loss: 0.0300\n",
      "Train Metrics: Accuracy=0.9945, F1=0.9947\n",
      "Val Metrics: Accuracy=0.8567, F1=0.8615\n",
      "\n",
      "Simple Model Final Test Metrics:\n",
      "Accuracy: 0.8532\n",
      "Precision: 0.8540\n",
      "Recall: 0.8589\n",
      "F1 Score: 0.8565\n",
      "\n",
      "Training Medium Model...\n"
     ]
    },
    {
     "name": "stderr",
     "output_type": "stream",
     "text": [
      "                                                            \r"
     ]
    },
    {
     "name": "stdout",
     "output_type": "stream",
     "text": [
      "\n",
      "Epoch 5/50\n",
      "Train Loss: 0.2789\n",
      "Train Metrics: Accuracy=0.9220, F1=0.9267\n",
      "Val Metrics: Accuracy=0.8488, F1=0.8605\n"
     ]
    },
    {
     "name": "stderr",
     "output_type": "stream",
     "text": [
      "                                                             \r"
     ]
    },
    {
     "name": "stdout",
     "output_type": "stream",
     "text": [
      "\n",
      "Epoch 10/50\n",
      "Train Loss: 0.1648\n",
      "Train Metrics: Accuracy=0.9691, F1=0.9696\n",
      "Val Metrics: Accuracy=0.8469, F1=0.8475\n"
     ]
    },
    {
     "name": "stderr",
     "output_type": "stream",
     "text": [
      "                                                             \r"
     ]
    },
    {
     "name": "stdout",
     "output_type": "stream",
     "text": [
      "\n",
      "Epoch 15/50\n",
      "Train Loss: 0.1120\n",
      "Train Metrics: Accuracy=0.9782, F1=0.9789\n",
      "Val Metrics: Accuracy=0.8562, F1=0.8624\n"
     ]
    },
    {
     "name": "stderr",
     "output_type": "stream",
     "text": [
      "                                                             \r"
     ]
    },
    {
     "name": "stdout",
     "output_type": "stream",
     "text": [
      "\n",
      "Epoch 20/50\n",
      "Train Loss: 0.0790\n",
      "Train Metrics: Accuracy=0.9902, F1=0.9904\n",
      "Val Metrics: Accuracy=0.8625, F1=0.8668\n"
     ]
    },
    {
     "name": "stderr",
     "output_type": "stream",
     "text": [
      "                                                             \r"
     ]
    },
    {
     "name": "stdout",
     "output_type": "stream",
     "text": [
      "\n",
      "Epoch 25/50\n",
      "Train Loss: 0.0711\n",
      "Train Metrics: Accuracy=0.9904, F1=0.9906\n",
      "Val Metrics: Accuracy=0.8586, F1=0.8659\n"
     ]
    },
    {
     "name": "stderr",
     "output_type": "stream",
     "text": [
      "                                                             \r"
     ]
    },
    {
     "name": "stdout",
     "output_type": "stream",
     "text": [
      "\n",
      "Epoch 30/50\n",
      "Train Loss: 0.0602\n",
      "Train Metrics: Accuracy=0.9928, F1=0.9929\n",
      "Val Metrics: Accuracy=0.8493, F1=0.8498\n"
     ]
    },
    {
     "name": "stderr",
     "output_type": "stream",
     "text": [
      "                                                             \r"
     ]
    },
    {
     "name": "stdout",
     "output_type": "stream",
     "text": [
      "\n",
      "Epoch 35/50\n",
      "Train Loss: 0.0428\n",
      "Train Metrics: Accuracy=0.9955, F1=0.9956\n",
      "Val Metrics: Accuracy=0.8635, F1=0.8690\n"
     ]
    },
    {
     "name": "stderr",
     "output_type": "stream",
     "text": [
      "                                                             \r"
     ]
    },
    {
     "name": "stdout",
     "output_type": "stream",
     "text": [
      "\n",
      "Epoch 40/50\n",
      "Train Loss: 0.0417\n",
      "Train Metrics: Accuracy=0.9979, F1=0.9979\n",
      "Val Metrics: Accuracy=0.8684, F1=0.8721\n"
     ]
    },
    {
     "name": "stderr",
     "output_type": "stream",
     "text": [
      "                                                             \r"
     ]
    },
    {
     "name": "stdout",
     "output_type": "stream",
     "text": [
      "\n",
      "Epoch 45/50\n",
      "Train Loss: 0.0364\n",
      "Train Metrics: Accuracy=0.9958, F1=0.9959\n",
      "Val Metrics: Accuracy=0.8664, F1=0.8726\n"
     ]
    },
    {
     "name": "stderr",
     "output_type": "stream",
     "text": [
      "                                                             \r"
     ]
    },
    {
     "name": "stdout",
     "output_type": "stream",
     "text": [
      "\n",
      "Epoch 50/50\n",
      "Train Loss: 0.0376\n",
      "Train Metrics: Accuracy=0.9983, F1=0.9984\n",
      "Val Metrics: Accuracy=0.8586, F1=0.8587\n",
      "\n",
      "Medium Model Final Test Metrics:\n",
      "Accuracy: 0.8620\n",
      "Precision: 0.8532\n",
      "Recall: 0.8810\n",
      "F1 Score: 0.8669\n",
      "\n",
      "Training Large Model...\n"
     ]
    },
    {
     "name": "stderr",
     "output_type": "stream",
     "text": [
      "                                                              \r"
     ]
    },
    {
     "name": "stdout",
     "output_type": "stream",
     "text": [
      "\n",
      "Epoch 5/50\n",
      "Train Loss: 0.3216\n",
      "Train Metrics: Accuracy=0.8989, F1=0.9055\n",
      "Val Metrics: Accuracy=0.8346, F1=0.8468\n"
     ]
    },
    {
     "name": "stderr",
     "output_type": "stream",
     "text": [
      "                                                               \r"
     ]
    },
    {
     "name": "stdout",
     "output_type": "stream",
     "text": [
      "\n",
      "Epoch 10/50\n",
      "Train Loss: 0.2220\n",
      "Train Metrics: Accuracy=0.9536, F1=0.9561\n",
      "Val Metrics: Accuracy=0.8542, F1=0.8658\n"
     ]
    },
    {
     "name": "stderr",
     "output_type": "stream",
     "text": [
      "                                                               \r"
     ]
    },
    {
     "name": "stdout",
     "output_type": "stream",
     "text": [
      "\n",
      "Epoch 15/50\n",
      "Train Loss: 0.1605\n",
      "Train Metrics: Accuracy=0.9780, F1=0.9786\n",
      "Val Metrics: Accuracy=0.8650, F1=0.8719\n"
     ]
    },
    {
     "name": "stderr",
     "output_type": "stream",
     "text": [
      "                                                               \r"
     ]
    },
    {
     "name": "stdout",
     "output_type": "stream",
     "text": [
      "\n",
      "Epoch 20/50\n",
      "Train Loss: 0.1162\n",
      "Train Metrics: Accuracy=0.9689, F1=0.9702\n",
      "Val Metrics: Accuracy=0.8615, F1=0.8717\n"
     ]
    },
    {
     "name": "stderr",
     "output_type": "stream",
     "text": [
      "                                                               \r"
     ]
    },
    {
     "name": "stdout",
     "output_type": "stream",
     "text": [
      "\n",
      "Epoch 25/50\n",
      "Train Loss: 0.0988\n",
      "Train Metrics: Accuracy=0.9875, F1=0.9878\n",
      "Val Metrics: Accuracy=0.8694, F1=0.8711\n"
     ]
    },
    {
     "name": "stderr",
     "output_type": "stream",
     "text": [
      "                                                               \r"
     ]
    },
    {
     "name": "stdout",
     "output_type": "stream",
     "text": [
      "\n",
      "Epoch 30/50\n",
      "Train Loss: 0.0887\n",
      "Train Metrics: Accuracy=0.9934, F1=0.9935\n",
      "Val Metrics: Accuracy=0.8674, F1=0.8731\n"
     ]
    },
    {
     "name": "stderr",
     "output_type": "stream",
     "text": [
      "                                                               \r"
     ]
    },
    {
     "name": "stdout",
     "output_type": "stream",
     "text": [
      "\n",
      "Epoch 35/50\n",
      "Train Loss: 0.0784\n",
      "Train Metrics: Accuracy=0.9894, F1=0.9897\n",
      "Val Metrics: Accuracy=0.8640, F1=0.8734\n"
     ]
    },
    {
     "name": "stderr",
     "output_type": "stream",
     "text": [
      "                                                               \r"
     ]
    },
    {
     "name": "stdout",
     "output_type": "stream",
     "text": [
      "\n",
      "Epoch 40/50\n",
      "Train Loss: 0.0699\n",
      "Train Metrics: Accuracy=0.9963, F1=0.9964\n",
      "Val Metrics: Accuracy=0.8718, F1=0.8750\n"
     ]
    },
    {
     "name": "stderr",
     "output_type": "stream",
     "text": [
      "                                                               \r"
     ]
    },
    {
     "name": "stdout",
     "output_type": "stream",
     "text": [
      "\n",
      "Epoch 45/50\n",
      "Train Loss: 0.0630\n",
      "Train Metrics: Accuracy=0.9931, F1=0.9932\n",
      "Val Metrics: Accuracy=0.8547, F1=0.8615\n"
     ]
    },
    {
     "name": "stderr",
     "output_type": "stream",
     "text": [
      "                                                               \r"
     ]
    },
    {
     "name": "stdout",
     "output_type": "stream",
     "text": [
      "\n",
      "Epoch 50/50\n",
      "Train Loss: 0.0523\n",
      "Train Metrics: Accuracy=0.9944, F1=0.9946\n",
      "Val Metrics: Accuracy=0.8748, F1=0.8804\n",
      "\n",
      "Large Model Final Test Metrics:\n",
      "Accuracy: 0.8645\n",
      "Precision: 0.8424\n",
      "Recall: 0.9031\n",
      "F1 Score: 0.8717\n",
      "\n",
      "Training Deep Model...\n"
     ]
    },
    {
     "name": "stderr",
     "output_type": "stream",
     "text": [
      "                                                             \r"
     ]
    },
    {
     "name": "stdout",
     "output_type": "stream",
     "text": [
      "\n",
      "Epoch 5/50\n",
      "Train Loss: 0.3310\n",
      "Train Metrics: Accuracy=0.9018, F1=0.9065\n",
      "Val Metrics: Accuracy=0.8395, F1=0.8494\n"
     ]
    },
    {
     "name": "stderr",
     "output_type": "stream",
     "text": [
      "                                                              \r"
     ]
    },
    {
     "name": "stdout",
     "output_type": "stream",
     "text": [
      "\n",
      "Epoch 10/50\n",
      "Train Loss: 0.2222\n",
      "Train Metrics: Accuracy=0.9369, F1=0.9391\n",
      "Val Metrics: Accuracy=0.8425, F1=0.8508\n"
     ]
    },
    {
     "name": "stderr",
     "output_type": "stream",
     "text": [
      "                                                              \r"
     ]
    },
    {
     "name": "stdout",
     "output_type": "stream",
     "text": [
      "\n",
      "Epoch 15/50\n",
      "Train Loss: 0.1627\n",
      "Train Metrics: Accuracy=0.9758, F1=0.9764\n",
      "Val Metrics: Accuracy=0.8562, F1=0.8604\n"
     ]
    },
    {
     "name": "stderr",
     "output_type": "stream",
     "text": [
      "                                                              \r"
     ]
    },
    {
     "name": "stdout",
     "output_type": "stream",
     "text": [
      "\n",
      "Epoch 20/50\n",
      "Train Loss: 0.1303\n",
      "Train Metrics: Accuracy=0.9825, F1=0.9829\n",
      "Val Metrics: Accuracy=0.8576, F1=0.8631\n"
     ]
    },
    {
     "name": "stderr",
     "output_type": "stream",
     "text": [
      "                                                              \r"
     ]
    },
    {
     "name": "stdout",
     "output_type": "stream",
     "text": [
      "\n",
      "Epoch 25/50\n",
      "Train Loss: 0.0994\n",
      "Train Metrics: Accuracy=0.9889, F1=0.9891\n",
      "Val Metrics: Accuracy=0.8606, F1=0.8647\n"
     ]
    },
    {
     "name": "stderr",
     "output_type": "stream",
     "text": [
      "                                                              \r"
     ]
    },
    {
     "name": "stdout",
     "output_type": "stream",
     "text": [
      "\n",
      "Epoch 30/50\n",
      "Train Loss: 0.0878\n",
      "Train Metrics: Accuracy=0.9915, F1=0.9917\n",
      "Val Metrics: Accuracy=0.8601, F1=0.8645\n"
     ]
    },
    {
     "name": "stderr",
     "output_type": "stream",
     "text": [
      "                                                              \r"
     ]
    },
    {
     "name": "stdout",
     "output_type": "stream",
     "text": [
      "\n",
      "Epoch 35/50\n",
      "Train Loss: 0.0826\n",
      "Train Metrics: Accuracy=0.9914, F1=0.9916\n",
      "Val Metrics: Accuracy=0.8635, F1=0.8708\n"
     ]
    },
    {
     "name": "stderr",
     "output_type": "stream",
     "text": [
      "                                                              \r"
     ]
    },
    {
     "name": "stdout",
     "output_type": "stream",
     "text": [
      "\n",
      "Epoch 40/50\n",
      "Train Loss: 0.0707\n",
      "Train Metrics: Accuracy=0.9959, F1=0.9960\n",
      "Val Metrics: Accuracy=0.8630, F1=0.8647\n"
     ]
    },
    {
     "name": "stderr",
     "output_type": "stream",
     "text": [
      "                                                              \r"
     ]
    },
    {
     "name": "stdout",
     "output_type": "stream",
     "text": [
      "\n",
      "Epoch 45/50\n",
      "Train Loss: 0.0563\n",
      "Train Metrics: Accuracy=0.9969, F1=0.9969\n",
      "Val Metrics: Accuracy=0.8532, F1=0.8565\n"
     ]
    },
    {
     "name": "stderr",
     "output_type": "stream",
     "text": [
      "                                                              \r"
     ]
    },
    {
     "name": "stdout",
     "output_type": "stream",
     "text": [
      "\n",
      "Epoch 50/50\n",
      "Train Loss: 0.0541\n",
      "Train Metrics: Accuracy=0.9963, F1=0.9964\n",
      "Val Metrics: Accuracy=0.8679, F1=0.8747\n",
      "\n",
      "Deep Model Final Test Metrics:\n",
      "Accuracy: 0.8635\n",
      "Precision: 0.8434\n",
      "Recall: 0.8992\n",
      "F1 Score: 0.8704\n"
     ]
    },
    {
     "data": {
      "image/png": "[encoded data removed]",
      "text/plain": [
       "<Figure size 1500x1000 with 2 Axes>"
      ]
     },
     "metadata": {},
     "output_type": "display_data"
    },
    {
     "name": "stdout",
     "output_type": "stream",
     "text": [
      "\n",
      "Model Comparison:\n",
      "--------------------------------------------------------------------------------\n",
      "Model                Accuracy   Precision  Recall     F1 Score  \n",
      "--------------------------------------------------------------------------------\n",
      "Logistic Regression  0.7867     0.7621     0.8455     0.8016\n",
      "Simple Model         0.8532     0.8540     0.8589     0.8565\n",
      "Medium Model         0.8620     0.8532     0.8810     0.8669\n",
      "Large Model          0.8645     0.8424     0.9031     0.8717\n",
      "Deep Model           0.8635     0.8434     0.8992     0.8704\n"
     ]
    }
   ],
   "source": [
    "# Model configurations with different hyperparameters (layers, dropout, learning rates, batch sizes, etc)\n",
    "model_configs = [\n",
    "    {\n",
    "        \"name\": \"Logistic Regression\",\n",
    "        \"hidden_dims\": [],\n",
    "        \"dropout_rates\": [],\n",
    "        \"learning_rate\": 0.001,\n",
    "        \"weight_decay\": 0,\n",
    "        \"batch_size\": 256\n",
    "    },\n",
    "    {\n",
    "        \"name\": \"Simple Model\",\n",
    "        \"hidden_dims\": [128],\n",
    "        \"dropout_rates\": [0.1],\n",
    "        \"learning_rate\": 0.001,\n",
    "        \"weight_decay\": 0,\n",
    "        \"batch_size\": 256\n",
    "    },\n",
    "    {\n",
    "        \"name\": \"Medium Model\",\n",
    "        \"hidden_dims\": [512, 256, 128],\n",
    "        \"dropout_rates\": [0.2, 0.2, 0.1],\n",
    "        \"learning_rate\": 0.0003,\n",
    "        \"weight_decay\": 1e-5,\n",
    "        \"batch_size\": 128\n",
    "    },\n",
    "    {\n",
    "        \"name\": \"Large Model\",\n",
    "        \"hidden_dims\": [1024, 512, 256, 128],\n",
    "        \"dropout_rates\": [0.3, 0.3, 0.2, 0.1],\n",
    "        \"learning_rate\": 0.0001,\n",
    "        \"weight_decay\": 1e-5,\n",
    "        \"batch_size\": 64\n",
    "    },\n",
    "    {\n",
    "        \"name\": \"Deep Model\",\n",
    "        \"hidden_dims\": [512, 256, 128, 64, 32],\n",
    "        \"dropout_rates\": [0.2, 0.2, 0.2, 0.1, 0.1],\n",
    "        \"learning_rate\": 0.0002,\n",
    "        \"weight_decay\": 1e-5,\n",
    "        \"batch_size\": 96\n",
    "    }\n",
    "]\n",
    "class ProteinClassifier(nn.Module):\n",
    "    def __init__(self, input_dim=3072, hidden_dims=[1024, 512, 256], dropout_rates=[0.2, 0.2, 0.1]):\n",
    "        super().__init__()\n",
    "        \n",
    "        layers = []\n",
    "        current_dim = input_dim\n",
    "        \n",
    "        for i, hidden_dim in enumerate(hidden_dims):\n",
    "            layers.extend([\n",
    "                nn.Linear(current_dim, hidden_dim),\n",
    "                nn.BatchNorm1d(hidden_dim),\n",
    "                nn.ReLU(),\n",
    "                nn.Dropout(dropout_rates[i])\n",
    "            ])\n",
    "            current_dim = hidden_dim\n",
    "            \n",
    "        # Output layer\n",
    "        layers.extend([\n",
    "            nn.Linear(current_dim, 1),\n",
    "            nn.Sigmoid()\n",
    "        ])\n",
    "        \n",
    "        self.model = nn.Sequential(*layers)\n",
    "        \n",
    "    def forward(self, x):\n",
    "        return self.model(x).squeeze()\n",
    "\n",
    "def train_and_evaluate_model(config, n_epochs=50):\n",
    "    print(f\"\\nTraining {config['name']}...\")\n",
    "    \n",
    "    # Initialize model\n",
    "    model = ProteinClassifier(\n",
    "        hidden_dims=config['hidden_dims'],\n",
    "        dropout_rates=config['dropout_rates']\n",
    "    ).to(device)\n",
    "    \n",
    "    # Set up training\n",
    "    criterion = nn.BCELoss()\n",
    "    optimizer = optim.Adam(\n",
    "        model.parameters(), \n",
    "        lr=config['learning_rate'], \n",
    "        weight_decay=config['weight_decay']\n",
    "    )\n",
    "    \n",
    "    # Create data loaders\n",
    "    train_loader = DataLoader(train_dataset, batch_size=config['batch_size'], shuffle=True)\n",
    "    val_loader = DataLoader(val_dataset, batch_size=config['batch_size'], shuffle=False)\n",
    "    test_loader = DataLoader(test_dataset, batch_size=config['batch_size'], shuffle=False)\n",
    "    \n",
    "    train_losses = []\n",
    "    val_metrics = []\n",
    "    best_val_f1 = 0\n",
    "    best_model = None\n",
    "    \n",
    "    for epoch in range(n_epochs):\n",
    "        # Train\n",
    "        model.train()\n",
    "        total_loss = 0\n",
    "        predictions = []\n",
    "        true_labels = []\n",
    "        \n",
    "        for inputs, labels in tqdm(train_loader, desc=f\"Epoch {epoch+1}/{n_epochs}\", leave=False):\n",
    "            inputs, labels = inputs.to(device), labels.to(device)\n",
    "            \n",
    "            # Normalize inputs\n",
    "            inputs = (inputs - inputs.mean(dim=1, keepdim=True)) / (inputs.std(dim=1, keepdim=True) + 1e-8)\n",
    "            \n",
    "            optimizer.zero_grad()\n",
    "            outputs = model(inputs)\n",
    "            loss = criterion(outputs, labels)\n",
    "            loss.backward()\n",
    "            torch.nn.utils.clip_grad_norm_(model.parameters(), max_norm=1.0)\n",
    "            optimizer.step()\n",
    "            \n",
    "            total_loss += loss.item()\n",
    "            predictions.extend((outputs > 0.5).cpu().numpy())\n",
    "            true_labels.extend(labels.cpu().numpy())\n",
    "        \n",
    "        avg_loss = total_loss / len(train_loader)\n",
    "        train_losses.append(avg_loss)\n",
    "        \n",
    "        # Evaluate\n",
    "        train_metrics = evaluate(model, train_loader)\n",
    "        val_metrics_epoch = evaluate(model, val_loader)\n",
    "        val_metrics.append(val_metrics_epoch)\n",
    "        \n",
    "        # Save best model to evaluate for the test set\n",
    "        if val_metrics_epoch['f1'] > best_val_f1:\n",
    "            best_val_f1 = val_metrics_epoch['f1']\n",
    "            best_model = deepcopy(model.state_dict())\n",
    "        \n",
    "        if (epoch + 1) % 5 == 0:  # Print every 5 epochs\n",
    "            print(f\"\\nEpoch {epoch+1}/{n_epochs}\")\n",
    "            print(f\"Train Loss: {avg_loss:.4f}\")\n",
    "            print(f\"Train Metrics: Accuracy={train_metrics['accuracy']:.4f}, F1={train_metrics['f1']:.4f}\")\n",
    "            print(f\"Val Metrics: Accuracy={val_metrics_epoch['accuracy']:.4f}, F1={val_metrics_epoch['f1']:.4f}\")\n",
    "    \n",
    "    # Load best model and evaluate on test set\n",
    "    model.load_state_dict(best_model)\n",
    "    test_metrics = evaluate(model, test_loader)\n",
    "    \n",
    "    return {\n",
    "        'name': config['name'],\n",
    "        'train_losses': train_losses,\n",
    "        'val_metrics': val_metrics,\n",
    "        'test_metrics': test_metrics,\n",
    "        'model': model\n",
    "    }\n",
    "\n",
    "def evaluate(model, data_loader):\n",
    "    model.eval()\n",
    "    predictions = []\n",
    "    true_labels = []\n",
    "    \n",
    "    with torch.no_grad():\n",
    "        for inputs, labels in data_loader:\n",
    "            inputs, labels = inputs.to(device), labels.to(device)\n",
    "            inputs = (inputs - inputs.mean(dim=1, keepdim=True)) / (inputs.std(dim=1, keepdim=True) + 1e-8)\n",
    "            outputs = model(inputs)\n",
    "            predictions.extend((outputs > 0.5).cpu().numpy())\n",
    "            true_labels.extend(labels.cpu().numpy())\n",
    "    \n",
    "    return {\n",
    "        'accuracy': accuracy_score(true_labels, predictions),\n",
    "        'precision': precision_score(true_labels, predictions, zero_division=0),\n",
    "        'recall': recall_score(true_labels, predictions, zero_division=0),\n",
    "        'f1': f1_score(true_labels, predictions, zero_division=0)\n",
    "    }\n",
    "\n",
    "# Train all models\n",
    "results = []\n",
    "for config in model_configs:\n",
    "    result = train_and_evaluate_model(config)\n",
    "    results.append(result)\n",
    "    \n",
    "    print(f\"\\n{result['name']} Final Test Metrics:\")\n",
    "    print(f\"Accuracy: {result['test_metrics']['accuracy']:.4f}\")\n",
    "    print(f\"Precision: {result['test_metrics']['precision']:.4f}\")\n",
    "    print(f\"Recall: {result['test_metrics']['recall']:.4f}\")\n",
    "    print(f\"F1 Score: {result['test_metrics']['f1']:.4f}\")\n",
    "\n",
    "# Plot results\n",
    "plt.figure(figsize=(15, 10))\n",
    "\n",
    "# Plot training losses\n",
    "plt.subplot(2, 1, 1)\n",
    "for result in results:\n",
    "    plt.plot(result['train_losses'], label=result['name'])\n",
    "plt.title('Training Losses')\n",
    "plt.xlabel('Epoch')\n",
    "plt.ylabel('Loss')\n",
    "plt.legend()\n",
    "\n",
    "# Plot validation F1 scores\n",
    "plt.subplot(2, 1, 2)\n",
    "for result in results:\n",
    "    f1_scores = [m['f1'] for m in result['val_metrics']]\n",
    "    plt.plot(f1_scores, label=result['name'])\n",
    "plt.title('Validation F1 Scores')\n",
    "plt.xlabel('Epoch')\n",
    "plt.ylabel('F1 Score')\n",
    "plt.legend()\n",
    "\n",
    "plt.tight_layout()\n",
    "plt.show()\n",
    "\n",
    "# Print comparison table\n",
    "print(\"\\nModel Comparison:\")\n",
    "print(\"-\" * 80)\n",
    "print(f\"{'Model':20} {'Accuracy':10} {'Precision':10} {'Recall':10} {'F1 Score':10}\")\n",
    "print(\"-\" * 80)\n",
    "for result in results:\n",
    "    metrics = result['test_metrics']\n",
    "    print(f\"{result['name']:20} \"\n",
    "          f\"{metrics['accuracy']:.4f}     \"\n",
    "          f\"{metrics['precision']:.4f}     \"\n",
    "          f\"{metrics['recall']:.4f}     \"\n",
    "          f\"{metrics['f1']:.4f}\")"
   ]
  }
 ],
 "metadata": {
  "kernelspec": {
   "display_name": "esm",
   "language": "python",
   "name": "python3"
  },
  "language_info": {
   "codemirror_mode": {
    "name": "ipython",
    "version": 3
   },
   "file_extension": ".py",
   "mimetype": "text/x-python",
   "name": "python",
   "nbconvert_exporter": "python",
   "pygments_lexer": "ipython3",
   "version": "3.10.15"
  }
 },
 "nbformat": 4,
 "nbformat_minor": 2
}
